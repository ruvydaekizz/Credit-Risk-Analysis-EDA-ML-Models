{
 "cells": [
  {
   "cell_type": "markdown",
   "id": "55d86885",
   "metadata": {},
   "source": [
    " "
   ]
  },
  {
   "cell_type": "markdown",
   "id": "61c61da6",
   "metadata": {},
   "source": [
    "**<span style=\"font-size:40px; color:black;\">Techcareer Mezuniyet Projesi</span>**"
   ]
  },
  {
   "cell_type": "markdown",
   "id": "a24c85db",
   "metadata": {},
   "source": [
    "## Proje Gereksinimleri\n",
    "### 1. Veri Keşfetme (EDA)\n",
    "   - 1.1. Keşifçi Analiz (EDA)\n",
    "   - 1.2. Gerekli Görsel Analizler\n",
    "   - 1.3. Cevaplanması Gereken Sorular\n",
    "### 2. Veri Temizleme ve Ön İşleme\n",
    "   - 2.1. Eksik Değerlerin Ele Alınması\n",
    "   - 2.2. Kategorik Değişkenlerin Kodlanması\n",
    "   - 2.3. Özellik Ölçekleme\n",
    "### 3. Özellik Mühendisliği\n",
    "   - 3.1. Alan bilgisine dayalı olarak yeni özellikler\n",
    "   - 3.2. Yüksek korelasyona sahip özellikleri (korelasyon katsayısı > 0.9) belirleyip kaldırın.\n",
    "### 4. Model Uygulaması\n",
    "   - 4.1. Lojistik Regresyon\n",
    "   - 4.2. KNN Sınıflandırma\n",
    "### 5. Model Değerlendirmesi \n",
    "   - 5.1. Her iki modeli aşağıdaki metriklerle değerlendirin.\n",
    "   - 5.2. Lojistik Regresyon ve KNN sonuçlarını karşılaştırın. Hangi model daha iyi performans gösteriyor? Neden?"
   ]
  },
  {
   "cell_type": "code",
   "execution_count": 1,
   "id": "9d10d4c9",
   "metadata": {},
   "outputs": [],
   "source": [
    "# Kullanacağımız kütüphaneleri yükleyelim.\n",
    "\n",
    "# Pandas ve NumPy\n",
    "import pandas as pd\n",
    "import numpy as np\n",
    "\n",
    "# Görselleştirme kütüphaneleri\n",
    "import matplotlib.pyplot as plt\n",
    "import seaborn as sns"
   ]
  },
  {
   "cell_type": "code",
   "execution_count": 2,
   "id": "f5abcdae",
   "metadata": {},
   "outputs": [],
   "source": [
    "# Veri setini notebook içerisine dahil edelim.\n",
    "\n",
    "df = pd.read_csv(\"final_data.csv\")"
   ]
  },
  {
   "cell_type": "markdown",
   "id": "72e05505",
   "metadata": {},
   "source": [
    "**<span style=\"font-size:33px; color:black;\">1. Veri Keşfetme(EDA)</span>**\n"
   ]
  },
  {
   "cell_type": "markdown",
   "id": "e3af8953",
   "metadata": {},
   "source": [
    "# 1.1. Keşifçi Analiz (EDA)"
   ]
  },
  {
   "cell_type": "code",
   "execution_count": 3,
   "id": "bf0f6122",
   "metadata": {
    "scrolled": false
   },
   "outputs": [
    {
     "data": {
      "text/html": [
       "<div>\n",
       "<style scoped>\n",
       "    .dataframe tbody tr th:only-of-type {\n",
       "        vertical-align: middle;\n",
       "    }\n",
       "\n",
       "    .dataframe tbody tr th {\n",
       "        vertical-align: top;\n",
       "    }\n",
       "\n",
       "    .dataframe thead th {\n",
       "        text-align: right;\n",
       "    }\n",
       "</style>\n",
       "<table border=\"1\" class=\"dataframe\">\n",
       "  <thead>\n",
       "    <tr style=\"text-align: right;\">\n",
       "      <th></th>\n",
       "      <th>Unnamed: 0.1</th>\n",
       "      <th>Unnamed: 0</th>\n",
       "      <th>Age</th>\n",
       "      <th>Sex</th>\n",
       "      <th>Job</th>\n",
       "      <th>Housing</th>\n",
       "      <th>Saving accounts</th>\n",
       "      <th>Checking account</th>\n",
       "      <th>Credit amount</th>\n",
       "      <th>Duration</th>\n",
       "      <th>Purpose</th>\n",
       "      <th>Risk</th>\n",
       "    </tr>\n",
       "  </thead>\n",
       "  <tbody>\n",
       "    <tr>\n",
       "      <th>0</th>\n",
       "      <td>0</td>\n",
       "      <td>0</td>\n",
       "      <td>67</td>\n",
       "      <td>male</td>\n",
       "      <td>2</td>\n",
       "      <td>own</td>\n",
       "      <td>NaN</td>\n",
       "      <td>little</td>\n",
       "      <td>1169</td>\n",
       "      <td>6</td>\n",
       "      <td>radio/TV</td>\n",
       "      <td>1</td>\n",
       "    </tr>\n",
       "    <tr>\n",
       "      <th>1</th>\n",
       "      <td>1</td>\n",
       "      <td>1</td>\n",
       "      <td>22</td>\n",
       "      <td>female</td>\n",
       "      <td>2</td>\n",
       "      <td>own</td>\n",
       "      <td>little</td>\n",
       "      <td>moderate</td>\n",
       "      <td>5951</td>\n",
       "      <td>48</td>\n",
       "      <td>radio/TV</td>\n",
       "      <td>0</td>\n",
       "    </tr>\n",
       "    <tr>\n",
       "      <th>2</th>\n",
       "      <td>2</td>\n",
       "      <td>2</td>\n",
       "      <td>49</td>\n",
       "      <td>male</td>\n",
       "      <td>1</td>\n",
       "      <td>own</td>\n",
       "      <td>little</td>\n",
       "      <td>NaN</td>\n",
       "      <td>2096</td>\n",
       "      <td>12</td>\n",
       "      <td>education</td>\n",
       "      <td>1</td>\n",
       "    </tr>\n",
       "    <tr>\n",
       "      <th>3</th>\n",
       "      <td>3</td>\n",
       "      <td>3</td>\n",
       "      <td>45</td>\n",
       "      <td>male</td>\n",
       "      <td>2</td>\n",
       "      <td>free</td>\n",
       "      <td>little</td>\n",
       "      <td>little</td>\n",
       "      <td>7882</td>\n",
       "      <td>42</td>\n",
       "      <td>furniture/equipment</td>\n",
       "      <td>1</td>\n",
       "    </tr>\n",
       "    <tr>\n",
       "      <th>4</th>\n",
       "      <td>4</td>\n",
       "      <td>4</td>\n",
       "      <td>53</td>\n",
       "      <td>male</td>\n",
       "      <td>2</td>\n",
       "      <td>free</td>\n",
       "      <td>little</td>\n",
       "      <td>little</td>\n",
       "      <td>4870</td>\n",
       "      <td>24</td>\n",
       "      <td>car</td>\n",
       "      <td>0</td>\n",
       "    </tr>\n",
       "    <tr>\n",
       "      <th>5</th>\n",
       "      <td>5</td>\n",
       "      <td>5</td>\n",
       "      <td>35</td>\n",
       "      <td>male</td>\n",
       "      <td>1</td>\n",
       "      <td>free</td>\n",
       "      <td>NaN</td>\n",
       "      <td>NaN</td>\n",
       "      <td>9055</td>\n",
       "      <td>36</td>\n",
       "      <td>education</td>\n",
       "      <td>1</td>\n",
       "    </tr>\n",
       "    <tr>\n",
       "      <th>6</th>\n",
       "      <td>6</td>\n",
       "      <td>6</td>\n",
       "      <td>53</td>\n",
       "      <td>male</td>\n",
       "      <td>2</td>\n",
       "      <td>own</td>\n",
       "      <td>quite rich</td>\n",
       "      <td>NaN</td>\n",
       "      <td>2835</td>\n",
       "      <td>24</td>\n",
       "      <td>furniture/equipment</td>\n",
       "      <td>1</td>\n",
       "    </tr>\n",
       "    <tr>\n",
       "      <th>7</th>\n",
       "      <td>7</td>\n",
       "      <td>7</td>\n",
       "      <td>35</td>\n",
       "      <td>male</td>\n",
       "      <td>3</td>\n",
       "      <td>rent</td>\n",
       "      <td>little</td>\n",
       "      <td>moderate</td>\n",
       "      <td>6948</td>\n",
       "      <td>36</td>\n",
       "      <td>car</td>\n",
       "      <td>1</td>\n",
       "    </tr>\n",
       "    <tr>\n",
       "      <th>8</th>\n",
       "      <td>8</td>\n",
       "      <td>8</td>\n",
       "      <td>61</td>\n",
       "      <td>male</td>\n",
       "      <td>1</td>\n",
       "      <td>own</td>\n",
       "      <td>rich</td>\n",
       "      <td>NaN</td>\n",
       "      <td>3059</td>\n",
       "      <td>12</td>\n",
       "      <td>radio/TV</td>\n",
       "      <td>1</td>\n",
       "    </tr>\n",
       "    <tr>\n",
       "      <th>9</th>\n",
       "      <td>9</td>\n",
       "      <td>9</td>\n",
       "      <td>28</td>\n",
       "      <td>male</td>\n",
       "      <td>3</td>\n",
       "      <td>own</td>\n",
       "      <td>little</td>\n",
       "      <td>moderate</td>\n",
       "      <td>5234</td>\n",
       "      <td>30</td>\n",
       "      <td>car</td>\n",
       "      <td>0</td>\n",
       "    </tr>\n",
       "  </tbody>\n",
       "</table>\n",
       "</div>"
      ],
      "text/plain": [
       "   Unnamed: 0.1  Unnamed: 0  Age     Sex  Job Housing Saving accounts  \\\n",
       "0             0           0   67    male    2     own             NaN   \n",
       "1             1           1   22  female    2     own          little   \n",
       "2             2           2   49    male    1     own          little   \n",
       "3             3           3   45    male    2    free          little   \n",
       "4             4           4   53    male    2    free          little   \n",
       "5             5           5   35    male    1    free             NaN   \n",
       "6             6           6   53    male    2     own      quite rich   \n",
       "7             7           7   35    male    3    rent          little   \n",
       "8             8           8   61    male    1     own            rich   \n",
       "9             9           9   28    male    3     own          little   \n",
       "\n",
       "  Checking account  Credit amount  Duration              Purpose  Risk  \n",
       "0           little           1169         6             radio/TV     1  \n",
       "1         moderate           5951        48             radio/TV     0  \n",
       "2              NaN           2096        12            education     1  \n",
       "3           little           7882        42  furniture/equipment     1  \n",
       "4           little           4870        24                  car     0  \n",
       "5              NaN           9055        36            education     1  \n",
       "6              NaN           2835        24  furniture/equipment     1  \n",
       "7         moderate           6948        36                  car     1  \n",
       "8              NaN           3059        12             radio/TV     1  \n",
       "9         moderate           5234        30                  car     0  "
      ]
     },
     "execution_count": 3,
     "metadata": {},
     "output_type": "execute_result"
    }
   ],
   "source": [
    "# verimizin ilk 10 satırını çağıralım.\n",
    "\n",
    "df.head(10)"
   ]
  },
  {
   "cell_type": "markdown",
   "id": "cf9e7830",
   "metadata": {},
   "source": [
    "**<span style=\"font-size:18px; color:black;\">Verimizin değişkenleri hakkında detaylı bilgi edinelim ve değişkenlerimizi daha yakından tanıyalım.</span>**\n",
    "\n",
    "- #### Unnamed: 0.1 : Satır indekslerini içerir. ( Veriden silinmesi gerekir.)\n",
    "- #### Unnamed: 0 :  Satır indekslerini içerir. ( Veriden silinmesi gerekir.)\n",
    "- #### Age : Kişinin yaşı\n",
    "- #### Sex : Kişinin cinsiyeti (M : Erkek, F: Kadın)\n",
    "- #### Job : Kişinin meslek kategorisi (Sayısal değerler ile kodlanmış:  0, 1, 2, 3 olarak)\n",
    "- #### Housing : Kişinin konut durumu ( free : ücretsiz, rent: kiracı, own: kendi evi)\n",
    "- #### Saving accounts : Kişinin tasarruf hesabındaki birikim durumu (\"little\", \"moderate\", \"rich\", \"quite rich\")(birikim)\n",
    "- #### Checking account : Kişinin vadesiz hesabındaki bakiye durumu (\"little\", \"moderate\", \"rich\")(bakiye durumu)\n",
    "- #### Credit amount : Kişinin kredi talep ettiği miktar ($ cinsinden)\n",
    "- #### Duration : Kredi süresi (ay cinsinden)\n",
    "- #### Purpose :  Kredi alma amacı ('radio/TV', 'education', 'furniture/equipment', 'car', 'business', 'domestic appliances', 'repairs', 'vacation/others')\n",
    "- #### Risk : Risk durumu (1 = Risksiz (krediyi geri öder)(\"Good Risk\") , 0 = Riskli (krediyi geri ödemez.)(\"Bad Risk\") ile kodlanmış).\n",
    "\n",
    "\n",
    "- ### Hedef(target) değişken --> Risk "
   ]
  },
  {
   "cell_type": "markdown",
   "id": "11f91521",
   "metadata": {},
   "source": [
    "**<span style=\"font-size:18px; color:black;\">Veride ilk göze çarpan veriye doğrudan etkisi bulunmayan değişkenleri verimizden düşürelim.</span>**"
   ]
  },
  {
   "cell_type": "code",
   "execution_count": 4,
   "id": "43fc6669",
   "metadata": {},
   "outputs": [],
   "source": [
    "# Unnamed: 0.1, Unnamed: 0 değişkenlerinin veriye doğrudan etkisi bulunmadığı için siliyoruz.\n",
    "\n",
    "df = df.drop(columns=[\"Unnamed: 0.1\", \"Unnamed: 0\"])"
   ]
  },
  {
   "cell_type": "code",
   "execution_count": 5,
   "id": "7e0a9b55",
   "metadata": {
    "scrolled": true
   },
   "outputs": [
    {
     "data": {
      "text/html": [
       "<div>\n",
       "<style scoped>\n",
       "    .dataframe tbody tr th:only-of-type {\n",
       "        vertical-align: middle;\n",
       "    }\n",
       "\n",
       "    .dataframe tbody tr th {\n",
       "        vertical-align: top;\n",
       "    }\n",
       "\n",
       "    .dataframe thead th {\n",
       "        text-align: right;\n",
       "    }\n",
       "</style>\n",
       "<table border=\"1\" class=\"dataframe\">\n",
       "  <thead>\n",
       "    <tr style=\"text-align: right;\">\n",
       "      <th></th>\n",
       "      <th>Age</th>\n",
       "      <th>Sex</th>\n",
       "      <th>Job</th>\n",
       "      <th>Housing</th>\n",
       "      <th>Saving accounts</th>\n",
       "      <th>Checking account</th>\n",
       "      <th>Credit amount</th>\n",
       "      <th>Duration</th>\n",
       "      <th>Purpose</th>\n",
       "      <th>Risk</th>\n",
       "    </tr>\n",
       "  </thead>\n",
       "  <tbody>\n",
       "    <tr>\n",
       "      <th>0</th>\n",
       "      <td>67</td>\n",
       "      <td>male</td>\n",
       "      <td>2</td>\n",
       "      <td>own</td>\n",
       "      <td>NaN</td>\n",
       "      <td>little</td>\n",
       "      <td>1169</td>\n",
       "      <td>6</td>\n",
       "      <td>radio/TV</td>\n",
       "      <td>1</td>\n",
       "    </tr>\n",
       "    <tr>\n",
       "      <th>1</th>\n",
       "      <td>22</td>\n",
       "      <td>female</td>\n",
       "      <td>2</td>\n",
       "      <td>own</td>\n",
       "      <td>little</td>\n",
       "      <td>moderate</td>\n",
       "      <td>5951</td>\n",
       "      <td>48</td>\n",
       "      <td>radio/TV</td>\n",
       "      <td>0</td>\n",
       "    </tr>\n",
       "    <tr>\n",
       "      <th>2</th>\n",
       "      <td>49</td>\n",
       "      <td>male</td>\n",
       "      <td>1</td>\n",
       "      <td>own</td>\n",
       "      <td>little</td>\n",
       "      <td>NaN</td>\n",
       "      <td>2096</td>\n",
       "      <td>12</td>\n",
       "      <td>education</td>\n",
       "      <td>1</td>\n",
       "    </tr>\n",
       "  </tbody>\n",
       "</table>\n",
       "</div>"
      ],
      "text/plain": [
       "   Age     Sex  Job Housing Saving accounts Checking account  Credit amount  \\\n",
       "0   67    male    2     own             NaN           little           1169   \n",
       "1   22  female    2     own          little         moderate           5951   \n",
       "2   49    male    1     own          little              NaN           2096   \n",
       "\n",
       "   Duration    Purpose  Risk  \n",
       "0         6   radio/TV     1  \n",
       "1        48   radio/TV     0  \n",
       "2        12  education     1  "
      ]
     },
     "execution_count": 5,
     "metadata": {},
     "output_type": "execute_result"
    }
   ],
   "source": [
    "df.head(3)"
   ]
  },
  {
   "cell_type": "code",
   "execution_count": 6,
   "id": "34185e02",
   "metadata": {},
   "outputs": [],
   "source": [
    "# tüm değişkenlerin harflerini küçük harfe çevirelim. \n",
    "\n",
    "df.columns = df.columns.str.lower()"
   ]
  },
  {
   "cell_type": "code",
   "execution_count": 7,
   "id": "5cea61ea",
   "metadata": {},
   "outputs": [],
   "source": [
    "# tüm değişkenlerin isimlerinde arada boşluk olanları _ ile değiştir.\n",
    "\n",
    "df.columns = df.columns.str.replace(\" \", \"_\") "
   ]
  },
  {
   "cell_type": "code",
   "execution_count": 8,
   "id": "be5a5ea1",
   "metadata": {},
   "outputs": [
    {
     "data": {
      "text/html": [
       "<div>\n",
       "<style scoped>\n",
       "    .dataframe tbody tr th:only-of-type {\n",
       "        vertical-align: middle;\n",
       "    }\n",
       "\n",
       "    .dataframe tbody tr th {\n",
       "        vertical-align: top;\n",
       "    }\n",
       "\n",
       "    .dataframe thead th {\n",
       "        text-align: right;\n",
       "    }\n",
       "</style>\n",
       "<table border=\"1\" class=\"dataframe\">\n",
       "  <thead>\n",
       "    <tr style=\"text-align: right;\">\n",
       "      <th></th>\n",
       "      <th>age</th>\n",
       "      <th>sex</th>\n",
       "      <th>job</th>\n",
       "      <th>housing</th>\n",
       "      <th>saving_accounts</th>\n",
       "      <th>checking_account</th>\n",
       "      <th>credit_amount</th>\n",
       "      <th>duration</th>\n",
       "      <th>purpose</th>\n",
       "      <th>risk</th>\n",
       "    </tr>\n",
       "  </thead>\n",
       "  <tbody>\n",
       "    <tr>\n",
       "      <th>0</th>\n",
       "      <td>67</td>\n",
       "      <td>male</td>\n",
       "      <td>2</td>\n",
       "      <td>own</td>\n",
       "      <td>NaN</td>\n",
       "      <td>little</td>\n",
       "      <td>1169</td>\n",
       "      <td>6</td>\n",
       "      <td>radio/TV</td>\n",
       "      <td>1</td>\n",
       "    </tr>\n",
       "    <tr>\n",
       "      <th>1</th>\n",
       "      <td>22</td>\n",
       "      <td>female</td>\n",
       "      <td>2</td>\n",
       "      <td>own</td>\n",
       "      <td>little</td>\n",
       "      <td>moderate</td>\n",
       "      <td>5951</td>\n",
       "      <td>48</td>\n",
       "      <td>radio/TV</td>\n",
       "      <td>0</td>\n",
       "    </tr>\n",
       "    <tr>\n",
       "      <th>2</th>\n",
       "      <td>49</td>\n",
       "      <td>male</td>\n",
       "      <td>1</td>\n",
       "      <td>own</td>\n",
       "      <td>little</td>\n",
       "      <td>NaN</td>\n",
       "      <td>2096</td>\n",
       "      <td>12</td>\n",
       "      <td>education</td>\n",
       "      <td>1</td>\n",
       "    </tr>\n",
       "    <tr>\n",
       "      <th>3</th>\n",
       "      <td>45</td>\n",
       "      <td>male</td>\n",
       "      <td>2</td>\n",
       "      <td>free</td>\n",
       "      <td>little</td>\n",
       "      <td>little</td>\n",
       "      <td>7882</td>\n",
       "      <td>42</td>\n",
       "      <td>furniture/equipment</td>\n",
       "      <td>1</td>\n",
       "    </tr>\n",
       "    <tr>\n",
       "      <th>4</th>\n",
       "      <td>53</td>\n",
       "      <td>male</td>\n",
       "      <td>2</td>\n",
       "      <td>free</td>\n",
       "      <td>little</td>\n",
       "      <td>little</td>\n",
       "      <td>4870</td>\n",
       "      <td>24</td>\n",
       "      <td>car</td>\n",
       "      <td>0</td>\n",
       "    </tr>\n",
       "    <tr>\n",
       "      <th>...</th>\n",
       "      <td>...</td>\n",
       "      <td>...</td>\n",
       "      <td>...</td>\n",
       "      <td>...</td>\n",
       "      <td>...</td>\n",
       "      <td>...</td>\n",
       "      <td>...</td>\n",
       "      <td>...</td>\n",
       "      <td>...</td>\n",
       "      <td>...</td>\n",
       "    </tr>\n",
       "    <tr>\n",
       "      <th>995</th>\n",
       "      <td>31</td>\n",
       "      <td>female</td>\n",
       "      <td>1</td>\n",
       "      <td>own</td>\n",
       "      <td>little</td>\n",
       "      <td>NaN</td>\n",
       "      <td>1736</td>\n",
       "      <td>12</td>\n",
       "      <td>furniture/equipment</td>\n",
       "      <td>1</td>\n",
       "    </tr>\n",
       "    <tr>\n",
       "      <th>996</th>\n",
       "      <td>40</td>\n",
       "      <td>male</td>\n",
       "      <td>3</td>\n",
       "      <td>own</td>\n",
       "      <td>little</td>\n",
       "      <td>little</td>\n",
       "      <td>3857</td>\n",
       "      <td>30</td>\n",
       "      <td>car</td>\n",
       "      <td>1</td>\n",
       "    </tr>\n",
       "    <tr>\n",
       "      <th>997</th>\n",
       "      <td>38</td>\n",
       "      <td>male</td>\n",
       "      <td>2</td>\n",
       "      <td>own</td>\n",
       "      <td>little</td>\n",
       "      <td>NaN</td>\n",
       "      <td>804</td>\n",
       "      <td>12</td>\n",
       "      <td>radio/TV</td>\n",
       "      <td>1</td>\n",
       "    </tr>\n",
       "    <tr>\n",
       "      <th>998</th>\n",
       "      <td>23</td>\n",
       "      <td>male</td>\n",
       "      <td>2</td>\n",
       "      <td>free</td>\n",
       "      <td>little</td>\n",
       "      <td>little</td>\n",
       "      <td>1845</td>\n",
       "      <td>45</td>\n",
       "      <td>radio/TV</td>\n",
       "      <td>0</td>\n",
       "    </tr>\n",
       "    <tr>\n",
       "      <th>999</th>\n",
       "      <td>27</td>\n",
       "      <td>male</td>\n",
       "      <td>2</td>\n",
       "      <td>own</td>\n",
       "      <td>moderate</td>\n",
       "      <td>moderate</td>\n",
       "      <td>4576</td>\n",
       "      <td>45</td>\n",
       "      <td>car</td>\n",
       "      <td>1</td>\n",
       "    </tr>\n",
       "  </tbody>\n",
       "</table>\n",
       "<p>1000 rows × 10 columns</p>\n",
       "</div>"
      ],
      "text/plain": [
       "     age     sex  job housing saving_accounts checking_account  credit_amount  \\\n",
       "0     67    male    2     own             NaN           little           1169   \n",
       "1     22  female    2     own          little         moderate           5951   \n",
       "2     49    male    1     own          little              NaN           2096   \n",
       "3     45    male    2    free          little           little           7882   \n",
       "4     53    male    2    free          little           little           4870   \n",
       "..   ...     ...  ...     ...             ...              ...            ...   \n",
       "995   31  female    1     own          little              NaN           1736   \n",
       "996   40    male    3     own          little           little           3857   \n",
       "997   38    male    2     own          little              NaN            804   \n",
       "998   23    male    2    free          little           little           1845   \n",
       "999   27    male    2     own        moderate         moderate           4576   \n",
       "\n",
       "     duration              purpose  risk  \n",
       "0           6             radio/TV     1  \n",
       "1          48             radio/TV     0  \n",
       "2          12            education     1  \n",
       "3          42  furniture/equipment     1  \n",
       "4          24                  car     0  \n",
       "..        ...                  ...   ...  \n",
       "995        12  furniture/equipment     1  \n",
       "996        30                  car     1  \n",
       "997        12             radio/TV     1  \n",
       "998        45             radio/TV     0  \n",
       "999        45                  car     1  \n",
       "\n",
       "[1000 rows x 10 columns]"
      ]
     },
     "execution_count": 8,
     "metadata": {},
     "output_type": "execute_result"
    }
   ],
   "source": [
    "df"
   ]
  },
  {
   "cell_type": "code",
   "execution_count": 9,
   "id": "a6b77ece",
   "metadata": {},
   "outputs": [
    {
     "data": {
      "text/plain": [
       "pandas.core.frame.DataFrame"
      ]
     },
     "execution_count": 9,
     "metadata": {},
     "output_type": "execute_result"
    }
   ],
   "source": [
    "# Verimizin tipine bakalım\n",
    "\n",
    "type(df)"
   ]
  },
  {
   "cell_type": "code",
   "execution_count": 10,
   "id": "1bb9c409",
   "metadata": {},
   "outputs": [
    {
     "data": {
      "text/plain": [
       "(1000, 10)"
      ]
     },
     "execution_count": 10,
     "metadata": {},
     "output_type": "execute_result"
    }
   ],
   "source": [
    "# Verimizde kaç satır kaç sütun bulunuyor ona bakalım\n",
    "\n",
    "df.shape"
   ]
  },
  {
   "cell_type": "code",
   "execution_count": 11,
   "id": "4c58e4f1",
   "metadata": {
    "scrolled": false
   },
   "outputs": [
    {
     "name": "stdout",
     "output_type": "stream",
     "text": [
      "<class 'pandas.core.frame.DataFrame'>\n",
      "RangeIndex: 1000 entries, 0 to 999\n",
      "Data columns (total 10 columns):\n",
      " #   Column            Non-Null Count  Dtype \n",
      "---  ------            --------------  ----- \n",
      " 0   age               1000 non-null   int64 \n",
      " 1   sex               1000 non-null   object\n",
      " 2   job               1000 non-null   int64 \n",
      " 3   housing           1000 non-null   object\n",
      " 4   saving_accounts   817 non-null    object\n",
      " 5   checking_account  606 non-null    object\n",
      " 6   credit_amount     1000 non-null   int64 \n",
      " 7   duration          1000 non-null   int64 \n",
      " 8   purpose           1000 non-null   object\n",
      " 9   risk              1000 non-null   int64 \n",
      "dtypes: int64(5), object(5)\n",
      "memory usage: 78.3+ KB\n"
     ]
    }
   ],
   "source": [
    "# Verimiz hakkında detaylı bilgi edinelim\n",
    "\n",
    "df.info()          "
   ]
  },
  {
   "cell_type": "markdown",
   "id": "390aed9a",
   "metadata": {},
   "source": [
    "### df.info() ile edinilen bilgiler\n",
    "- Veri tipinin DataFrame olduğunu gözlemliyoruz.\n",
    "- Verimizde toplamda 1000 gözlem bulunuyor. \n",
    "- 5 tane numeric(int64)  tipte değişkenimiz var.\n",
    "- 5 tane kategorik(object) tipte değişkenimiz var.\n",
    "- saving_accounts ve checking_account değişkenlerinde NaN olduğunu gözlemliyoruz. Onun haricindeki diğer değişkenlerde eksik değer bulunmuyor."
   ]
  },
  {
   "cell_type": "code",
   "execution_count": 12,
   "id": "9ae61e75",
   "metadata": {
    "scrolled": true
   },
   "outputs": [
    {
     "data": {
      "text/html": [
       "<div>\n",
       "<style scoped>\n",
       "    .dataframe tbody tr th:only-of-type {\n",
       "        vertical-align: middle;\n",
       "    }\n",
       "\n",
       "    .dataframe tbody tr th {\n",
       "        vertical-align: top;\n",
       "    }\n",
       "\n",
       "    .dataframe thead th {\n",
       "        text-align: right;\n",
       "    }\n",
       "</style>\n",
       "<table border=\"1\" class=\"dataframe\">\n",
       "  <thead>\n",
       "    <tr style=\"text-align: right;\">\n",
       "      <th></th>\n",
       "      <th>age</th>\n",
       "      <th>job</th>\n",
       "      <th>credit_amount</th>\n",
       "      <th>duration</th>\n",
       "      <th>risk</th>\n",
       "    </tr>\n",
       "  </thead>\n",
       "  <tbody>\n",
       "    <tr>\n",
       "      <th>count</th>\n",
       "      <td>1000.000000</td>\n",
       "      <td>1000.000000</td>\n",
       "      <td>1000.000000</td>\n",
       "      <td>1000.000000</td>\n",
       "      <td>1000.000000</td>\n",
       "    </tr>\n",
       "    <tr>\n",
       "      <th>mean</th>\n",
       "      <td>35.546000</td>\n",
       "      <td>1.904000</td>\n",
       "      <td>3271.258000</td>\n",
       "      <td>20.903000</td>\n",
       "      <td>0.700000</td>\n",
       "    </tr>\n",
       "    <tr>\n",
       "      <th>std</th>\n",
       "      <td>11.375469</td>\n",
       "      <td>0.653614</td>\n",
       "      <td>2822.736876</td>\n",
       "      <td>12.058814</td>\n",
       "      <td>0.458487</td>\n",
       "    </tr>\n",
       "    <tr>\n",
       "      <th>min</th>\n",
       "      <td>19.000000</td>\n",
       "      <td>0.000000</td>\n",
       "      <td>250.000000</td>\n",
       "      <td>4.000000</td>\n",
       "      <td>0.000000</td>\n",
       "    </tr>\n",
       "    <tr>\n",
       "      <th>25%</th>\n",
       "      <td>27.000000</td>\n",
       "      <td>2.000000</td>\n",
       "      <td>1365.500000</td>\n",
       "      <td>12.000000</td>\n",
       "      <td>0.000000</td>\n",
       "    </tr>\n",
       "    <tr>\n",
       "      <th>50%</th>\n",
       "      <td>33.000000</td>\n",
       "      <td>2.000000</td>\n",
       "      <td>2319.500000</td>\n",
       "      <td>18.000000</td>\n",
       "      <td>1.000000</td>\n",
       "    </tr>\n",
       "    <tr>\n",
       "      <th>75%</th>\n",
       "      <td>42.000000</td>\n",
       "      <td>2.000000</td>\n",
       "      <td>3972.250000</td>\n",
       "      <td>24.000000</td>\n",
       "      <td>1.000000</td>\n",
       "    </tr>\n",
       "    <tr>\n",
       "      <th>max</th>\n",
       "      <td>75.000000</td>\n",
       "      <td>3.000000</td>\n",
       "      <td>18424.000000</td>\n",
       "      <td>72.000000</td>\n",
       "      <td>1.000000</td>\n",
       "    </tr>\n",
       "  </tbody>\n",
       "</table>\n",
       "</div>"
      ],
      "text/plain": [
       "               age          job  credit_amount     duration         risk\n",
       "count  1000.000000  1000.000000    1000.000000  1000.000000  1000.000000\n",
       "mean     35.546000     1.904000    3271.258000    20.903000     0.700000\n",
       "std      11.375469     0.653614    2822.736876    12.058814     0.458487\n",
       "min      19.000000     0.000000     250.000000     4.000000     0.000000\n",
       "25%      27.000000     2.000000    1365.500000    12.000000     0.000000\n",
       "50%      33.000000     2.000000    2319.500000    18.000000     1.000000\n",
       "75%      42.000000     2.000000    3972.250000    24.000000     1.000000\n",
       "max      75.000000     3.000000   18424.000000    72.000000     1.000000"
      ]
     },
     "execution_count": 12,
     "metadata": {},
     "output_type": "execute_result"
    }
   ],
   "source": [
    "df.describe()"
   ]
  },
  {
   "cell_type": "markdown",
   "id": "3bb462c1",
   "metadata": {},
   "source": [
    "**<span style=\"font-size:18px; color:black;\">Verinin setindeki sayısal sütunlara ilişkin temel istatistiksel özetleri yorumlayalım.</span>**\n",
    "\n",
    "- count: Her bir sütundaki gözlem sayısını gösterir. Bütün sütunlarda 1000 gözlem var, yani eksik veri bulunmuyor.\n",
    "- mean: Ortalama değer. Her sütunun ortalama değerini verir.\n",
    "- std: Standart sapma. Verilerin ortalamadan ne kadar sapma gösterdiğini ifade eder.\n",
    "- min ve max: Minimum ve maksimum değerler.\n",
    "- Yüzdelikler (25%, 50%, 75%):\n",
    "  - 25% (Q1): Verilerin %25'inin bu değerin altında olduğu eşik (1. çeyrek).\n",
    "  - 50% (Q2, Medyan): Verilerin ortanca değeri.\n",
    "  - 75% (Q3): Verilerin %75'inin bu değerin altında olduğu eşik (3. çeyrek)\n",
    "  \n",
    "#### Değişken Bazlı Yorumlar\n",
    "**1. age (Yaş)**\n",
    "- Ortalama yaş(mean): 35.54.\n",
    "- Yaşlar 19(min) ile 75(max) arasında değişiyor.\n",
    "- 50% (medyan): 33 (yaşların yarısı 33'ün altında, yarısı üstünde).\n",
    "- Standart sapma: 11.37 (yaşlar ortalamadan ±11 yıl sapabiliyor).\n",
    "\n",
    "**2. job (İş Durumu)**\n",
    "- Ortalama(mean): 1.90, maksimum değer: 3.\n",
    "- Çeyrek değerlere bakıldığında çoğu bireyin iş durumu 2 civarında.\n",
    "\n",
    "**3. credit_amount (Kredi Miktarı($))**\n",
    "- Ortalama(mean): 3271.26, standart sapma: 2822.73.\n",
    "- Kredi miktarı oldukça değişken; minimum(min) 250, maksimum(max) 18424.\n",
    "- 50% (medyan): 2319.5; çoğu kişi bu tutarın çevresinde kredi almış.\n",
    "- 75% çeyrek değeri: 3972.25; bu değerin üzerindeki krediler yüksek kabul edilebilir.\n",
    "\n",
    "**4. duration (Kredi Süresi)**\n",
    "- Ortalama(mean): 20.90 ay.\n",
    "- Süreler 4(min) aydan 72(max) aya kadar değişiyor.\n",
    "- 50% (medyan): 18 ay, çoğu kişi 18 ay civarında kredi çekiyor.\n",
    "- 75%: 24 ay, uzun vadeli krediler 2 yılın üzerinde.\n",
    "\n",
    "**5. risk (Risk Seviyesi)**\n",
    "- Ortalama(mean): 0.70, bu veri setindeki bireylerin %70'i yüksek riskli.\n",
    "- Minimum: 0, maksimum: 1 (binary sınıflandırma; 0 düşük risk, 1 yüksek risk).\n",
    "\n",
    "\n",
    "\n"
   ]
  },
  {
   "cell_type": "code",
   "execution_count": 13,
   "id": "f6f4c541",
   "metadata": {
    "scrolled": false
   },
   "outputs": [
    {
     "data": {
      "text/html": [
       "<div>\n",
       "<style scoped>\n",
       "    .dataframe tbody tr th:only-of-type {\n",
       "        vertical-align: middle;\n",
       "    }\n",
       "\n",
       "    .dataframe tbody tr th {\n",
       "        vertical-align: top;\n",
       "    }\n",
       "\n",
       "    .dataframe thead th {\n",
       "        text-align: right;\n",
       "    }\n",
       "</style>\n",
       "<table border=\"1\" class=\"dataframe\">\n",
       "  <thead>\n",
       "    <tr style=\"text-align: right;\">\n",
       "      <th></th>\n",
       "      <th>sex</th>\n",
       "      <th>housing</th>\n",
       "      <th>saving_accounts</th>\n",
       "      <th>checking_account</th>\n",
       "      <th>purpose</th>\n",
       "    </tr>\n",
       "  </thead>\n",
       "  <tbody>\n",
       "    <tr>\n",
       "      <th>count</th>\n",
       "      <td>1000</td>\n",
       "      <td>1000</td>\n",
       "      <td>817</td>\n",
       "      <td>606</td>\n",
       "      <td>1000</td>\n",
       "    </tr>\n",
       "    <tr>\n",
       "      <th>unique</th>\n",
       "      <td>2</td>\n",
       "      <td>3</td>\n",
       "      <td>4</td>\n",
       "      <td>3</td>\n",
       "      <td>8</td>\n",
       "    </tr>\n",
       "    <tr>\n",
       "      <th>top</th>\n",
       "      <td>male</td>\n",
       "      <td>own</td>\n",
       "      <td>little</td>\n",
       "      <td>little</td>\n",
       "      <td>car</td>\n",
       "    </tr>\n",
       "    <tr>\n",
       "      <th>freq</th>\n",
       "      <td>690</td>\n",
       "      <td>713</td>\n",
       "      <td>603</td>\n",
       "      <td>274</td>\n",
       "      <td>337</td>\n",
       "    </tr>\n",
       "  </tbody>\n",
       "</table>\n",
       "</div>"
      ],
      "text/plain": [
       "         sex housing saving_accounts checking_account purpose\n",
       "count   1000    1000             817              606    1000\n",
       "unique     2       3               4                3       8\n",
       "top     male     own          little           little     car\n",
       "freq     690     713             603              274     337"
      ]
     },
     "execution_count": 13,
     "metadata": {},
     "output_type": "execute_result"
    }
   ],
   "source": [
    "df.describe(include=\"object\")"
   ]
  },
  {
   "cell_type": "markdown",
   "id": "5effd111",
   "metadata": {},
   "source": [
    "**<span style=\"font-size:18px; color:black;\">Verinin setindeki kategorik sütunlara ilişkin temel istatistiksel özetleri yorumlayalım.</span>**\n",
    "\n",
    "**1. Değişkenler:**\n",
    "- sex : Kişinin cinsiyeti (M : Erkek, F: Kadın)\n",
    "- housing : Kişinin konut durumu ( free : ücretsiz, rent: kiracı, own: kendi evi)\n",
    "- saving_accounts: Kişinin tasarruf hesabındaki birikim durumu (\"little\", \"moderate\", \"rich\", \"quite rich\")(birikim)\n",
    "- checking_account: Kişinin vadesiz hesabındaki bakiye durumu (\"little\", \"moderate\", \"rich\")(bakiye durumu)\n",
    "- purpose: Kredi alma amacı (\"radio/TV\", \"education\", \"car\", \"business\")\n",
    "\n",
    "<br>\n",
    "\n",
    "**2. Tablodaki Satırların Açıklaması:**\n",
    "- **count**: Her değişken için toplam geçerli (eksik olmayan) gözlem sayısını gösterir.\n",
    "\n",
    "    - Örneğin:\n",
    "    - sex ve housing: 1000 gözlemde eksik değer yok.\n",
    "    - saving_accounts: 817 geçerli değer var, yani 183 eksik.\n",
    "    - checking_account: 606 geçerli değer var, 394 eksik.\n",
    "\n",
    "- **unique**: Her değişkende kaç farklı kategori olduğunu gösterir.\n",
    "\n",
    "    - Örneğin:\n",
    "    - sex: 2 farklı kategori var (\"male\" , \"female\").\n",
    "    - housing: 3 farklı kategori (\"own\", \"rent\", \"free\").\n",
    "    - saving_accounts: 4 farklı kategori (\"little\", \"moderate\", \"rich\", \"quite rich\")\n",
    "    - checking_account: 3 farklı kategori (\"little\", \"moderate\", \"rich\")\n",
    "    - purpose: 8 farklı kredi amacı. ('radio/TV', 'education', 'furniture/equipment', 'car', 'business',\n",
    "       'domestic appliances', 'repairs', 'vacation/others')\n",
    "\n",
    "- **top** : Her değişkende en sık rastlanan (mod) kategoriyi belirtir.\n",
    "\n",
    "    - Örneğin:\n",
    "    - sex: En sık rastlanan değer \"male\".\n",
    "    - housing: En sık rastlanan değer \"own\" (kendi evi).\n",
    "    - saving_accounts ve checking_account: \"little\" en sık görülen değer.\n",
    "    - purpose: \"car\" en sık rastlanan kredi amacı.\n",
    "\n",
    "- **freq**: \"top\" kategorisinin kaç kez tekrarlandığını belirtir.\n",
    "    \n",
    "    - Örneğin:\n",
    "    - sex: \"male\" 690 kez tekrar edilmiş.\n",
    "    - housing: \"own\" 713 kez tekrar edilmiş.\n",
    "    - saving_accounts: \"little\" 603 kez tekrar edilmiş.\n",
    "    - checking_account: \"little\" 274 kez tekrar edilmiş.\n",
    "    - purpose: \"car\" 337 kez tekrar edilmiş.\n",
    "\n",
    "**3. Genel Yorumlar:**\n",
    "- Eksik Değerler: saving_accounts ve checking_account değişkenlerinde eksik veri oranı oldukça yüksek. Eksik verilerin nasıl işleneceği analizde kritik olabilir.\n",
    "\n",
    "- Dengesizlik: Bazı değişkenlerde belirli kategoriler diğerlerinden çok daha sık görünüyor (örneğin, \"male\" ve \"own\").\n",
    "\n",
    "- Amaca Göre Dağılım: Kredilerin amacı geniş bir yelpazeye yayılmış, ancak \"car\" kredisi en sık.\n",
    "\n",
    "- Bu bilgiler, veri temizleme, görselleştirme ve modelleme aşamaları için rehberlik edebilir. Eksik veri stratejisi belirlenmeli ve kategorilerin dengesizliği dikkate alınmalıdır.\n",
    "\n"
   ]
  },
  {
   "cell_type": "code",
   "execution_count": 14,
   "id": "e7b2c89e",
   "metadata": {},
   "outputs": [
    {
     "data": {
      "text/html": [
       "<div>\n",
       "<style scoped>\n",
       "    .dataframe tbody tr th:only-of-type {\n",
       "        vertical-align: middle;\n",
       "    }\n",
       "\n",
       "    .dataframe tbody tr th {\n",
       "        vertical-align: top;\n",
       "    }\n",
       "\n",
       "    .dataframe thead th {\n",
       "        text-align: right;\n",
       "    }\n",
       "</style>\n",
       "<table border=\"1\" class=\"dataframe\">\n",
       "  <thead>\n",
       "    <tr style=\"text-align: right;\">\n",
       "      <th></th>\n",
       "      <th>age</th>\n",
       "      <th>sex</th>\n",
       "      <th>job</th>\n",
       "      <th>housing</th>\n",
       "      <th>saving_accounts</th>\n",
       "      <th>checking_account</th>\n",
       "      <th>credit_amount</th>\n",
       "      <th>duration</th>\n",
       "      <th>purpose</th>\n",
       "      <th>risk</th>\n",
       "    </tr>\n",
       "  </thead>\n",
       "  <tbody>\n",
       "    <tr>\n",
       "      <th>0</th>\n",
       "      <td>67</td>\n",
       "      <td>male</td>\n",
       "      <td>2</td>\n",
       "      <td>own</td>\n",
       "      <td>NaN</td>\n",
       "      <td>little</td>\n",
       "      <td>1169</td>\n",
       "      <td>6</td>\n",
       "      <td>radio/TV</td>\n",
       "      <td>1</td>\n",
       "    </tr>\n",
       "    <tr>\n",
       "      <th>1</th>\n",
       "      <td>22</td>\n",
       "      <td>female</td>\n",
       "      <td>2</td>\n",
       "      <td>own</td>\n",
       "      <td>little</td>\n",
       "      <td>moderate</td>\n",
       "      <td>5951</td>\n",
       "      <td>48</td>\n",
       "      <td>radio/TV</td>\n",
       "      <td>0</td>\n",
       "    </tr>\n",
       "    <tr>\n",
       "      <th>2</th>\n",
       "      <td>49</td>\n",
       "      <td>male</td>\n",
       "      <td>1</td>\n",
       "      <td>own</td>\n",
       "      <td>little</td>\n",
       "      <td>NaN</td>\n",
       "      <td>2096</td>\n",
       "      <td>12</td>\n",
       "      <td>education</td>\n",
       "      <td>1</td>\n",
       "    </tr>\n",
       "    <tr>\n",
       "      <th>3</th>\n",
       "      <td>45</td>\n",
       "      <td>male</td>\n",
       "      <td>2</td>\n",
       "      <td>free</td>\n",
       "      <td>little</td>\n",
       "      <td>little</td>\n",
       "      <td>7882</td>\n",
       "      <td>42</td>\n",
       "      <td>furniture/equipment</td>\n",
       "      <td>1</td>\n",
       "    </tr>\n",
       "    <tr>\n",
       "      <th>4</th>\n",
       "      <td>53</td>\n",
       "      <td>male</td>\n",
       "      <td>2</td>\n",
       "      <td>free</td>\n",
       "      <td>little</td>\n",
       "      <td>little</td>\n",
       "      <td>4870</td>\n",
       "      <td>24</td>\n",
       "      <td>car</td>\n",
       "      <td>0</td>\n",
       "    </tr>\n",
       "    <tr>\n",
       "      <th>...</th>\n",
       "      <td>...</td>\n",
       "      <td>...</td>\n",
       "      <td>...</td>\n",
       "      <td>...</td>\n",
       "      <td>...</td>\n",
       "      <td>...</td>\n",
       "      <td>...</td>\n",
       "      <td>...</td>\n",
       "      <td>...</td>\n",
       "      <td>...</td>\n",
       "    </tr>\n",
       "    <tr>\n",
       "      <th>995</th>\n",
       "      <td>31</td>\n",
       "      <td>female</td>\n",
       "      <td>1</td>\n",
       "      <td>own</td>\n",
       "      <td>little</td>\n",
       "      <td>NaN</td>\n",
       "      <td>1736</td>\n",
       "      <td>12</td>\n",
       "      <td>furniture/equipment</td>\n",
       "      <td>1</td>\n",
       "    </tr>\n",
       "    <tr>\n",
       "      <th>996</th>\n",
       "      <td>40</td>\n",
       "      <td>male</td>\n",
       "      <td>3</td>\n",
       "      <td>own</td>\n",
       "      <td>little</td>\n",
       "      <td>little</td>\n",
       "      <td>3857</td>\n",
       "      <td>30</td>\n",
       "      <td>car</td>\n",
       "      <td>1</td>\n",
       "    </tr>\n",
       "    <tr>\n",
       "      <th>997</th>\n",
       "      <td>38</td>\n",
       "      <td>male</td>\n",
       "      <td>2</td>\n",
       "      <td>own</td>\n",
       "      <td>little</td>\n",
       "      <td>NaN</td>\n",
       "      <td>804</td>\n",
       "      <td>12</td>\n",
       "      <td>radio/TV</td>\n",
       "      <td>1</td>\n",
       "    </tr>\n",
       "    <tr>\n",
       "      <th>998</th>\n",
       "      <td>23</td>\n",
       "      <td>male</td>\n",
       "      <td>2</td>\n",
       "      <td>free</td>\n",
       "      <td>little</td>\n",
       "      <td>little</td>\n",
       "      <td>1845</td>\n",
       "      <td>45</td>\n",
       "      <td>radio/TV</td>\n",
       "      <td>0</td>\n",
       "    </tr>\n",
       "    <tr>\n",
       "      <th>999</th>\n",
       "      <td>27</td>\n",
       "      <td>male</td>\n",
       "      <td>2</td>\n",
       "      <td>own</td>\n",
       "      <td>moderate</td>\n",
       "      <td>moderate</td>\n",
       "      <td>4576</td>\n",
       "      <td>45</td>\n",
       "      <td>car</td>\n",
       "      <td>1</td>\n",
       "    </tr>\n",
       "  </tbody>\n",
       "</table>\n",
       "<p>1000 rows × 10 columns</p>\n",
       "</div>"
      ],
      "text/plain": [
       "     age     sex  job housing saving_accounts checking_account  credit_amount  \\\n",
       "0     67    male    2     own             NaN           little           1169   \n",
       "1     22  female    2     own          little         moderate           5951   \n",
       "2     49    male    1     own          little              NaN           2096   \n",
       "3     45    male    2    free          little           little           7882   \n",
       "4     53    male    2    free          little           little           4870   \n",
       "..   ...     ...  ...     ...             ...              ...            ...   \n",
       "995   31  female    1     own          little              NaN           1736   \n",
       "996   40    male    3     own          little           little           3857   \n",
       "997   38    male    2     own          little              NaN            804   \n",
       "998   23    male    2    free          little           little           1845   \n",
       "999   27    male    2     own        moderate         moderate           4576   \n",
       "\n",
       "     duration              purpose  risk  \n",
       "0           6             radio/TV     1  \n",
       "1          48             radio/TV     0  \n",
       "2          12            education     1  \n",
       "3          42  furniture/equipment     1  \n",
       "4          24                  car     0  \n",
       "..        ...                  ...   ...  \n",
       "995        12  furniture/equipment     1  \n",
       "996        30                  car     1  \n",
       "997        12             radio/TV     1  \n",
       "998        45             radio/TV     0  \n",
       "999        45                  car     1  \n",
       "\n",
       "[1000 rows x 10 columns]"
      ]
     },
     "execution_count": 14,
     "metadata": {},
     "output_type": "execute_result"
    }
   ],
   "source": [
    "df"
   ]
  },
  {
   "cell_type": "code",
   "execution_count": 15,
   "id": "0ff7da18",
   "metadata": {
    "scrolled": false
   },
   "outputs": [
    {
     "data": {
      "image/png": "[encoded data removed]",
      "text/plain": [
       "<Figure size 1000x600 with 1 Axes>"
      ]
     },
     "metadata": {},
     "output_type": "display_data"
    }
   ],
   "source": [
    "# Ev sahibi Tipine göre olan kişiler krediyi ortalama kaç ayda ödemişler?\n",
    "\n",
    "avg_duration_per_housing = df.groupby('housing')['duration'].mean().reset_index()\n",
    "avg_duration_per_housing = avg_duration_per_housing.sort_values(by='duration', ascending=False)\n",
    "\n",
    "plt.figure(figsize=(10, 6))\n",
    "\n",
    "sns.barplot(x='housing', y='duration', data=avg_duration_per_housing, palette='viridis', order=avg_duration_per_housing['housing'])\n",
    "plt.title('Ev Sahibi Tipine Göre Krediyi Geri Ödeme Ortalama Zamanı(ay)(Zamana Göre Sıralı)' )\n",
    "plt.xticks(rotation=45)\n",
    "plt.xlabel('Housing')\n",
    "plt.ylabel('Duration(ay)')\n",
    "plt.grid(axis='y')\n",
    "plt.show()"
   ]
  },
  {
   "cell_type": "markdown",
   "id": "f1c5265e",
   "metadata": {},
   "source": [
    "**Grafik Yorum:**\n",
    "- Ev sahibi olan ve kirada oturan kişilerin krediyi geri ödeme süresinin diğer kategorilere göre daha kısa sürede ödediği görülmektedir.\n",
    "- free kategorisinde olan kişilerin en geç sürede geri ödeme yaptığı yukarıdaki tablodan çıkarılmaktadır."
   ]
  },
  {
   "cell_type": "code",
   "execution_count": 16,
   "id": "dc9dbd67",
   "metadata": {
    "scrolled": false
   },
   "outputs": [
    {
     "data": {
      "image/png": "[encoded data removed]",
      "text/plain": [
       "<Figure size 1000x600 with 1 Axes>"
      ]
     },
     "metadata": {},
     "output_type": "display_data"
    }
   ],
   "source": [
    "# Kredi çekilme amacına göre ortalama talep edilen kredi miktarı nedir?\n",
    "\n",
    "avg_duration_per_housing = df.groupby('purpose')['credit_amount'].mean().reset_index()\n",
    "avg_duration_per_housing = avg_duration_per_housing.sort_values(by='credit_amount', ascending=False)\n",
    "\n",
    "plt.figure(figsize=(10, 6))\n",
    "\n",
    "sns.barplot(x='purpose', y='credit_amount', data=avg_duration_per_housing, palette='viridis', order=avg_duration_per_housing['purpose'])\n",
    "plt.title('Kredi Çekilme Amacına Göre Ortalama Talep Edilen Kredi Miktarı (Miktara Göre Sıralı)' )\n",
    "plt.xticks(rotation=45)\n",
    "plt.xlabel('Purpose')\n",
    "plt.ylabel('Credit Amount($)')\n",
    "plt.grid(axis='y')\n",
    "plt.show()"
   ]
  },
  {
   "cell_type": "markdown",
   "id": "82d26098",
   "metadata": {},
   "source": [
    "**Grafik Yorum:**\n",
    "- En çok talep edilen kredi miktarı vacation/others(tatil/diğerleri) olduğu görülmektedir.\n",
    "- En az ise domestic appliances (ev aletleri) için talep edilmiştir."
   ]
  },
  {
   "cell_type": "code",
   "execution_count": 17,
   "id": "503f56f7",
   "metadata": {},
   "outputs": [
    {
     "data": {
      "image/png": "[encoded data removed]",
      "text/plain": [
       "<Figure size 900x600 with 1 Axes>"
      ]
     },
     "metadata": {},
     "output_type": "display_data"
    }
   ],
   "source": [
    "# Cinsiyete göre ortalama talep edilen kredi miktarı nedir?\n",
    "\n",
    "avg_duration_per_housing = df.groupby('sex')['credit_amount'].mean().reset_index()\n",
    "avg_duration_per_housing = avg_duration_per_housing.sort_values(by='credit_amount', ascending=False)\n",
    "\n",
    "plt.figure(figsize=(9, 6))\n",
    "\n",
    "sns.barplot(x='sex', y='credit_amount', data=avg_duration_per_housing, palette='viridis', order=avg_duration_per_housing['sex'])\n",
    "plt.title('Cinsiyete Göre Ortalama Talep Edilen Kredi Miktarı (Miktara Göre Sıralı)' )\n",
    "plt.xticks(rotation=45)\n",
    "plt.xlabel('Sex')\n",
    "plt.ylabel('Credit Amount($)')\n",
    "plt.grid(axis='y')\n",
    "plt.show()"
   ]
  },
  {
   "cell_type": "markdown",
   "id": "9392ceea",
   "metadata": {},
   "source": [
    "**Grafik Yorum:**\n",
    "- Arada çok fazla fark olmamasıyla birlikte erkeklerin kadınlardan daha fazla kredi miktarı talep ettiği görülmektedir."
   ]
  },
  {
   "cell_type": "markdown",
   "id": "c7426372",
   "metadata": {},
   "source": [
    "# 1.2. Gerekli Görsel Analizler"
   ]
  },
  {
   "cell_type": "markdown",
   "id": "1d938ec0",
   "metadata": {},
   "source": [
    "**Görev 1.2.1**\n",
    "- Sayısal değişkenlerin dağılımı (\"Age\", \"Credit amount\", \"Duration\" için histogram veya kutu grafikleri)."
   ]
  },
  {
   "cell_type": "code",
   "execution_count": 18,
   "id": "a91f4a5c",
   "metadata": {},
   "outputs": [
    {
     "data": {
      "image/png": "[encoded data removed]",
      "text/plain": [
       "<Figure size 1000x600 with 1 Axes>"
      ]
     },
     "metadata": {},
     "output_type": "display_data"
    }
   ],
   "source": [
    "# yaş dağılımına bakalım.\n",
    "\n",
    "\n",
    "plt.figure(figsize=(10,6))\n",
    "sns.histplot(df[\"age\"], bins=35, color='salmon', edgecolor='black')\n",
    "plt.xlabel(\"Age\")\n",
    "plt.ylabel(\"Frekans\")\n",
    "plt.show()"
   ]
  },
  {
   "cell_type": "markdown",
   "id": "3669d2a3",
   "metadata": {},
   "source": [
    "### age grafik yorumu\n",
    "\n",
    "\n",
    "**.describe() ile elde edilen sonuçlar:**\n",
    "\n",
    "**age (Yaş)**\n",
    "- Ortalama yaş(mean): 35.54.\n",
    "- Yaşlar 19(min) ile 75(max) arasında değişiyor.\n",
    "- 50% (medyan): 33 (yaşların yarısı 33'ün altında, yarısı üstünde).\n",
    "- Standart sapma: 11.37 (yaşlar ortalamadan ±11 yıl sapabiliyor).\n",
    "\n",
    "\n",
    "#### Yukarıda describe ile edinmiş olduğumuz bilgilerden de yola çıkarak grafik hakkında şu yorumu yapabiliriz:\n",
    "- 25-37 yaş aralığında dağılımda yoğunluk olduğunu gözlemliyoruz. Bu durum kredi çekmek için bu yaş aralığındaki kişilerin daha fazla olduğunu gösteriyor.\n",
    "- Buna göre kredi çekmek için başvuran kişilerin daha çok genç yaşta insanların yoğunlukta olan bir grup olduğunu söyleyebiliriz.\n",
    " "
   ]
  },
  {
   "cell_type": "code",
   "execution_count": 19,
   "id": "f41d1103",
   "metadata": {},
   "outputs": [
    {
     "data": {
      "image/png": "[encoded data removed]",
      "text/plain": [
       "<Figure size 1000x600 with 1 Axes>"
      ]
     },
     "metadata": {},
     "output_type": "display_data"
    }
   ],
   "source": [
    "# credit_amount dağılımına bakalım\n",
    "\n",
    "plt.figure(figsize=(10,6))\n",
    "sns.histplot(df[\"credit_amount\"], bins=35, color='salmon', edgecolor='black')\n",
    "plt.xlabel(\"Credit Amount\") \n",
    "plt.ylabel(\"Frekans\")\n",
    "plt.show()"
   ]
  },
  {
   "cell_type": "markdown",
   "id": "4bfb7136",
   "metadata": {},
   "source": [
    "### credit_amount grafik yorumu\n",
    "\n",
    "**.describe() ile elde edilen sonuçlar:**\n",
    "\n",
    "**credit_amount (Kredi Miktarı($))**\n",
    "- Ortalama(mean): 3271.26, standart sapma: 2822.73.\n",
    "- Kredi miktarı oldukça değişken; minimum(min) 250, maksimum(max) 18424.\n",
    "- 50% (medyan): 2319.5; çoğu kişi bu tutarın çevresinde kredi almış.\n",
    "- 75% çeyrek değeri: 3972.25; bu değerin üzerindeki krediler yüksek kabul edilebilir.\n",
    "\n",
    "#### Yukarıda describe ile edinmiş olduğumuz bilgilerden de yola çıkarak grafik hakkında şu yorumu yapabiliriz:\n",
    "\n",
    "- Çekilmek istenen kredi miktarının yoğunluğu daha çok 1000-3000 $ aralığında kişilerce daha yoğun olarak talep edildiğini görmekteyiz.\n",
    "- describe ile bulunan ortalama ile karşılaştırınca şu yorum ortaya çıkıyor: Daha yüksek miktarda kredi çeken kişiler dolayısıyla ortalama yukarıya çıkmıştır. Bu sebeple tablo ve istatistiksel dağılım biraz birbirinden farklıdır."
   ]
  },
  {
   "cell_type": "code",
   "execution_count": 20,
   "id": "d8752c6d",
   "metadata": {
    "scrolled": false
   },
   "outputs": [
    {
     "data": {
      "image/png": "[encoded data removed]",
      "text/plain": [
       "<Figure size 1000x600 with 1 Axes>"
      ]
     },
     "metadata": {},
     "output_type": "display_data"
    }
   ],
   "source": [
    "# duration dağılımına bakalım\n",
    "\n",
    "plt.figure(figsize=(10,6))\n",
    "sns.histplot(df[\"duration\"], bins=30, color='salmon', edgecolor='black')\n",
    "plt.xlabel(\"Duration\")\n",
    "plt.ylabel(\"Frekans\")\n",
    "plt.show()"
   ]
  },
  {
   "cell_type": "markdown",
   "id": "8e1b9d75",
   "metadata": {},
   "source": [
    "### duration grafik yorumu\n",
    "\n",
    "\n",
    "**.describe() ile elde edilen sonuçlar:**\n",
    "\n",
    "**duration (Kredi Süresi(ay))**\n",
    "- Ortalama(mean): 20.90 ay.\n",
    "- Süreler 4(min) aydan 72(max) aya kadar değişiyor.\n",
    "- 50% (medyan): 18 ay, çoğu kişi 18 ay civarında kredi çekiyor.\n",
    "- 75%: 24 ay, uzun vadeli krediler 2 yılın üzerinde.\n",
    "\n",
    "\n",
    "#### Yukarıda describe ile edinmiş olduğumuz bilgilerden de yola çıkarak grafik hakkında şu yorumu yapabiliriz:\n",
    "\n",
    "- Çekilmek istenen kredi süresinin yoğunluğu daha çok 12-23 ay aralığında daha yoğun olarak talep edildiğini görmekteyiz.\n",
    "- describe ile bulunan ortalama ile karşılaştırınca şu yorum ortaya çıkıyor: Daha uzun kredi süresi talep eden kişiler dolayısıyla ortalama yukarıya çıkmıştır. Bu sebeple tablo ve istatistiksel dağılım biraz birbirinden farklıdır.\n"
   ]
  },
  {
   "cell_type": "markdown",
   "id": "b79c25f1",
   "metadata": {},
   "source": [
    "**Görev 1.2.2**\n",
    "- Kategorik değişkenlerin sayımları (\"Sex\", \"Housing\", \"Purpose\" için çubuk grafikler)"
   ]
  },
  {
   "cell_type": "code",
   "execution_count": 21,
   "id": "22aa914c",
   "metadata": {
    "scrolled": true
   },
   "outputs": [
    {
     "data": {
      "text/plain": [
       "male      690\n",
       "female    310\n",
       "Name: sex, dtype: int64"
      ]
     },
     "execution_count": 21,
     "metadata": {},
     "output_type": "execute_result"
    }
   ],
   "source": [
    "df[\"sex\"].value_counts()"
   ]
  },
  {
   "cell_type": "code",
   "execution_count": 22,
   "id": "f4fd6d90",
   "metadata": {
    "scrolled": false
   },
   "outputs": [
    {
     "data": {
      "image/png": "[encoded data removed]",
      "text/plain": [
       "<Figure size 700x500 with 1 Axes>"
      ]
     },
     "metadata": {},
     "output_type": "display_data"
    }
   ],
   "source": [
    "# sex değişkeni dağılımına bakalım\n",
    "\n",
    "plt.figure(figsize = (7,5))\n",
    "counts = df[\"sex\"].value_counts()                           # Kategorik değişkenlerin sayımı\n",
    "plt.bar(counts.index, counts.values, color=['salmon', 'gold'], edgecolor='black')\n",
    "plt.xlabel('Sex', fontsize=12)\n",
    "plt.ylabel(\"Frekans\", fontsize=12)\n",
    "plt.xticks(rotation=45, fontsize=10)\n",
    "plt.grid(True)\n",
    "plt.show()"
   ]
  },
  {
   "cell_type": "markdown",
   "id": "0769dce4",
   "metadata": {},
   "source": [
    "### sex grafik yorumu\n",
    "\n",
    "**.describe(include='object') ile elde edilen sonuçlar:**\n",
    "\n",
    "- sex : 1000 gözlemde eksik değer yok.\n",
    "- sex: 2 farklı kategori var (\"male\" , \"female\").\n",
    "- En sık rastlanan değer \"male\". 690 kez tekrar edilmiş.\n",
    "\n",
    "**Yukarıda describe ile edinmiş olduğumuz bilgilerden de yola çıkarak grafik hakkında şu yorumu yapabiliriz:**\n",
    "- Erkek (\"male\") kategorisi, grafikte daha yüksek bir frekansa sahiptir. Bu, veri setindeki erkeklerin sayısının kadınlardan daha fazla olduğunu gösterir.\n",
    "- Erkeklerin sayısı yaklaşık 700 civarındayken, kadınların sayısı yaklaşık 300 civarında görünmektedir. Bu, erkeklerin kadınlara oranla veri setinde yaklaşık 2 kat daha fazla yer aldığını gösterir.\n",
    "\n",
    "**NOTE:**\n",
    "- Dengesiz Dağılım:\n",
    "    - Veri setindeki erkeklerin sayısının kadınlardan çok daha fazla olması, dengesiz bir dağılıma işaret ediyor. Bu durum, modelleme sırasında dikkate alınmalıdır. Örneğin:\n",
    "    - Eğer verinin çoğu erkeklerden oluşuyorsa, model cinsiyet farkını doğru şekilde değerlendiremeyebilir. Dengeli bir veri seti için kadın ve erkek grupları arasında eşit veya daha dengeli bir örneklem sağlanabilir.\n",
    "\n",
    "**NOTE:**\n",
    "- Dengesiz dağılım olması sebebiyle ileriki adımlarda kurulan modeller karşılaştırılırken Accuracy değeri değil de F1-Score dikkate alınarak değerlendirmeler yapılacaktır. \n",
    "-  F1-Score, özellikle dengesiz veri setlerinde modelin azınlık sınıfına ne kadar duyarlı ve doğru olduğunu ölçerken daha anlamlı bir metrik sunar. Accuracy, dengesiz veri setlerinde yanıltıcı olabileceğinden, F1-Score genellikle daha doğru ve güvenilir bir değerlendirme sağlar."
   ]
  },
  {
   "cell_type": "code",
   "execution_count": 23,
   "id": "4dc7bf0f",
   "metadata": {
    "scrolled": false
   },
   "outputs": [
    {
     "data": {
      "image/png": "[encoded data removed]",
      "text/plain": [
       "<Figure size 700x500 with 1 Axes>"
      ]
     },
     "metadata": {},
     "output_type": "display_data"
    }
   ],
   "source": [
    "# housing değişkeni dağılımına bakalım\n",
    "\n",
    "plt.figure(figsize = (7,5))\n",
    "counts = df[\"housing\"].value_counts()                           # Kategorik değişkenlerin sayımı\n",
    "plt.bar(counts.index, counts.values, color=['lightblue', 'salmon', 'gold', 'darkgreen'], edgecolor='black')\n",
    "plt.xlabel('Housing', fontsize=12)\n",
    "plt.ylabel(\"Frekans\", fontsize=12)\n",
    "plt.xticks(rotation=45, fontsize=10)\n",
    "plt.grid(True)\n",
    "plt.show()"
   ]
  },
  {
   "cell_type": "markdown",
   "id": "05cfbb48",
   "metadata": {},
   "source": [
    "**.describe(include='object') ile elde edilen sonuçlar:**\n",
    "\n",
    "housing : Kişinin konut durumu ( free : ücretsiz, rent: kiracı, own: kendi evi)\n",
    "- 1000 gözlemde eksik değer yok.\n",
    "- 3 farklı kategori (\"own\", \"rent\", \"free\").\n",
    "- En sık rastlanan değer \"own\" (kendi evi). \"own\" 713 kez tekrar edilmiş.\n",
    "\n",
    "**Yukarıda describe ile edinmiş olduğumuz bilgilerden de yola çıkarak grafik hakkında şu yorumu yapabiliriz:**\n",
    "- Own (Kendi Evi Olanlar): Bu kategori en yüksek frekansa sahiptir ve yaklaşık 700 kişi bu gruba dahildir. Veri setindeki bireylerin büyük bir kısmı kendi evine sahip.\n",
    "- Rent (Kirada Oturanlar): İkinci sırada yer almakta ve frekansı yaklaşık 150 civarındadır.\n",
    "- Free (Ücretsiz Oturanlar): En düşük frekansa sahiptir ve yaklaşık 100 kişi bu gruba dahildir.\n",
    "\n",
    "**Yorum:**\n",
    "- Kendi evine sahip olanlar genellikle finansal olarak daha istikrarlı kabul edilebilir, çünkü kira gibi düzenli bir harcamaları olmayabilir. Bu durum risksiz kredi ödeme durumu olarak değerlendirilebilir.\n",
    "- Kirada oturanlar finansal olarak daha fazla yük altında olabilir, bu da riskli kredi durumlarına yol açabilir.\n",
    "- Ücretsiz oturanlar, genellikle aile bireyleriyle yaşayanlar veya başka bir şekilde konut giderlerinden muaf olan kişilerdir. Bu durum, maddi durumlarının güçlü veya zayıf olduğunu anlamak için diğer değişkenlerle birlikte incelenmelidir.\n",
    "\n",
    "**Öneri:**\n",
    "- Konut Durumu ve Kredi Riski İlişkisini İnceleme: Konut durumuna göre riskli ve risksiz kredi durumlarının dağılımı analiz edilmelidir."
   ]
  },
  {
   "cell_type": "code",
   "execution_count": 24,
   "id": "15fad299",
   "metadata": {
    "scrolled": false
   },
   "outputs": [
    {
     "data": {
      "image/png": "[encoded data removed]",
      "text/plain": [
       "<Figure size 1000x550 with 1 Axes>"
      ]
     },
     "metadata": {},
     "output_type": "display_data"
    }
   ],
   "source": [
    "# purpose değişkeninin dağılımı\n",
    "\n",
    "plt.figure(figsize = (10,5.5))\n",
    "counts = df[\"purpose\"].value_counts()                           # Kategorik değişkenlerin sayımı\n",
    "plt.bar(counts.index, counts.values, color=['lightblue', 'salmon', 'gold', 'darkgreen','orange', 'purple', 'yellow','pink'], edgecolor='black')\n",
    "plt.xlabel('Purpose', fontsize=12)\n",
    "plt.ylabel(\"Frekans\", fontsize=12)\n",
    "plt.xticks(rotation=45, fontsize=10)\n",
    "plt.grid(True)\n",
    "plt.show()"
   ]
  },
  {
   "cell_type": "markdown",
   "id": "9e66ca5d",
   "metadata": {},
   "source": [
    "**.describe(include='object') ile elde edilen sonuçlar:**\n",
    "- purpose: 8 farklı kredi alma amacı. ('radio/TV', 'education', 'furniture/equipment', 'car', 'business', 'domestic appliances', 'repairs', 'vacation/others')\n",
    "- \"car\" en sık rastlanan kredi amacı.\n",
    "- \"car\" 337 kez tekrar edilmiş.\n",
    "\n",
    "**Yukarıda describe ile edinmiş olduğumuz bilgilerden de yola çıkarak grafik hakkında şu yorumu yapabiliriz:**\n",
    "- car (Araç): En sık kredi çekme amacı olarak görülüyor. Yaklaşık 350 kişi kredi çekerken bu amacı belirtmiş. Bu, veri setinde en baskın kategori.\n",
    "- radio/TV (Radyo/TV): İkinci sırada geliyor ve yaklaşık 270 kişi bu amaçla kredi çekmiş.\n",
    "- furniture/equipment (Mobilya/Ekipman): Bu amaç, yaklaşık 170 kişi tarafından belirtilmiş.\n",
    "- business (İş): İş amaçlı kredi çekenlerin sayısı 100 civarında.\n",
    "- education (Eğitim): Eğitim için kredi çekenlerin sayısı daha düşük (50 civarında).\n",
    "- repairs (Tamir): Tamir amaçlı kredi çekenlerin sayısı oldukça az (~25).\n",
    "- domestic appliances (Ev Aletleri) ve vacation/others (Tatiller/Diger): Bu kategoriler en düşük frekanslara sahip, her biri yaklaşık 10-20 kişi.\n",
    "\n",
    "**NOTE:**\n",
    "- Veri Dengesizliği:\n",
    "\n",
    "Veri setinde belirgin bir dengesizlik mevcut. Özellikle \"car\" ve \"radio/TV\" kategorileri, toplam veri setinin büyük bir kısmını oluştururken, diğer kategoriler oldukça az temsil edilmiş. Bu, modelleme sırasında bazı kategorilerin etkisinin azalmaması için dikkat edilmesi gereken bir durumdur.\n"
   ]
  },
  {
   "cell_type": "markdown",
   "id": "c06f6d03",
   "metadata": {},
   "source": [
    "**Görev 1.2.3**\n",
    "- Sayısal özellikler arasındaki ilişkileri anlamak için korelasyon haritası."
   ]
  },
  {
   "cell_type": "code",
   "execution_count": 25,
   "id": "00fccf00",
   "metadata": {},
   "outputs": [],
   "source": [
    "# Korelasyon matrixi yaparak değişkenlerin birbirine olan ilişkisini gözlemleyelim. \n",
    "\n",
    "corr_matrix = df.corr(numeric_only=True)"
   ]
  },
  {
   "cell_type": "code",
   "execution_count": 26,
   "id": "a8971317",
   "metadata": {},
   "outputs": [
    {
     "data": {
      "text/html": [
       "<div>\n",
       "<style scoped>\n",
       "    .dataframe tbody tr th:only-of-type {\n",
       "        vertical-align: middle;\n",
       "    }\n",
       "\n",
       "    .dataframe tbody tr th {\n",
       "        vertical-align: top;\n",
       "    }\n",
       "\n",
       "    .dataframe thead th {\n",
       "        text-align: right;\n",
       "    }\n",
       "</style>\n",
       "<table border=\"1\" class=\"dataframe\">\n",
       "  <thead>\n",
       "    <tr style=\"text-align: right;\">\n",
       "      <th></th>\n",
       "      <th>age</th>\n",
       "      <th>job</th>\n",
       "      <th>credit_amount</th>\n",
       "      <th>duration</th>\n",
       "      <th>risk</th>\n",
       "    </tr>\n",
       "  </thead>\n",
       "  <tbody>\n",
       "    <tr>\n",
       "      <th>age</th>\n",
       "      <td>1.000000</td>\n",
       "      <td>0.015673</td>\n",
       "      <td>0.032716</td>\n",
       "      <td>-0.036136</td>\n",
       "      <td>0.091127</td>\n",
       "    </tr>\n",
       "    <tr>\n",
       "      <th>job</th>\n",
       "      <td>0.015673</td>\n",
       "      <td>1.000000</td>\n",
       "      <td>0.285385</td>\n",
       "      <td>0.210910</td>\n",
       "      <td>-0.032735</td>\n",
       "    </tr>\n",
       "    <tr>\n",
       "      <th>credit_amount</th>\n",
       "      <td>0.032716</td>\n",
       "      <td>0.285385</td>\n",
       "      <td>1.000000</td>\n",
       "      <td>0.624984</td>\n",
       "      <td>-0.154739</td>\n",
       "    </tr>\n",
       "    <tr>\n",
       "      <th>duration</th>\n",
       "      <td>-0.036136</td>\n",
       "      <td>0.210910</td>\n",
       "      <td>0.624984</td>\n",
       "      <td>1.000000</td>\n",
       "      <td>-0.214927</td>\n",
       "    </tr>\n",
       "    <tr>\n",
       "      <th>risk</th>\n",
       "      <td>0.091127</td>\n",
       "      <td>-0.032735</td>\n",
       "      <td>-0.154739</td>\n",
       "      <td>-0.214927</td>\n",
       "      <td>1.000000</td>\n",
       "    </tr>\n",
       "  </tbody>\n",
       "</table>\n",
       "</div>"
      ],
      "text/plain": [
       "                    age       job  credit_amount  duration      risk\n",
       "age            1.000000  0.015673       0.032716 -0.036136  0.091127\n",
       "job            0.015673  1.000000       0.285385  0.210910 -0.032735\n",
       "credit_amount  0.032716  0.285385       1.000000  0.624984 -0.154739\n",
       "duration      -0.036136  0.210910       0.624984  1.000000 -0.214927\n",
       "risk           0.091127 -0.032735      -0.154739 -0.214927  1.000000"
      ]
     },
     "execution_count": 26,
     "metadata": {},
     "output_type": "execute_result"
    }
   ],
   "source": [
    "corr_matrix"
   ]
  },
  {
   "cell_type": "code",
   "execution_count": 27,
   "id": "d8f34dfd",
   "metadata": {
    "scrolled": false
   },
   "outputs": [
    {
     "data": {
      "image/png": "[encoded data removed]",
      "text/plain": [
       "<Figure size 800x600 with 2 Axes>"
      ]
     },
     "metadata": {},
     "output_type": "display_data"
    }
   ],
   "source": [
    "plt.figure(figsize=(8,6))\n",
    "sns.heatmap(corr_matrix, annot=True, cmap=\"coolwarm\")\n",
    "plt.show()"
   ]
  },
  {
   "cell_type": "markdown",
   "id": "cbd15380",
   "metadata": {},
   "source": [
    "### Korelasyon matrixinden yapılan çıkarımlar:\n",
    "\n",
    "- age ile diğer değişkenler(risk, duration,credit_amount, job) arasında zayıf ilişki var:\n",
    "  \n",
    "  age ile diğer değişkenler arasındaki korelasyon çok düşük, neredeyse yok.\n",
    "  \n",
    "  (örn: age ile job: +0.016, age ile credit_amount: +0.033).\n",
    "  \n",
    "  Bu, yaşın diğer değişkenlerle anlamlı bir ilişki içinde olmadığını gösterebilir.\n",
    "<br>\n",
    "\n",
    "- credit_amount ve duration arasında pozitif bir korelasyon (+0.62):\n",
    "\n",
    "  Bu iki değişken arasında orta derecede güçlü bir ilişki var. \n",
    "  \n",
    "  Örneğin, kredi miktarı (credit_amount) arttıkça, genelde kredi    süresi (duration) de artıyor olabilir.\n",
    "<br>\n",
    "\n",
    "- risk ile credit_amount ve duration arasında negatif korelasyon:\n",
    "\n",
    "  risk ile credit_amount: -0.15\n",
    "  \n",
    "  risk ile duration: -0.21\n",
    "  \n",
    "  Bu, risk seviyesi arttıkça kredi miktarının ve süresinin azalma eğiliminde olabileceğini gösterebilir. \n",
    "<br>\n",
    "\n",
    "- job ile credit_amount arasında zayıf pozitif ilişki (+0.29):\n",
    " \n",
    "  İş durumu (job) ile kredi miktarı arasında düşük bir pozitif korelasyon var.\n",
    "  \n",
    "  Bu durum yetkin bir meslekte olunması dahilinde kredi miktarının artacağına yönelik bir yorum çıkarılabilir.\n",
    "<br>\n",
    "\n",
    "- job ve duration arasında zayıf bir pozitif ilişki var gibi görünüyor( +0.21):\n",
    "  İş durumu ( job) ile kredi süresi (duration) arasında düşük pozitif bir korelasyon var.\n",
    "  \n",
    "  Bu durum sahip olunan mesleğe göre verilen kredi süresinin artacağı yönünde bir yorum çıkarılabilir.\n",
    "\n"
   ]
  },
  {
   "cell_type": "markdown",
   "id": "916f2920",
   "metadata": {},
   "source": [
    "# 1.3. Cevaplanması Gereken Sorular"
   ]
  },
  {
   "cell_type": "markdown",
   "id": "7ed5362b",
   "metadata": {},
   "source": [
    "- Soru 1: Veri setinde eksik değerler var mı? Hangi kolonlarda var ve bunlarla nasıl başa çıkılacak?\n",
    "\n",
    "- Soru 2: \"Age\", \"Credit amount\" ve \"Duration\" değişkenlerinin dağılımları nedir? Aykırı değerler var mı?\n",
    "\n",
    "- Soru 3: Hedef kolonunda (\"iyi\" ve \"kötü\" kredi riski) oran nasıldır? Veri dengesiz mi?\n",
    "\n",
    "- Soru 4: \"İyi\" kredi riski kategorisindeki bireylerin ortalama \"Credit amount\" değeri nedir?\n",
    "\n",
    "- Soru 5: \"Free\" (bedava) konut kategorisindeki bireylerin \"Saving accounts\" değişkeninin dağılımı nasıldır?\n",
    "\n",
    "- Soru 6: \"İyi\" ve \"kötü\" kredi riski grupları arasında \"Duration\" farklılık gösteriyor mu?\n",
    "\n",
    "- Soru 7: Yüksek kredi miktarına sahip bireylerin (75. percentile üzerinde) en sık kullandığı 3 \"Purpose\" kategorisi nedir?"
   ]
  },
  {
   "cell_type": "code",
   "execution_count": 28,
   "id": "e14b6149",
   "metadata": {
    "scrolled": true
   },
   "outputs": [
    {
     "data": {
      "text/plain": [
       "age                   0\n",
       "sex                   0\n",
       "job                   0\n",
       "housing               0\n",
       "saving_accounts     183\n",
       "checking_account    394\n",
       "credit_amount         0\n",
       "duration              0\n",
       "purpose               0\n",
       "risk                  0\n",
       "dtype: int64"
      ]
     },
     "execution_count": 28,
     "metadata": {},
     "output_type": "execute_result"
    }
   ],
   "source": [
    "# Soru 1 : Veri setinde eksik değerler var mı? Hangi kolonlarda var ve bunlarla nasıl başa çıkılacak?\n",
    "\n",
    "df.isnull().sum()         # veri setindeki eksik değerleri bulalım"
   ]
  },
  {
   "cell_type": "markdown",
   "id": "29811db2",
   "metadata": {},
   "source": [
    "**Soru 1 için Yorum:**\n",
    "   - **saving_accounts'da 183** ve **checking_account'da 394** tane eksik değer bulunmaktadır.\n",
    "   - Eğer sütundaki eksik değer oranı çok yüksekse veya eksik olan verilerin tahmini anlamlı sonuçlar üretmiyorsa, sütunu veya satırı tamamen **silinebilir**.\n",
    "   - Eksik değerler **doldurulabilir**. \n",
    "       - Kategorik değişken ise eksik değerleri sütunda en çok tekrar eden kategorik değerle doldurur. (Mode ile)\n",
    "       - Sayısal değişken ise eksik değerleri ortalama(Mean) veya Ortanca(Median) ile doldurulabilir.\n",
    "       \n",
    "   - Eksik veriler **tahmin edilebilir**.\n",
    "    \n",
    "Bu veri seti çok büyük değil, bu yüzden veriyi silmek yerine doldurmak daha iyi olabilir."
   ]
  },
  {
   "cell_type": "code",
   "execution_count": 29,
   "id": "5e3b4536",
   "metadata": {
    "scrolled": true
   },
   "outputs": [],
   "source": [
    "# Soru 2: \"Age\", \"Credit amount\" ve \"Duration\" değişkenlerinin dağılımları nedir? Aykırı değerler var mı?"
   ]
  },
  {
   "cell_type": "code",
   "execution_count": 30,
   "id": "9eb8b7d2",
   "metadata": {},
   "outputs": [
    {
     "data": {
      "image/png": "[encoded data removed]",
      "text/plain": [
       "<Figure size 800x400 with 1 Axes>"
      ]
     },
     "metadata": {},
     "output_type": "display_data"
    },
    {
     "data": {
      "image/png": "[encoded data removed]",
      "text/plain": [
       "<Figure size 800x400 with 1 Axes>"
      ]
     },
     "metadata": {},
     "output_type": "display_data"
    },
    {
     "data": {
      "image/png": "[encoded data removed]",
      "text/plain": [
       "<Figure size 800x400 with 1 Axes>"
      ]
     },
     "metadata": {},
     "output_type": "display_data"
    }
   ],
   "source": [
    "degerler = df[[\"age\", \"credit_amount\", \"duration\"]]\n",
    "\n",
    "for col in degerler.columns:\n",
    "    plt.figure(figsize=(8, 4))\n",
    "    sns.boxplot(data=degerler, x=col)\n",
    "    plt.title(f'Boxplot of {col}')\n",
    "    plt.show()"
   ]
  },
  {
   "cell_type": "markdown",
   "id": "9ad21d1b",
   "metadata": {},
   "source": [
    "**Soru 2 için Yorum:**\n",
    "\n",
    "### Yorumlayalım:\n",
    "- age için 20 ve 65 yaş arası normal kabul edilmiş. 65'ten sonra olanlar outlier kabul edilmiş. sebebi 65 yaş sonrası kişiler yaşlılık dolayısıyla çalışamamaları olabilir.\n",
    "\n",
    "- credit_amount değeri için yaklaşık 8000 dolar sonrası outlier kabul edilmiş. bankanın koymuş olduğu bir sınır olabilir. kişilerin diğer özellikleri dikkate alınarak tekrar gözden geçirilmelidir.\n",
    "\n",
    "- duration değeri için yaklaşık 45'ten sonrası outlier kabul edilmiş. bankanın koymuş olduğu bir sınır olabilir. kişilerin diğer özellikleri dikkate alınarak tekrar gözden geçirilmelidir.\n"
   ]
  },
  {
   "cell_type": "code",
   "execution_count": 31,
   "id": "46040c1b",
   "metadata": {},
   "outputs": [
    {
     "name": "stdout",
     "output_type": "stream",
     "text": [
      "1    0.7\n",
      "0    0.3\n",
      "Name: risk, dtype: float64\n"
     ]
    }
   ],
   "source": [
    "# Soru 3: Hedef kolonunda (\"iyi\" ve \"kötü\" kredi riski) oran nasıldır? Veri dengesiz mi?\n",
    "\n",
    "# Hedef kolonu (\"kredi_riski\") değerlerinin oranını hesaplayın\n",
    "oranlar = df['risk'].value_counts(normalize=True)\n",
    "print(oranlar)\n"
   ]
  },
  {
   "cell_type": "markdown",
   "id": "bcf23d28",
   "metadata": {},
   "source": [
    "**Soru 3 için Yorum:**\n",
    "- Eğer bir kategori çok fazla, diğer kategori ise çok azsa, bu veri seti dengesiz demektir.\n",
    "- Denge durumu genellikle %70-%30 oranlarının üstündeyse veri dengesiz kabul edilir.\n",
    "- Bizim verimiz \"1\" (iyi kredi riski)(risksiz) oranı %70 ve \"0\" (kötü kredi riski(riskli) oranı %30.\n",
    "- Bu durumda evet veri setimiz dengesizdir."
   ]
  },
  {
   "cell_type": "markdown",
   "id": "b33b9d97",
   "metadata": {},
   "source": [
    "**NOTE:**\n",
    "\n",
    "- Dengesiz dağılım olması sebebiyle ileriki adımlarda kurulan modeller karşılaştırılırken Accuracy değeri değil de F1-Score dikkate alınarak değerlendirmeler yapılacaktır.\n",
    "- F1-Score, özellikle dengesiz veri setlerinde modelin azınlık sınıfına ne kadar duyarlı ve doğru olduğunu ölçerken daha anlamlı bir metrik sunar. Accuracy, dengesiz veri setlerinde yanıltıcı olabileceğinden, F1-Score genellikle daha doğru ve güvenilir bir değerlendirme sağlar."
   ]
  },
  {
   "cell_type": "code",
   "execution_count": 32,
   "id": "a5413cba",
   "metadata": {},
   "outputs": [
    {
     "name": "stdout",
     "output_type": "stream",
     "text": [
      "İyi kredi riski kategorisindeki bireylerin ortalama 'credit_amount' değeri: 2985.457142857143\n"
     ]
    }
   ],
   "source": [
    "# Soru 4: \"İyi\" kredi riski kategorisindeki bireylerin ortalama \"Credit amount\" değeri nedir?   -- Yani risksiz = 1\n",
    "\n",
    "ort_iyi_risksiz = df[df[\"risk\"] == 1][\"credit_amount\"].mean()\n",
    "\n",
    "print(f\"İyi kredi riski kategorisindeki bireylerin ortalama 'credit_amount' değeri: {ort_iyi_risksiz}\")\n"
   ]
  },
  {
   "cell_type": "code",
   "execution_count": 33,
   "id": "baef7763",
   "metadata": {},
   "outputs": [
    {
     "name": "stdout",
     "output_type": "stream",
     "text": [
      "Free konut kategorisindeki bireylerin 'saving_accounts' değişkeninin dağılımı:\n",
      "little        67\n",
      "moderate      10\n",
      "quite rich     6\n",
      "rich           2\n",
      "Name: saving_accounts, dtype: int64\n"
     ]
    }
   ],
   "source": [
    "# Soru 5: \"Free\" (bedava) konut kategorisindeki bireylerin \"Saving accounts\" değişkeninin dağılımı nasıldır?\n",
    "\n",
    "\n",
    "free = df[df[\"housing\"] == \"free\"][\"saving_accounts\"].value_counts()\n",
    "\n",
    "print(f\"Free konut kategorisindeki bireylerin 'saving_accounts' değişkeninin dağılımı:\\n{free}\")"
   ]
  },
  {
   "cell_type": "markdown",
   "id": "83cc3040",
   "metadata": {},
   "source": [
    "**Soru 5 için Yorum:**\n",
    "- Konut durumu free olan kişilerin çoğunluğu küçük bir hesap durumuna sahip olup, kişinin tasarruf hesabındaki birikim durumu az olduğu görülmektedir."
   ]
  },
  {
   "cell_type": "code",
   "execution_count": 34,
   "id": "945d548a",
   "metadata": {},
   "outputs": [
    {
     "name": "stdout",
     "output_type": "stream",
     "text": [
      "İyi ve kötü kredi riski grupları arasında 'Duration' ortalamaları:\n",
      "risk\n",
      "0    24.860000\n",
      "1    19.207143\n",
      "Name: duration, dtype: float64\n"
     ]
    }
   ],
   "source": [
    "# Soru 6: \"İyi\" ve \"kötü\" kredi riski grupları arasında \"Duration\" farklılık gösteriyor mu?\n",
    "\n",
    "grup_difference = df.groupby('risk')['duration'].mean()\n",
    "\n",
    "print(f\"İyi ve kötü kredi riski grupları arasında 'Duration' ortalamaları:\\n{grup_difference}\")\n",
    "\n"
   ]
  },
  {
   "cell_type": "markdown",
   "id": "f0727cc4",
   "metadata": {},
   "source": [
    "**Soru 6 için Yorum:**\n",
    "- Evet, riskli ve risksiz gruplar için kredi süresi farklılık göstermektedir.\n",
    "- 0 yani riskli olan gruplarda, kredi süresi ortalama 24 ay\n",
    "- 1 yani risksiz olan gruplarda, kredi süresi ortalama 19 ay \n",
    "\n",
    "- Yani risksiz olan kişiler kredilerini daha kısa sürede ödemişler."
   ]
  },
  {
   "cell_type": "code",
   "execution_count": 35,
   "id": "498788a2",
   "metadata": {},
   "outputs": [],
   "source": [
    "# Soru 7: Yüksek kredi miktarına sahip bireylerin (75. percentile üzerinde) en sık kullandığı 3 \"Purpose\" kategorisi nedir? \n",
    "\n",
    "en_sık_purpose = df[df['credit_amount'] > df['credit_amount'].quantile(0.75)].apply(lambda x: x['purpose'], axis=1).value_counts().head(3)"
   ]
  },
  {
   "cell_type": "code",
   "execution_count": 36,
   "id": "33828cc4",
   "metadata": {},
   "outputs": [
    {
     "data": {
      "text/plain": [
       "car         108\n",
       "radio/TV     39\n",
       "business     39\n",
       "dtype: int64"
      ]
     },
     "execution_count": 36,
     "metadata": {},
     "output_type": "execute_result"
    }
   ],
   "source": [
    "en_sık_purpose"
   ]
  },
  {
   "cell_type": "markdown",
   "id": "dde457d5",
   "metadata": {},
   "source": [
    "**<span style=\"font-size:32px; color:black;\">2. Veri Temizleme ve Ön İşleme</span>**"
   ]
  },
  {
   "cell_type": "markdown",
   "id": "c1e1b314",
   "metadata": {},
   "source": [
    "# 2.1. Eksik Değerlerin Ele Alınması"
   ]
  },
  {
   "cell_type": "markdown",
   "id": "f2ffcf35",
   "metadata": {},
   "source": [
    "**Görev 2.1.1**\n",
    "- \"Saving accounts\" ve \"Checking account\" gibi kategorik değişkenlerde eksik değerleri doldurun ve kategorileri (\"little\", \"moderate\", \"rich\", vb.) sayısal değerlere dönüştürün.\n",
    "    - İpucu: unknown:0, little:1, moderate:2, rich:3 gibi bir saysal dönüşüm uygulayabilirsiniz."
   ]
  },
  {
   "cell_type": "code",
   "execution_count": 37,
   "id": "253b85bd",
   "metadata": {},
   "outputs": [
    {
     "name": "stdout",
     "output_type": "stream",
     "text": [
      "<class 'pandas.core.frame.DataFrame'>\n",
      "RangeIndex: 1000 entries, 0 to 999\n",
      "Data columns (total 10 columns):\n",
      " #   Column            Non-Null Count  Dtype \n",
      "---  ------            --------------  ----- \n",
      " 0   age               1000 non-null   int64 \n",
      " 1   sex               1000 non-null   object\n",
      " 2   job               1000 non-null   int64 \n",
      " 3   housing           1000 non-null   object\n",
      " 4   saving_accounts   817 non-null    object\n",
      " 5   checking_account  606 non-null    object\n",
      " 6   credit_amount     1000 non-null   int64 \n",
      " 7   duration          1000 non-null   int64 \n",
      " 8   purpose           1000 non-null   object\n",
      " 9   risk              1000 non-null   int64 \n",
      "dtypes: int64(5), object(5)\n",
      "memory usage: 78.3+ KB\n"
     ]
    }
   ],
   "source": [
    "df.info()"
   ]
  },
  {
   "cell_type": "markdown",
   "id": "e488246c",
   "metadata": {},
   "source": [
    "- **saving_accounts ve checking_account** değerlerinin tipleri object'ttir ve eksik değerler bulunmaktadır.\n",
    "- Eksik değerleri inceleyelim."
   ]
  },
  {
   "cell_type": "code",
   "execution_count": 38,
   "id": "9f6e84a9",
   "metadata": {},
   "outputs": [
    {
     "data": {
      "text/plain": [
       "age                   0\n",
       "sex                   0\n",
       "job                   0\n",
       "housing               0\n",
       "saving_accounts     183\n",
       "checking_account    394\n",
       "credit_amount         0\n",
       "duration              0\n",
       "purpose               0\n",
       "risk                  0\n",
       "dtype: int64"
      ]
     },
     "execution_count": 38,
     "metadata": {},
     "output_type": "execute_result"
    }
   ],
   "source": [
    "df.isnull().sum()"
   ]
  },
  {
   "cell_type": "markdown",
   "id": "c3d576a9",
   "metadata": {},
   "source": [
    "- **saving_accounts**'da --> 183 eksik değer bulunmaktadır.\n",
    "- **checking_accounts**'da --> 394 eksik değer bulunmaktadır."
   ]
  },
  {
   "cell_type": "markdown",
   "id": "3e4162e7",
   "metadata": {},
   "source": [
    "#### Eksik değerlerin doldurulması ile ilgili Yorum: \n",
    "- Yukarıdaki bilgilerden yola çıkarak veri setimiz çok büyük değil o yüzden doldurmak daha doğru olacaktır.\n",
    "- Eksik değerler doldururken:\n",
    "    - Kategorik değişken ise eksik değerleri sütunda en çok tekrar eden kategorik değerle doldurur. (Mode ile)\n",
    "    - Sayısal değişken ise eksik değerleri ortalama(Mean) veya Ortanca(Median) ile doldurulabilir.\n"
   ]
  },
  {
   "cell_type": "code",
   "execution_count": 39,
   "id": "69ba933c",
   "metadata": {},
   "outputs": [],
   "source": [
    "#Kategorik değişkenlerin/object tipteki değişkenlerin Mode(en çok tekrar eden değer) ile dolduralım\n",
    "\n",
    "df['saving_accounts'].fillna(df['saving_accounts'].mode()[0], inplace=True)\n",
    "df['checking_account'].fillna(df['checking_account'].mode()[0], inplace=True)"
   ]
  },
  {
   "cell_type": "code",
   "execution_count": 40,
   "id": "5348e825",
   "metadata": {},
   "outputs": [
    {
     "data": {
      "text/plain": [
       "age                 0\n",
       "sex                 0\n",
       "job                 0\n",
       "housing             0\n",
       "saving_accounts     0\n",
       "checking_account    0\n",
       "credit_amount       0\n",
       "duration            0\n",
       "purpose             0\n",
       "risk                0\n",
       "dtype: int64"
      ]
     },
     "execution_count": 40,
     "metadata": {},
     "output_type": "execute_result"
    }
   ],
   "source": [
    "df.isnull().sum()                       # eksik değer var mı tekrar kontrol edelim. Hepsi doldurulmuş oldu."
   ]
  },
  {
   "cell_type": "markdown",
   "id": "295fa174",
   "metadata": {},
   "source": [
    "**Görev 2.1.2**\n",
    "\n",
    "- doldurulan kategorileri (\"little\", \"moderate\", \"rich\", vb.) sayısal değerlere dönüştürün.\n",
    "    - İpucu: unknown:0, little:1, moderate:2, rich:3 gibi bir sayısal dönüşüm uygulayabilirsiniz."
   ]
  },
  {
   "cell_type": "code",
   "execution_count": 41,
   "id": "bba74205",
   "metadata": {},
   "outputs": [
    {
     "data": {
      "text/plain": [
       "array(['little', 'quite rich', 'rich', 'moderate'], dtype=object)"
      ]
     },
     "execution_count": 41,
     "metadata": {},
     "output_type": "execute_result"
    }
   ],
   "source": [
    "# saving_accounts'un unique değerlerine bakalım ve ona göre dolduralım.\n",
    "df[\"saving_accounts\"].unique()"
   ]
  },
  {
   "cell_type": "code",
   "execution_count": 42,
   "id": "babe81b1",
   "metadata": {},
   "outputs": [
    {
     "data": {
      "text/plain": [
       "array(['little', 'moderate', 'rich'], dtype=object)"
      ]
     },
     "execution_count": 42,
     "metadata": {},
     "output_type": "execute_result"
    }
   ],
   "source": [
    "# checking_account'un unique değerlerine bakalım ve ona göre dolduralım.\n",
    "df[\"checking_account\"].unique()"
   ]
  },
  {
   "cell_type": "code",
   "execution_count": 43,
   "id": "14a0527e",
   "metadata": {},
   "outputs": [
    {
     "data": {
      "text/plain": [
       "little        786\n",
       "moderate      103\n",
       "quite rich     63\n",
       "rich           48\n",
       "Name: saving_accounts, dtype: int64"
      ]
     },
     "execution_count": 43,
     "metadata": {},
     "output_type": "execute_result"
    }
   ],
   "source": [
    "df[\"saving_accounts\"].value_counts()"
   ]
  },
  {
   "cell_type": "code",
   "execution_count": 44,
   "id": "83dc1ec7",
   "metadata": {},
   "outputs": [
    {
     "data": {
      "text/plain": [
       "little      668\n",
       "moderate    269\n",
       "rich         63\n",
       "Name: checking_account, dtype: int64"
      ]
     },
     "execution_count": 44,
     "metadata": {},
     "output_type": "execute_result"
    }
   ],
   "source": [
    "df[\"checking_account\"].value_counts()"
   ]
  },
  {
   "cell_type": "code",
   "execution_count": 45,
   "id": "6b820494",
   "metadata": {},
   "outputs": [],
   "source": [
    "# öncelikle saving_accounts ve checking_account değerlerinin içerisinde bulunan kategroik değerleri istenen şekilde sayısal değerlere dönüştürme\n",
    "\n",
    "saving = {'little': 1, 'moderate': 2, 'rich': 3, 'quite rich': 4}\n",
    "checking = {'little': 1, 'moderate': 2, 'rich': 3}\n",
    "\n",
    "# Değişkenler için dönüşümü uygulayalım\n",
    "df['saving_accounts'] = df['saving_accounts'].replace(saving)\n",
    "df['checking_account'] = df['checking_account'].replace(checking)"
   ]
  },
  {
   "cell_type": "code",
   "execution_count": 46,
   "id": "45547448",
   "metadata": {},
   "outputs": [
    {
     "data": {
      "text/html": [
       "<div>\n",
       "<style scoped>\n",
       "    .dataframe tbody tr th:only-of-type {\n",
       "        vertical-align: middle;\n",
       "    }\n",
       "\n",
       "    .dataframe tbody tr th {\n",
       "        vertical-align: top;\n",
       "    }\n",
       "\n",
       "    .dataframe thead th {\n",
       "        text-align: right;\n",
       "    }\n",
       "</style>\n",
       "<table border=\"1\" class=\"dataframe\">\n",
       "  <thead>\n",
       "    <tr style=\"text-align: right;\">\n",
       "      <th></th>\n",
       "      <th>age</th>\n",
       "      <th>sex</th>\n",
       "      <th>job</th>\n",
       "      <th>housing</th>\n",
       "      <th>saving_accounts</th>\n",
       "      <th>checking_account</th>\n",
       "      <th>credit_amount</th>\n",
       "      <th>duration</th>\n",
       "      <th>purpose</th>\n",
       "      <th>risk</th>\n",
       "    </tr>\n",
       "  </thead>\n",
       "  <tbody>\n",
       "    <tr>\n",
       "      <th>0</th>\n",
       "      <td>67</td>\n",
       "      <td>male</td>\n",
       "      <td>2</td>\n",
       "      <td>own</td>\n",
       "      <td>1</td>\n",
       "      <td>1</td>\n",
       "      <td>1169</td>\n",
       "      <td>6</td>\n",
       "      <td>radio/TV</td>\n",
       "      <td>1</td>\n",
       "    </tr>\n",
       "    <tr>\n",
       "      <th>1</th>\n",
       "      <td>22</td>\n",
       "      <td>female</td>\n",
       "      <td>2</td>\n",
       "      <td>own</td>\n",
       "      <td>1</td>\n",
       "      <td>2</td>\n",
       "      <td>5951</td>\n",
       "      <td>48</td>\n",
       "      <td>radio/TV</td>\n",
       "      <td>0</td>\n",
       "    </tr>\n",
       "    <tr>\n",
       "      <th>2</th>\n",
       "      <td>49</td>\n",
       "      <td>male</td>\n",
       "      <td>1</td>\n",
       "      <td>own</td>\n",
       "      <td>1</td>\n",
       "      <td>1</td>\n",
       "      <td>2096</td>\n",
       "      <td>12</td>\n",
       "      <td>education</td>\n",
       "      <td>1</td>\n",
       "    </tr>\n",
       "    <tr>\n",
       "      <th>3</th>\n",
       "      <td>45</td>\n",
       "      <td>male</td>\n",
       "      <td>2</td>\n",
       "      <td>free</td>\n",
       "      <td>1</td>\n",
       "      <td>1</td>\n",
       "      <td>7882</td>\n",
       "      <td>42</td>\n",
       "      <td>furniture/equipment</td>\n",
       "      <td>1</td>\n",
       "    </tr>\n",
       "    <tr>\n",
       "      <th>4</th>\n",
       "      <td>53</td>\n",
       "      <td>male</td>\n",
       "      <td>2</td>\n",
       "      <td>free</td>\n",
       "      <td>1</td>\n",
       "      <td>1</td>\n",
       "      <td>4870</td>\n",
       "      <td>24</td>\n",
       "      <td>car</td>\n",
       "      <td>0</td>\n",
       "    </tr>\n",
       "    <tr>\n",
       "      <th>5</th>\n",
       "      <td>35</td>\n",
       "      <td>male</td>\n",
       "      <td>1</td>\n",
       "      <td>free</td>\n",
       "      <td>1</td>\n",
       "      <td>1</td>\n",
       "      <td>9055</td>\n",
       "      <td>36</td>\n",
       "      <td>education</td>\n",
       "      <td>1</td>\n",
       "    </tr>\n",
       "    <tr>\n",
       "      <th>6</th>\n",
       "      <td>53</td>\n",
       "      <td>male</td>\n",
       "      <td>2</td>\n",
       "      <td>own</td>\n",
       "      <td>4</td>\n",
       "      <td>1</td>\n",
       "      <td>2835</td>\n",
       "      <td>24</td>\n",
       "      <td>furniture/equipment</td>\n",
       "      <td>1</td>\n",
       "    </tr>\n",
       "    <tr>\n",
       "      <th>7</th>\n",
       "      <td>35</td>\n",
       "      <td>male</td>\n",
       "      <td>3</td>\n",
       "      <td>rent</td>\n",
       "      <td>1</td>\n",
       "      <td>2</td>\n",
       "      <td>6948</td>\n",
       "      <td>36</td>\n",
       "      <td>car</td>\n",
       "      <td>1</td>\n",
       "    </tr>\n",
       "    <tr>\n",
       "      <th>8</th>\n",
       "      <td>61</td>\n",
       "      <td>male</td>\n",
       "      <td>1</td>\n",
       "      <td>own</td>\n",
       "      <td>3</td>\n",
       "      <td>1</td>\n",
       "      <td>3059</td>\n",
       "      <td>12</td>\n",
       "      <td>radio/TV</td>\n",
       "      <td>1</td>\n",
       "    </tr>\n",
       "    <tr>\n",
       "      <th>9</th>\n",
       "      <td>28</td>\n",
       "      <td>male</td>\n",
       "      <td>3</td>\n",
       "      <td>own</td>\n",
       "      <td>1</td>\n",
       "      <td>2</td>\n",
       "      <td>5234</td>\n",
       "      <td>30</td>\n",
       "      <td>car</td>\n",
       "      <td>0</td>\n",
       "    </tr>\n",
       "  </tbody>\n",
       "</table>\n",
       "</div>"
      ],
      "text/plain": [
       "   age     sex  job housing  saving_accounts  checking_account  credit_amount  \\\n",
       "0   67    male    2     own                1                 1           1169   \n",
       "1   22  female    2     own                1                 2           5951   \n",
       "2   49    male    1     own                1                 1           2096   \n",
       "3   45    male    2    free                1                 1           7882   \n",
       "4   53    male    2    free                1                 1           4870   \n",
       "5   35    male    1    free                1                 1           9055   \n",
       "6   53    male    2     own                4                 1           2835   \n",
       "7   35    male    3    rent                1                 2           6948   \n",
       "8   61    male    1     own                3                 1           3059   \n",
       "9   28    male    3     own                1                 2           5234   \n",
       "\n",
       "   duration              purpose  risk  \n",
       "0         6             radio/TV     1  \n",
       "1        48             radio/TV     0  \n",
       "2        12            education     1  \n",
       "3        42  furniture/equipment     1  \n",
       "4        24                  car     0  \n",
       "5        36            education     1  \n",
       "6        24  furniture/equipment     1  \n",
       "7        36                  car     1  \n",
       "8        12             radio/TV     1  \n",
       "9        30                  car     0  "
      ]
     },
     "execution_count": 46,
     "metadata": {},
     "output_type": "execute_result"
    }
   ],
   "source": [
    "# doldurulan değerleri uygulanmış mı diye kontrol edelim. İlk 10 değeri çağırarak kontrol edelim\n",
    "df.head(10)"
   ]
  },
  {
   "cell_type": "markdown",
   "id": "09ef094b",
   "metadata": {},
   "source": [
    "**Görev 2.1.3** \n",
    "- Sayısal değişkenlerde eksik değerleri medyan ile doldurun."
   ]
  },
  {
   "cell_type": "code",
   "execution_count": 47,
   "id": "e8ab9a64",
   "metadata": {},
   "outputs": [
    {
     "name": "stdout",
     "output_type": "stream",
     "text": [
      "<class 'pandas.core.frame.DataFrame'>\n",
      "RangeIndex: 1000 entries, 0 to 999\n",
      "Data columns (total 10 columns):\n",
      " #   Column            Non-Null Count  Dtype \n",
      "---  ------            --------------  ----- \n",
      " 0   age               1000 non-null   int64 \n",
      " 1   sex               1000 non-null   object\n",
      " 2   job               1000 non-null   int64 \n",
      " 3   housing           1000 non-null   object\n",
      " 4   saving_accounts   1000 non-null   int64 \n",
      " 5   checking_account  1000 non-null   int64 \n",
      " 6   credit_amount     1000 non-null   int64 \n",
      " 7   duration          1000 non-null   int64 \n",
      " 8   purpose           1000 non-null   object\n",
      " 9   risk              1000 non-null   int64 \n",
      "dtypes: int64(7), object(3)\n",
      "memory usage: 78.3+ KB\n"
     ]
    }
   ],
   "source": [
    "df.info()"
   ]
  },
  {
   "cell_type": "markdown",
   "id": "ce8aa6c0",
   "metadata": {},
   "source": [
    "- **Burada saving_accounts ve checking_account** değişkenlerimizin tiplerinin de int64'e dönüştüğünü görüyoruz.\n",
    "\n",
    "\n",
    "- Sayısal/ int64 tipinde olan  age, job, saving_accounts, checking_account, credit_account, duration, risk değişkenlerindeki eksik değerleri inceleyelim:\n"
   ]
  },
  {
   "cell_type": "code",
   "execution_count": 48,
   "id": "c149e93b",
   "metadata": {},
   "outputs": [
    {
     "data": {
      "text/plain": [
       "age                 0\n",
       "sex                 0\n",
       "job                 0\n",
       "housing             0\n",
       "saving_accounts     0\n",
       "checking_account    0\n",
       "credit_amount       0\n",
       "duration            0\n",
       "purpose             0\n",
       "risk                0\n",
       "dtype: int64"
      ]
     },
     "execution_count": 48,
     "metadata": {},
     "output_type": "execute_result"
    }
   ],
   "source": [
    "df.isnull().sum()"
   ]
  },
  {
   "cell_type": "markdown",
   "id": "e9722854",
   "metadata": {},
   "source": [
    "- #### int64 tipinde olan değişkenlerimizde eksik değerler görüldüğü üzere yok. Ancak olsaydı şu şekilde doldurabilirdik. "
   ]
  },
  {
   "cell_type": "code",
   "execution_count": 49,
   "id": "8070ca5b",
   "metadata": {},
   "outputs": [],
   "source": [
    "numerical_columns = ['age', 'job', 'saving_accounts', 'checking_account', 'credit_amount', 'duration', 'risk']\n",
    "\n",
    "for col in numerical_columns:\n",
    "    median_value = df[col].median()       # Medyan hesaplama\n",
    "    df[col].fillna(median_value, inplace=True)     # Eksik değerleri doldurma"
   ]
  },
  {
   "cell_type": "markdown",
   "id": "80a906b6",
   "metadata": {},
   "source": [
    "# 2.2. Kategorik Değişkenlerin Kodlanması"
   ]
  },
  {
   "cell_type": "markdown",
   "id": "79cc1104",
   "metadata": {},
   "source": [
    "**Görev 2.2.1** \n",
    "- \"Purpose\" ve \"Housing\" gibi birden fazla kategoriye sahip değişkenlerde one-hot encoding uygulayın.\n",
    "- \"Ben buraya sex değişkenini de ekledim.\""
   ]
  },
  {
   "cell_type": "code",
   "execution_count": 50,
   "id": "d3eb58be",
   "metadata": {},
   "outputs": [
    {
     "data": {
      "text/plain": [
       "purpose    object\n",
       "housing    object\n",
       "dtype: object"
      ]
     },
     "execution_count": 50,
     "metadata": {},
     "output_type": "execute_result"
    }
   ],
   "source": [
    "# purpose ve housing'in dtypes'larına bakalım.  \n",
    "\n",
    "df[[\"purpose\", \"housing\"]].dtypes"
   ]
  },
  {
   "cell_type": "code",
   "execution_count": 51,
   "id": "a20811b0",
   "metadata": {},
   "outputs": [
    {
     "data": {
      "text/plain": [
       "car                    337\n",
       "radio/TV               280\n",
       "furniture/equipment    181\n",
       "business                97\n",
       "education               59\n",
       "repairs                 22\n",
       "domestic appliances     12\n",
       "vacation/others         12\n",
       "Name: purpose, dtype: int64"
      ]
     },
     "execution_count": 51,
     "metadata": {},
     "output_type": "execute_result"
    }
   ],
   "source": [
    "# purpose içerisinde olan kategorilere ve değerlerine bakalım\n",
    "\n",
    "df[\"purpose\"].value_counts()"
   ]
  },
  {
   "cell_type": "code",
   "execution_count": 52,
   "id": "a226d5e5",
   "metadata": {},
   "outputs": [
    {
     "data": {
      "text/plain": [
       "own     713\n",
       "rent    179\n",
       "free    108\n",
       "Name: housing, dtype: int64"
      ]
     },
     "execution_count": 52,
     "metadata": {},
     "output_type": "execute_result"
    }
   ],
   "source": [
    "# housing içerisinde olan kategorilere ve değerlerine bakalım\n",
    "\n",
    "df[\"housing\"].value_counts()"
   ]
  },
  {
   "cell_type": "code",
   "execution_count": 53,
   "id": "288ddc27",
   "metadata": {},
   "outputs": [
    {
     "data": {
      "text/plain": [
       "male      690\n",
       "female    310\n",
       "Name: sex, dtype: int64"
      ]
     },
     "execution_count": 53,
     "metadata": {},
     "output_type": "execute_result"
    }
   ],
   "source": [
    "df[\"sex\"].value_counts()"
   ]
  },
  {
   "cell_type": "code",
   "execution_count": 54,
   "id": "100a0a54",
   "metadata": {},
   "outputs": [],
   "source": [
    "# purpose ve housing değişkenlerine one-hot encoding uygulayın. (sex değişkenini de ben ekledim)\n",
    "\n",
    "df = pd.get_dummies(df, columns=['purpose', 'housing','sex'], prefix=['purpose', 'housing','sex'], drop_first=True)\n",
    "\n",
    "# prefix: Yeni oluşturulan sütunlara bir ön ek ekler, böylece sütun isimleri daha anlamlı olur."
   ]
  },
  {
   "cell_type": "code",
   "execution_count": 55,
   "id": "b58a0364",
   "metadata": {
    "scrolled": false
   },
   "outputs": [
    {
     "data": {
      "text/html": [
       "<div>\n",
       "<style scoped>\n",
       "    .dataframe tbody tr th:only-of-type {\n",
       "        vertical-align: middle;\n",
       "    }\n",
       "\n",
       "    .dataframe tbody tr th {\n",
       "        vertical-align: top;\n",
       "    }\n",
       "\n",
       "    .dataframe thead th {\n",
       "        text-align: right;\n",
       "    }\n",
       "</style>\n",
       "<table border=\"1\" class=\"dataframe\">\n",
       "  <thead>\n",
       "    <tr style=\"text-align: right;\">\n",
       "      <th></th>\n",
       "      <th>age</th>\n",
       "      <th>job</th>\n",
       "      <th>saving_accounts</th>\n",
       "      <th>checking_account</th>\n",
       "      <th>credit_amount</th>\n",
       "      <th>duration</th>\n",
       "      <th>risk</th>\n",
       "      <th>purpose_car</th>\n",
       "      <th>purpose_domestic appliances</th>\n",
       "      <th>purpose_education</th>\n",
       "      <th>purpose_furniture/equipment</th>\n",
       "      <th>purpose_radio/TV</th>\n",
       "      <th>purpose_repairs</th>\n",
       "      <th>purpose_vacation/others</th>\n",
       "      <th>housing_own</th>\n",
       "      <th>housing_rent</th>\n",
       "      <th>sex_male</th>\n",
       "    </tr>\n",
       "  </thead>\n",
       "  <tbody>\n",
       "    <tr>\n",
       "      <th>0</th>\n",
       "      <td>67</td>\n",
       "      <td>2</td>\n",
       "      <td>1</td>\n",
       "      <td>1</td>\n",
       "      <td>1169</td>\n",
       "      <td>6</td>\n",
       "      <td>1</td>\n",
       "      <td>0</td>\n",
       "      <td>0</td>\n",
       "      <td>0</td>\n",
       "      <td>0</td>\n",
       "      <td>1</td>\n",
       "      <td>0</td>\n",
       "      <td>0</td>\n",
       "      <td>1</td>\n",
       "      <td>0</td>\n",
       "      <td>1</td>\n",
       "    </tr>\n",
       "    <tr>\n",
       "      <th>1</th>\n",
       "      <td>22</td>\n",
       "      <td>2</td>\n",
       "      <td>1</td>\n",
       "      <td>2</td>\n",
       "      <td>5951</td>\n",
       "      <td>48</td>\n",
       "      <td>0</td>\n",
       "      <td>0</td>\n",
       "      <td>0</td>\n",
       "      <td>0</td>\n",
       "      <td>0</td>\n",
       "      <td>1</td>\n",
       "      <td>0</td>\n",
       "      <td>0</td>\n",
       "      <td>1</td>\n",
       "      <td>0</td>\n",
       "      <td>0</td>\n",
       "    </tr>\n",
       "    <tr>\n",
       "      <th>2</th>\n",
       "      <td>49</td>\n",
       "      <td>1</td>\n",
       "      <td>1</td>\n",
       "      <td>1</td>\n",
       "      <td>2096</td>\n",
       "      <td>12</td>\n",
       "      <td>1</td>\n",
       "      <td>0</td>\n",
       "      <td>0</td>\n",
       "      <td>1</td>\n",
       "      <td>0</td>\n",
       "      <td>0</td>\n",
       "      <td>0</td>\n",
       "      <td>0</td>\n",
       "      <td>1</td>\n",
       "      <td>0</td>\n",
       "      <td>1</td>\n",
       "    </tr>\n",
       "    <tr>\n",
       "      <th>3</th>\n",
       "      <td>45</td>\n",
       "      <td>2</td>\n",
       "      <td>1</td>\n",
       "      <td>1</td>\n",
       "      <td>7882</td>\n",
       "      <td>42</td>\n",
       "      <td>1</td>\n",
       "      <td>0</td>\n",
       "      <td>0</td>\n",
       "      <td>0</td>\n",
       "      <td>1</td>\n",
       "      <td>0</td>\n",
       "      <td>0</td>\n",
       "      <td>0</td>\n",
       "      <td>0</td>\n",
       "      <td>0</td>\n",
       "      <td>1</td>\n",
       "    </tr>\n",
       "    <tr>\n",
       "      <th>4</th>\n",
       "      <td>53</td>\n",
       "      <td>2</td>\n",
       "      <td>1</td>\n",
       "      <td>1</td>\n",
       "      <td>4870</td>\n",
       "      <td>24</td>\n",
       "      <td>0</td>\n",
       "      <td>1</td>\n",
       "      <td>0</td>\n",
       "      <td>0</td>\n",
       "      <td>0</td>\n",
       "      <td>0</td>\n",
       "      <td>0</td>\n",
       "      <td>0</td>\n",
       "      <td>0</td>\n",
       "      <td>0</td>\n",
       "      <td>1</td>\n",
       "    </tr>\n",
       "    <tr>\n",
       "      <th>...</th>\n",
       "      <td>...</td>\n",
       "      <td>...</td>\n",
       "      <td>...</td>\n",
       "      <td>...</td>\n",
       "      <td>...</td>\n",
       "      <td>...</td>\n",
       "      <td>...</td>\n",
       "      <td>...</td>\n",
       "      <td>...</td>\n",
       "      <td>...</td>\n",
       "      <td>...</td>\n",
       "      <td>...</td>\n",
       "      <td>...</td>\n",
       "      <td>...</td>\n",
       "      <td>...</td>\n",
       "      <td>...</td>\n",
       "      <td>...</td>\n",
       "    </tr>\n",
       "    <tr>\n",
       "      <th>995</th>\n",
       "      <td>31</td>\n",
       "      <td>1</td>\n",
       "      <td>1</td>\n",
       "      <td>1</td>\n",
       "      <td>1736</td>\n",
       "      <td>12</td>\n",
       "      <td>1</td>\n",
       "      <td>0</td>\n",
       "      <td>0</td>\n",
       "      <td>0</td>\n",
       "      <td>1</td>\n",
       "      <td>0</td>\n",
       "      <td>0</td>\n",
       "      <td>0</td>\n",
       "      <td>1</td>\n",
       "      <td>0</td>\n",
       "      <td>0</td>\n",
       "    </tr>\n",
       "    <tr>\n",
       "      <th>996</th>\n",
       "      <td>40</td>\n",
       "      <td>3</td>\n",
       "      <td>1</td>\n",
       "      <td>1</td>\n",
       "      <td>3857</td>\n",
       "      <td>30</td>\n",
       "      <td>1</td>\n",
       "      <td>1</td>\n",
       "      <td>0</td>\n",
       "      <td>0</td>\n",
       "      <td>0</td>\n",
       "      <td>0</td>\n",
       "      <td>0</td>\n",
       "      <td>0</td>\n",
       "      <td>1</td>\n",
       "      <td>0</td>\n",
       "      <td>1</td>\n",
       "    </tr>\n",
       "    <tr>\n",
       "      <th>997</th>\n",
       "      <td>38</td>\n",
       "      <td>2</td>\n",
       "      <td>1</td>\n",
       "      <td>1</td>\n",
       "      <td>804</td>\n",
       "      <td>12</td>\n",
       "      <td>1</td>\n",
       "      <td>0</td>\n",
       "      <td>0</td>\n",
       "      <td>0</td>\n",
       "      <td>0</td>\n",
       "      <td>1</td>\n",
       "      <td>0</td>\n",
       "      <td>0</td>\n",
       "      <td>1</td>\n",
       "      <td>0</td>\n",
       "      <td>1</td>\n",
       "    </tr>\n",
       "    <tr>\n",
       "      <th>998</th>\n",
       "      <td>23</td>\n",
       "      <td>2</td>\n",
       "      <td>1</td>\n",
       "      <td>1</td>\n",
       "      <td>1845</td>\n",
       "      <td>45</td>\n",
       "      <td>0</td>\n",
       "      <td>0</td>\n",
       "      <td>0</td>\n",
       "      <td>0</td>\n",
       "      <td>0</td>\n",
       "      <td>1</td>\n",
       "      <td>0</td>\n",
       "      <td>0</td>\n",
       "      <td>0</td>\n",
       "      <td>0</td>\n",
       "      <td>1</td>\n",
       "    </tr>\n",
       "    <tr>\n",
       "      <th>999</th>\n",
       "      <td>27</td>\n",
       "      <td>2</td>\n",
       "      <td>2</td>\n",
       "      <td>2</td>\n",
       "      <td>4576</td>\n",
       "      <td>45</td>\n",
       "      <td>1</td>\n",
       "      <td>1</td>\n",
       "      <td>0</td>\n",
       "      <td>0</td>\n",
       "      <td>0</td>\n",
       "      <td>0</td>\n",
       "      <td>0</td>\n",
       "      <td>0</td>\n",
       "      <td>1</td>\n",
       "      <td>0</td>\n",
       "      <td>1</td>\n",
       "    </tr>\n",
       "  </tbody>\n",
       "</table>\n",
       "<p>1000 rows × 17 columns</p>\n",
       "</div>"
      ],
      "text/plain": [
       "     age  job  saving_accounts  checking_account  credit_amount  duration  \\\n",
       "0     67    2                1                 1           1169         6   \n",
       "1     22    2                1                 2           5951        48   \n",
       "2     49    1                1                 1           2096        12   \n",
       "3     45    2                1                 1           7882        42   \n",
       "4     53    2                1                 1           4870        24   \n",
       "..   ...  ...              ...               ...            ...       ...   \n",
       "995   31    1                1                 1           1736        12   \n",
       "996   40    3                1                 1           3857        30   \n",
       "997   38    2                1                 1            804        12   \n",
       "998   23    2                1                 1           1845        45   \n",
       "999   27    2                2                 2           4576        45   \n",
       "\n",
       "     risk  purpose_car  purpose_domestic appliances  purpose_education  \\\n",
       "0       1            0                            0                  0   \n",
       "1       0            0                            0                  0   \n",
       "2       1            0                            0                  1   \n",
       "3       1            0                            0                  0   \n",
       "4       0            1                            0                  0   \n",
       "..    ...          ...                          ...                ...   \n",
       "995     1            0                            0                  0   \n",
       "996     1            1                            0                  0   \n",
       "997     1            0                            0                  0   \n",
       "998     0            0                            0                  0   \n",
       "999     1            1                            0                  0   \n",
       "\n",
       "     purpose_furniture/equipment  purpose_radio/TV  purpose_repairs  \\\n",
       "0                              0                 1                0   \n",
       "1                              0                 1                0   \n",
       "2                              0                 0                0   \n",
       "3                              1                 0                0   \n",
       "4                              0                 0                0   \n",
       "..                           ...               ...              ...   \n",
       "995                            1                 0                0   \n",
       "996                            0                 0                0   \n",
       "997                            0                 1                0   \n",
       "998                            0                 1                0   \n",
       "999                            0                 0                0   \n",
       "\n",
       "     purpose_vacation/others  housing_own  housing_rent  sex_male  \n",
       "0                          0            1             0         1  \n",
       "1                          0            1             0         0  \n",
       "2                          0            1             0         1  \n",
       "3                          0            0             0         1  \n",
       "4                          0            0             0         1  \n",
       "..                       ...          ...           ...       ...  \n",
       "995                        0            1             0         0  \n",
       "996                        0            1             0         1  \n",
       "997                        0            1             0         1  \n",
       "998                        0            0             0         1  \n",
       "999                        0            1             0         1  \n",
       "\n",
       "[1000 rows x 17 columns]"
      ]
     },
     "execution_count": 55,
     "metadata": {},
     "output_type": "execute_result"
    }
   ],
   "source": [
    "df"
   ]
  },
  {
   "cell_type": "markdown",
   "id": "a157c9b5",
   "metadata": {},
   "source": [
    "**NOTE:**\n",
    "- drop_first=True kullanıldığında yalnızca housing_rent ve housing_own sütunları oluşturulur. housing_free referans kategori olur ve çıkarılır. Aynı şekilde purpose_business de referans olarak alınır ve o da çıkarılır.\n",
    "\n",
    "- Matematiksel olarak, bir gözlemin \"free\" olduğu durumu anlamak için diğer sütunlar yeterlidir:<br>Eğer rent=0 ve own=0 ise, gözlem otomatik olarak \"free\" olur.<br> Yani burada drop_first=True kullanılırsa housing_free ve sex_female sütunu referans oldu ve bunlarda çıkarıldı. <br>Aynı durum purpose_business içinde geçerlidir. <br> Ben veri setinde drop_first=True olarak kullandım.<br> drop_first=True kullanılırsa sütun sayısı 17, kullanılmazsa 19 oluyor."
   ]
  },
  {
   "cell_type": "markdown",
   "id": "bcdd1874",
   "metadata": {},
   "source": [
    "# 2.3. Özellik Ölçekleme"
   ]
  },
  {
   "cell_type": "markdown",
   "id": "a516ef67",
   "metadata": {},
   "source": [
    "**Görev 2.3.1**\n",
    "\n",
    "- \"Age\", \"Credit amount\" ve \"Duration\" gibi sayısal özellikleri aynı aralıkta olacak şekilde ölçekleyin."
   ]
  },
  {
   "cell_type": "markdown",
   "id": "272c39f5",
   "metadata": {},
   "source": [
    "### Note: Bu adımda age, credit_amount, duration için scaling yapılmıştır. Ancak hepsi yorum satırına alınmıştır. Sebebi ise model kurarken scale işlemi daha sonra X_train ve X_test üzerinde yapılacaktır. Burada yapılsaydı 2 defa scaling yapılmış olacaktı bu önerilen bir durum değil. Bu sebeple açıklama satırına alınmıştır. (ChatGPT'den scaler'ın hangi adımda yapılması konusunda yardım aldım bu adımda.)"
   ]
  },
  {
   "cell_type": "markdown",
   "id": "b4159eea",
   "metadata": {},
   "source": [
    "NOTE:<br>\n",
    "StandardScaler, aşırı büyük veya küçük değerlerin etkisini azaltır.<br>\n",
    "Eğer modelleme için verilerin aynı ölçekte olması gerekiyorsa bu yöntem kullanılmalıdır."
   ]
  },
  {
   "cell_type": "code",
   "execution_count": 56,
   "id": "94cb8aa8",
   "metadata": {},
   "outputs": [],
   "source": [
    "# sklearn'den StandardScaler'ı import edelim\n",
    "\n",
    "# from sklearn.preprocessing import StandardScaler"
   ]
  },
  {
   "cell_type": "code",
   "execution_count": 57,
   "id": "20dce13a",
   "metadata": {},
   "outputs": [],
   "source": [
    "# scaler tanımlayalım\n",
    "\n",
    "# scaler = StandardScaler()"
   ]
  },
  {
   "cell_type": "code",
   "execution_count": 58,
   "id": "eb363d59",
   "metadata": {},
   "outputs": [],
   "source": [
    "# scale edilmeden önceki halini inceleyelim\n",
    "\n",
    "# df[['age', 'credit_amount', 'duration']].head(4)"
   ]
  },
  {
   "cell_type": "code",
   "execution_count": 59,
   "id": "172c3fab",
   "metadata": {},
   "outputs": [],
   "source": [
    "# scale edelim : \n",
    "\n",
    "# df[['age', 'credit_amount', 'duration']] = scaler.fit_transform(df[['age', 'credit_amount', 'duration']])"
   ]
  },
  {
   "cell_type": "code",
   "execution_count": 60,
   "id": "e28c1a62",
   "metadata": {},
   "outputs": [],
   "source": [
    "# scale edildikten sonra\n",
    "\n",
    "# df[['age', 'credit_amount', 'duration']].head(4)"
   ]
  },
  {
   "cell_type": "code",
   "execution_count": 61,
   "id": "21f3c0e3",
   "metadata": {},
   "outputs": [],
   "source": [
    "# df.head(4)"
   ]
  },
  {
   "cell_type": "markdown",
   "id": "8331689e",
   "metadata": {},
   "source": [
    "**<span style=\"font-size:32px; color:black;\">3. Özellik Mühendisliği</span>**"
   ]
  },
  {
   "cell_type": "markdown",
   "id": "75d992f9",
   "metadata": {},
   "source": [
    "# 3.1. Alan bilgisine dayalı olarak yeni özellikler oluşturun"
   ]
  },
  {
   "cell_type": "markdown",
   "id": "f05a0941",
   "metadata": {},
   "source": [
    "**Görev 3.1.1**\n",
    "- Aylık Kredi Miktarı: \"Credit amount\" özelliğini \"Duration\" ile bölerek hesaplayın."
   ]
  },
  {
   "cell_type": "code",
   "execution_count": 62,
   "id": "e828c996",
   "metadata": {},
   "outputs": [],
   "source": [
    "# yeni bir sütun ekleyelim\n",
    "\n",
    "df['monthly_credit'] = df['credit_amount'] / df['duration']"
   ]
  },
  {
   "cell_type": "code",
   "execution_count": 63,
   "id": "bec95837",
   "metadata": {},
   "outputs": [
    {
     "data": {
      "text/html": [
       "<div>\n",
       "<style scoped>\n",
       "    .dataframe tbody tr th:only-of-type {\n",
       "        vertical-align: middle;\n",
       "    }\n",
       "\n",
       "    .dataframe tbody tr th {\n",
       "        vertical-align: top;\n",
       "    }\n",
       "\n",
       "    .dataframe thead th {\n",
       "        text-align: right;\n",
       "    }\n",
       "</style>\n",
       "<table border=\"1\" class=\"dataframe\">\n",
       "  <thead>\n",
       "    <tr style=\"text-align: right;\">\n",
       "      <th></th>\n",
       "      <th>age</th>\n",
       "      <th>job</th>\n",
       "      <th>saving_accounts</th>\n",
       "      <th>checking_account</th>\n",
       "      <th>credit_amount</th>\n",
       "      <th>duration</th>\n",
       "      <th>risk</th>\n",
       "      <th>purpose_car</th>\n",
       "      <th>purpose_domestic appliances</th>\n",
       "      <th>purpose_education</th>\n",
       "      <th>purpose_furniture/equipment</th>\n",
       "      <th>purpose_radio/TV</th>\n",
       "      <th>purpose_repairs</th>\n",
       "      <th>purpose_vacation/others</th>\n",
       "      <th>housing_own</th>\n",
       "      <th>housing_rent</th>\n",
       "      <th>sex_male</th>\n",
       "      <th>monthly_credit</th>\n",
       "    </tr>\n",
       "  </thead>\n",
       "  <tbody>\n",
       "    <tr>\n",
       "      <th>0</th>\n",
       "      <td>67</td>\n",
       "      <td>2</td>\n",
       "      <td>1</td>\n",
       "      <td>1</td>\n",
       "      <td>1169</td>\n",
       "      <td>6</td>\n",
       "      <td>1</td>\n",
       "      <td>0</td>\n",
       "      <td>0</td>\n",
       "      <td>0</td>\n",
       "      <td>0</td>\n",
       "      <td>1</td>\n",
       "      <td>0</td>\n",
       "      <td>0</td>\n",
       "      <td>1</td>\n",
       "      <td>0</td>\n",
       "      <td>1</td>\n",
       "      <td>194.833333</td>\n",
       "    </tr>\n",
       "    <tr>\n",
       "      <th>1</th>\n",
       "      <td>22</td>\n",
       "      <td>2</td>\n",
       "      <td>1</td>\n",
       "      <td>2</td>\n",
       "      <td>5951</td>\n",
       "      <td>48</td>\n",
       "      <td>0</td>\n",
       "      <td>0</td>\n",
       "      <td>0</td>\n",
       "      <td>0</td>\n",
       "      <td>0</td>\n",
       "      <td>1</td>\n",
       "      <td>0</td>\n",
       "      <td>0</td>\n",
       "      <td>1</td>\n",
       "      <td>0</td>\n",
       "      <td>0</td>\n",
       "      <td>123.979167</td>\n",
       "    </tr>\n",
       "    <tr>\n",
       "      <th>2</th>\n",
       "      <td>49</td>\n",
       "      <td>1</td>\n",
       "      <td>1</td>\n",
       "      <td>1</td>\n",
       "      <td>2096</td>\n",
       "      <td>12</td>\n",
       "      <td>1</td>\n",
       "      <td>0</td>\n",
       "      <td>0</td>\n",
       "      <td>1</td>\n",
       "      <td>0</td>\n",
       "      <td>0</td>\n",
       "      <td>0</td>\n",
       "      <td>0</td>\n",
       "      <td>1</td>\n",
       "      <td>0</td>\n",
       "      <td>1</td>\n",
       "      <td>174.666667</td>\n",
       "    </tr>\n",
       "    <tr>\n",
       "      <th>3</th>\n",
       "      <td>45</td>\n",
       "      <td>2</td>\n",
       "      <td>1</td>\n",
       "      <td>1</td>\n",
       "      <td>7882</td>\n",
       "      <td>42</td>\n",
       "      <td>1</td>\n",
       "      <td>0</td>\n",
       "      <td>0</td>\n",
       "      <td>0</td>\n",
       "      <td>1</td>\n",
       "      <td>0</td>\n",
       "      <td>0</td>\n",
       "      <td>0</td>\n",
       "      <td>0</td>\n",
       "      <td>0</td>\n",
       "      <td>1</td>\n",
       "      <td>187.666667</td>\n",
       "    </tr>\n",
       "  </tbody>\n",
       "</table>\n",
       "</div>"
      ],
      "text/plain": [
       "   age  job  saving_accounts  checking_account  credit_amount  duration  risk  \\\n",
       "0   67    2                1                 1           1169         6     1   \n",
       "1   22    2                1                 2           5951        48     0   \n",
       "2   49    1                1                 1           2096        12     1   \n",
       "3   45    2                1                 1           7882        42     1   \n",
       "\n",
       "   purpose_car  purpose_domestic appliances  purpose_education  \\\n",
       "0            0                            0                  0   \n",
       "1            0                            0                  0   \n",
       "2            0                            0                  1   \n",
       "3            0                            0                  0   \n",
       "\n",
       "   purpose_furniture/equipment  purpose_radio/TV  purpose_repairs  \\\n",
       "0                            0                 1                0   \n",
       "1                            0                 1                0   \n",
       "2                            0                 0                0   \n",
       "3                            1                 0                0   \n",
       "\n",
       "   purpose_vacation/others  housing_own  housing_rent  sex_male  \\\n",
       "0                        0            1             0         1   \n",
       "1                        0            1             0         0   \n",
       "2                        0            1             0         1   \n",
       "3                        0            0             0         1   \n",
       "\n",
       "   monthly_credit  \n",
       "0      194.833333  \n",
       "1      123.979167  \n",
       "2      174.666667  \n",
       "3      187.666667  "
      ]
     },
     "execution_count": 63,
     "metadata": {},
     "output_type": "execute_result"
    }
   ],
   "source": [
    "df.head(4)"
   ]
  },
  {
   "cell_type": "markdown",
   "id": "328910b5",
   "metadata": {},
   "source": [
    "**Görev 3.1.2**     - model kurarken sorun çıkardığı için hepsini yorum satırına aldım.\n",
    "- Opsiyonel: Yaşları kategorilere ayırın (\"genç\", \"orta yaş\", \"yaşlı\" gibi)."
   ]
  },
  {
   "cell_type": "code",
   "execution_count": 64,
   "id": "4820c218",
   "metadata": {},
   "outputs": [],
   "source": [
    "# min_age = df['age'].min()\n",
    "# min_age"
   ]
  },
  {
   "cell_type": "code",
   "execution_count": 65,
   "id": "2b4f8b3b",
   "metadata": {},
   "outputs": [],
   "source": [
    "# median_age = df['age'].median()\n",
    "# median_age"
   ]
  },
  {
   "cell_type": "code",
   "execution_count": 66,
   "id": "0e781799",
   "metadata": {},
   "outputs": [],
   "source": [
    "# max_age = df['age'].max()\n",
    "# max_age"
   ]
  },
  {
   "cell_type": "code",
   "execution_count": 67,
   "id": "5e006c5f",
   "metadata": {},
   "outputs": [],
   "source": [
    "# yaslar = df[\"age\"]"
   ]
  },
  {
   "cell_type": "code",
   "execution_count": 68,
   "id": "03ed52bf",
   "metadata": {},
   "outputs": [],
   "source": [
    "# Her bir sınıfın sınırlarını hesaplayalım\n",
    "\n",
    "\n",
    "# genç_sınıf_sınır = (min_age + median_age) / 2\n",
    "# orta_yas_sınıf_sınır = (median_age + max_age) / 2\n",
    "\n",
    "# Yaşları kategorilere ayıralım\n",
    "# def yas_kategorisi(yas):\n",
    "#    if yas <= genç_sınıf_sınır:\n",
    "#        return \"genç\"\n",
    "#    elif yas <= orta_yas_sınıf_sınır:\n",
    "#        return \"orta yaş\"\n",
    "#    else:\n",
    "#        return \"yaşlı\"\n",
    "    \n",
    "    \n",
    "# yaslar_kategorik = [yas_kategorisi(yas) for yas in yaslar]"
   ]
  },
  {
   "cell_type": "code",
   "execution_count": 69,
   "id": "ea08a29b",
   "metadata": {},
   "outputs": [],
   "source": [
    "# df['age_kategorik'] = yaslar_kategorik             # yeni bir sütun olarak ekledim"
   ]
  },
  {
   "cell_type": "code",
   "execution_count": 70,
   "id": "6b65b72a",
   "metadata": {},
   "outputs": [],
   "source": [
    "# df.head(4)"
   ]
  },
  {
   "cell_type": "markdown",
   "id": "012d3abe",
   "metadata": {},
   "source": [
    "# 3.2.  Yüksek korelasyona sahip özellikleri (korelasyon katsayısı > 0.9) belirleyip kaldırın"
   ]
  },
  {
   "cell_type": "code",
   "execution_count": 71,
   "id": "4bd4a32a",
   "metadata": {},
   "outputs": [
    {
     "name": "stdout",
     "output_type": "stream",
     "text": [
      "Kaldırılacak Sütunlar: []\n"
     ]
    }
   ],
   "source": [
    "# Korelasyon matrisi ve eşik belirleme    \n",
    "threshold = 0.9\n",
    "corr_matrix = df.corr(numeric_only=True).abs()\n",
    "\n",
    "# Üst üçgen matrisi oluşturma\n",
    "upper_triangle = corr_matrix.where(np.triu(np.ones(corr_matrix.shape), k=1).astype(bool))\n",
    "\n",
    "# Korelasyonu 0.9'dan büyük olan sütunları belirleme\n",
    "to_drop = [column for column in upper_triangle.columns if any(upper_triangle[column] > threshold)]\n",
    "\n",
    "print(\"Kaldırılacak Sütunlar:\", to_drop)\n",
    "\n",
    "# Yüksek korelasyonlu sütunları veri setinden kaldırma\n",
    "df_reduced = df.drop(columns=to_drop)"
   ]
  },
  {
   "cell_type": "code",
   "execution_count": 72,
   "id": "bcc9cb72",
   "metadata": {
    "scrolled": false
   },
   "outputs": [
    {
     "data": {
      "text/html": [
       "<div>\n",
       "<style scoped>\n",
       "    .dataframe tbody tr th:only-of-type {\n",
       "        vertical-align: middle;\n",
       "    }\n",
       "\n",
       "    .dataframe tbody tr th {\n",
       "        vertical-align: top;\n",
       "    }\n",
       "\n",
       "    .dataframe thead th {\n",
       "        text-align: right;\n",
       "    }\n",
       "</style>\n",
       "<table border=\"1\" class=\"dataframe\">\n",
       "  <thead>\n",
       "    <tr style=\"text-align: right;\">\n",
       "      <th></th>\n",
       "      <th>age</th>\n",
       "      <th>job</th>\n",
       "      <th>saving_accounts</th>\n",
       "      <th>checking_account</th>\n",
       "      <th>credit_amount</th>\n",
       "      <th>duration</th>\n",
       "      <th>risk</th>\n",
       "      <th>purpose_car</th>\n",
       "      <th>purpose_domestic appliances</th>\n",
       "      <th>purpose_education</th>\n",
       "      <th>purpose_furniture/equipment</th>\n",
       "      <th>purpose_radio/TV</th>\n",
       "      <th>purpose_repairs</th>\n",
       "      <th>purpose_vacation/others</th>\n",
       "      <th>housing_own</th>\n",
       "      <th>housing_rent</th>\n",
       "      <th>sex_male</th>\n",
       "      <th>monthly_credit</th>\n",
       "    </tr>\n",
       "  </thead>\n",
       "  <tbody>\n",
       "    <tr>\n",
       "      <th>0</th>\n",
       "      <td>67</td>\n",
       "      <td>2</td>\n",
       "      <td>1</td>\n",
       "      <td>1</td>\n",
       "      <td>1169</td>\n",
       "      <td>6</td>\n",
       "      <td>1</td>\n",
       "      <td>0</td>\n",
       "      <td>0</td>\n",
       "      <td>0</td>\n",
       "      <td>0</td>\n",
       "      <td>1</td>\n",
       "      <td>0</td>\n",
       "      <td>0</td>\n",
       "      <td>1</td>\n",
       "      <td>0</td>\n",
       "      <td>1</td>\n",
       "      <td>194.833333</td>\n",
       "    </tr>\n",
       "    <tr>\n",
       "      <th>1</th>\n",
       "      <td>22</td>\n",
       "      <td>2</td>\n",
       "      <td>1</td>\n",
       "      <td>2</td>\n",
       "      <td>5951</td>\n",
       "      <td>48</td>\n",
       "      <td>0</td>\n",
       "      <td>0</td>\n",
       "      <td>0</td>\n",
       "      <td>0</td>\n",
       "      <td>0</td>\n",
       "      <td>1</td>\n",
       "      <td>0</td>\n",
       "      <td>0</td>\n",
       "      <td>1</td>\n",
       "      <td>0</td>\n",
       "      <td>0</td>\n",
       "      <td>123.979167</td>\n",
       "    </tr>\n",
       "    <tr>\n",
       "      <th>2</th>\n",
       "      <td>49</td>\n",
       "      <td>1</td>\n",
       "      <td>1</td>\n",
       "      <td>1</td>\n",
       "      <td>2096</td>\n",
       "      <td>12</td>\n",
       "      <td>1</td>\n",
       "      <td>0</td>\n",
       "      <td>0</td>\n",
       "      <td>1</td>\n",
       "      <td>0</td>\n",
       "      <td>0</td>\n",
       "      <td>0</td>\n",
       "      <td>0</td>\n",
       "      <td>1</td>\n",
       "      <td>0</td>\n",
       "      <td>1</td>\n",
       "      <td>174.666667</td>\n",
       "    </tr>\n",
       "    <tr>\n",
       "      <th>3</th>\n",
       "      <td>45</td>\n",
       "      <td>2</td>\n",
       "      <td>1</td>\n",
       "      <td>1</td>\n",
       "      <td>7882</td>\n",
       "      <td>42</td>\n",
       "      <td>1</td>\n",
       "      <td>0</td>\n",
       "      <td>0</td>\n",
       "      <td>0</td>\n",
       "      <td>1</td>\n",
       "      <td>0</td>\n",
       "      <td>0</td>\n",
       "      <td>0</td>\n",
       "      <td>0</td>\n",
       "      <td>0</td>\n",
       "      <td>1</td>\n",
       "      <td>187.666667</td>\n",
       "    </tr>\n",
       "    <tr>\n",
       "      <th>4</th>\n",
       "      <td>53</td>\n",
       "      <td>2</td>\n",
       "      <td>1</td>\n",
       "      <td>1</td>\n",
       "      <td>4870</td>\n",
       "      <td>24</td>\n",
       "      <td>0</td>\n",
       "      <td>1</td>\n",
       "      <td>0</td>\n",
       "      <td>0</td>\n",
       "      <td>0</td>\n",
       "      <td>0</td>\n",
       "      <td>0</td>\n",
       "      <td>0</td>\n",
       "      <td>0</td>\n",
       "      <td>0</td>\n",
       "      <td>1</td>\n",
       "      <td>202.916667</td>\n",
       "    </tr>\n",
       "    <tr>\n",
       "      <th>...</th>\n",
       "      <td>...</td>\n",
       "      <td>...</td>\n",
       "      <td>...</td>\n",
       "      <td>...</td>\n",
       "      <td>...</td>\n",
       "      <td>...</td>\n",
       "      <td>...</td>\n",
       "      <td>...</td>\n",
       "      <td>...</td>\n",
       "      <td>...</td>\n",
       "      <td>...</td>\n",
       "      <td>...</td>\n",
       "      <td>...</td>\n",
       "      <td>...</td>\n",
       "      <td>...</td>\n",
       "      <td>...</td>\n",
       "      <td>...</td>\n",
       "      <td>...</td>\n",
       "    </tr>\n",
       "    <tr>\n",
       "      <th>995</th>\n",
       "      <td>31</td>\n",
       "      <td>1</td>\n",
       "      <td>1</td>\n",
       "      <td>1</td>\n",
       "      <td>1736</td>\n",
       "      <td>12</td>\n",
       "      <td>1</td>\n",
       "      <td>0</td>\n",
       "      <td>0</td>\n",
       "      <td>0</td>\n",
       "      <td>1</td>\n",
       "      <td>0</td>\n",
       "      <td>0</td>\n",
       "      <td>0</td>\n",
       "      <td>1</td>\n",
       "      <td>0</td>\n",
       "      <td>0</td>\n",
       "      <td>144.666667</td>\n",
       "    </tr>\n",
       "    <tr>\n",
       "      <th>996</th>\n",
       "      <td>40</td>\n",
       "      <td>3</td>\n",
       "      <td>1</td>\n",
       "      <td>1</td>\n",
       "      <td>3857</td>\n",
       "      <td>30</td>\n",
       "      <td>1</td>\n",
       "      <td>1</td>\n",
       "      <td>0</td>\n",
       "      <td>0</td>\n",
       "      <td>0</td>\n",
       "      <td>0</td>\n",
       "      <td>0</td>\n",
       "      <td>0</td>\n",
       "      <td>1</td>\n",
       "      <td>0</td>\n",
       "      <td>1</td>\n",
       "      <td>128.566667</td>\n",
       "    </tr>\n",
       "    <tr>\n",
       "      <th>997</th>\n",
       "      <td>38</td>\n",
       "      <td>2</td>\n",
       "      <td>1</td>\n",
       "      <td>1</td>\n",
       "      <td>804</td>\n",
       "      <td>12</td>\n",
       "      <td>1</td>\n",
       "      <td>0</td>\n",
       "      <td>0</td>\n",
       "      <td>0</td>\n",
       "      <td>0</td>\n",
       "      <td>1</td>\n",
       "      <td>0</td>\n",
       "      <td>0</td>\n",
       "      <td>1</td>\n",
       "      <td>0</td>\n",
       "      <td>1</td>\n",
       "      <td>67.000000</td>\n",
       "    </tr>\n",
       "    <tr>\n",
       "      <th>998</th>\n",
       "      <td>23</td>\n",
       "      <td>2</td>\n",
       "      <td>1</td>\n",
       "      <td>1</td>\n",
       "      <td>1845</td>\n",
       "      <td>45</td>\n",
       "      <td>0</td>\n",
       "      <td>0</td>\n",
       "      <td>0</td>\n",
       "      <td>0</td>\n",
       "      <td>0</td>\n",
       "      <td>1</td>\n",
       "      <td>0</td>\n",
       "      <td>0</td>\n",
       "      <td>0</td>\n",
       "      <td>0</td>\n",
       "      <td>1</td>\n",
       "      <td>41.000000</td>\n",
       "    </tr>\n",
       "    <tr>\n",
       "      <th>999</th>\n",
       "      <td>27</td>\n",
       "      <td>2</td>\n",
       "      <td>2</td>\n",
       "      <td>2</td>\n",
       "      <td>4576</td>\n",
       "      <td>45</td>\n",
       "      <td>1</td>\n",
       "      <td>1</td>\n",
       "      <td>0</td>\n",
       "      <td>0</td>\n",
       "      <td>0</td>\n",
       "      <td>0</td>\n",
       "      <td>0</td>\n",
       "      <td>0</td>\n",
       "      <td>1</td>\n",
       "      <td>0</td>\n",
       "      <td>1</td>\n",
       "      <td>101.688889</td>\n",
       "    </tr>\n",
       "  </tbody>\n",
       "</table>\n",
       "<p>1000 rows × 18 columns</p>\n",
       "</div>"
      ],
      "text/plain": [
       "     age  job  saving_accounts  checking_account  credit_amount  duration  \\\n",
       "0     67    2                1                 1           1169         6   \n",
       "1     22    2                1                 2           5951        48   \n",
       "2     49    1                1                 1           2096        12   \n",
       "3     45    2                1                 1           7882        42   \n",
       "4     53    2                1                 1           4870        24   \n",
       "..   ...  ...              ...               ...            ...       ...   \n",
       "995   31    1                1                 1           1736        12   \n",
       "996   40    3                1                 1           3857        30   \n",
       "997   38    2                1                 1            804        12   \n",
       "998   23    2                1                 1           1845        45   \n",
       "999   27    2                2                 2           4576        45   \n",
       "\n",
       "     risk  purpose_car  purpose_domestic appliances  purpose_education  \\\n",
       "0       1            0                            0                  0   \n",
       "1       0            0                            0                  0   \n",
       "2       1            0                            0                  1   \n",
       "3       1            0                            0                  0   \n",
       "4       0            1                            0                  0   \n",
       "..    ...          ...                          ...                ...   \n",
       "995     1            0                            0                  0   \n",
       "996     1            1                            0                  0   \n",
       "997     1            0                            0                  0   \n",
       "998     0            0                            0                  0   \n",
       "999     1            1                            0                  0   \n",
       "\n",
       "     purpose_furniture/equipment  purpose_radio/TV  purpose_repairs  \\\n",
       "0                              0                 1                0   \n",
       "1                              0                 1                0   \n",
       "2                              0                 0                0   \n",
       "3                              1                 0                0   \n",
       "4                              0                 0                0   \n",
       "..                           ...               ...              ...   \n",
       "995                            1                 0                0   \n",
       "996                            0                 0                0   \n",
       "997                            0                 1                0   \n",
       "998                            0                 1                0   \n",
       "999                            0                 0                0   \n",
       "\n",
       "     purpose_vacation/others  housing_own  housing_rent  sex_male  \\\n",
       "0                          0            1             0         1   \n",
       "1                          0            1             0         0   \n",
       "2                          0            1             0         1   \n",
       "3                          0            0             0         1   \n",
       "4                          0            0             0         1   \n",
       "..                       ...          ...           ...       ...   \n",
       "995                        0            1             0         0   \n",
       "996                        0            1             0         1   \n",
       "997                        0            1             0         1   \n",
       "998                        0            0             0         1   \n",
       "999                        0            1             0         1   \n",
       "\n",
       "     monthly_credit  \n",
       "0        194.833333  \n",
       "1        123.979167  \n",
       "2        174.666667  \n",
       "3        187.666667  \n",
       "4        202.916667  \n",
       "..              ...  \n",
       "995      144.666667  \n",
       "996      128.566667  \n",
       "997       67.000000  \n",
       "998       41.000000  \n",
       "999      101.688889  \n",
       "\n",
       "[1000 rows x 18 columns]"
      ]
     },
     "execution_count": 72,
     "metadata": {},
     "output_type": "execute_result"
    }
   ],
   "source": [
    "df_reduced"
   ]
  },
  {
   "cell_type": "markdown",
   "id": "d0ca12c0",
   "metadata": {},
   "source": [
    "**Threshold Yorum:**\n",
    "- korelasyon katsayısı > 0.9 olan kaldırılacak bir sütun bulunmadığından dolayı verimizde herhangi bir değişiklik olmamıştır.\n"
   ]
  },
  {
   "cell_type": "markdown",
   "id": "dfe6c212",
   "metadata": {},
   "source": [
    "**<span style=\"font-size:32px; color:black;\">4. Model Uygulaması</span>**"
   ]
  },
  {
   "cell_type": "markdown",
   "id": "ae2c8a75",
   "metadata": {},
   "source": [
    "# 4.1. Lojistik Regresyon"
   ]
  },
  {
   "cell_type": "markdown",
   "id": "84822bf3",
   "metadata": {},
   "source": [
    "**Görev 4.1.1**\n",
    "- Ön işlenmiş veri setini kullanarak bir Lojistik Regresyon modeli eğitin."
   ]
  },
  {
   "cell_type": "code",
   "execution_count": 73,
   "id": "1f2b2037",
   "metadata": {},
   "outputs": [],
   "source": [
    "from sklearn.model_selection import train_test_split"
   ]
  },
  {
   "cell_type": "code",
   "execution_count": 74,
   "id": "2d281cbe",
   "metadata": {},
   "outputs": [],
   "source": [
    "# y tahmin etmek istediğimiz yani bağımlı değişken, x = feature'lar yani bağımsız değişkenler\n",
    "\n",
    "y = df[\"risk\"]\n",
    "\n",
    "X = df.drop(columns=\"risk\")"
   ]
  },
  {
   "cell_type": "code",
   "execution_count": 75,
   "id": "42e1da48",
   "metadata": {},
   "outputs": [
    {
     "data": {
      "text/plain": [
       "0      1\n",
       "1      0\n",
       "2      1\n",
       "3      1\n",
       "4      0\n",
       "      ..\n",
       "995    1\n",
       "996    1\n",
       "997    1\n",
       "998    0\n",
       "999    1\n",
       "Name: risk, Length: 1000, dtype: int64"
      ]
     },
     "execution_count": 75,
     "metadata": {},
     "output_type": "execute_result"
    }
   ],
   "source": [
    "y"
   ]
  },
  {
   "cell_type": "code",
   "execution_count": 76,
   "id": "7237772a",
   "metadata": {
    "scrolled": false
   },
   "outputs": [
    {
     "data": {
      "text/html": [
       "<div>\n",
       "<style scoped>\n",
       "    .dataframe tbody tr th:only-of-type {\n",
       "        vertical-align: middle;\n",
       "    }\n",
       "\n",
       "    .dataframe tbody tr th {\n",
       "        vertical-align: top;\n",
       "    }\n",
       "\n",
       "    .dataframe thead th {\n",
       "        text-align: right;\n",
       "    }\n",
       "</style>\n",
       "<table border=\"1\" class=\"dataframe\">\n",
       "  <thead>\n",
       "    <tr style=\"text-align: right;\">\n",
       "      <th></th>\n",
       "      <th>age</th>\n",
       "      <th>job</th>\n",
       "      <th>saving_accounts</th>\n",
       "      <th>checking_account</th>\n",
       "      <th>credit_amount</th>\n",
       "      <th>duration</th>\n",
       "      <th>purpose_car</th>\n",
       "      <th>purpose_domestic appliances</th>\n",
       "      <th>purpose_education</th>\n",
       "      <th>purpose_furniture/equipment</th>\n",
       "      <th>purpose_radio/TV</th>\n",
       "      <th>purpose_repairs</th>\n",
       "      <th>purpose_vacation/others</th>\n",
       "      <th>housing_own</th>\n",
       "      <th>housing_rent</th>\n",
       "      <th>sex_male</th>\n",
       "      <th>monthly_credit</th>\n",
       "    </tr>\n",
       "  </thead>\n",
       "  <tbody>\n",
       "    <tr>\n",
       "      <th>0</th>\n",
       "      <td>67</td>\n",
       "      <td>2</td>\n",
       "      <td>1</td>\n",
       "      <td>1</td>\n",
       "      <td>1169</td>\n",
       "      <td>6</td>\n",
       "      <td>0</td>\n",
       "      <td>0</td>\n",
       "      <td>0</td>\n",
       "      <td>0</td>\n",
       "      <td>1</td>\n",
       "      <td>0</td>\n",
       "      <td>0</td>\n",
       "      <td>1</td>\n",
       "      <td>0</td>\n",
       "      <td>1</td>\n",
       "      <td>194.833333</td>\n",
       "    </tr>\n",
       "    <tr>\n",
       "      <th>1</th>\n",
       "      <td>22</td>\n",
       "      <td>2</td>\n",
       "      <td>1</td>\n",
       "      <td>2</td>\n",
       "      <td>5951</td>\n",
       "      <td>48</td>\n",
       "      <td>0</td>\n",
       "      <td>0</td>\n",
       "      <td>0</td>\n",
       "      <td>0</td>\n",
       "      <td>1</td>\n",
       "      <td>0</td>\n",
       "      <td>0</td>\n",
       "      <td>1</td>\n",
       "      <td>0</td>\n",
       "      <td>0</td>\n",
       "      <td>123.979167</td>\n",
       "    </tr>\n",
       "    <tr>\n",
       "      <th>2</th>\n",
       "      <td>49</td>\n",
       "      <td>1</td>\n",
       "      <td>1</td>\n",
       "      <td>1</td>\n",
       "      <td>2096</td>\n",
       "      <td>12</td>\n",
       "      <td>0</td>\n",
       "      <td>0</td>\n",
       "      <td>1</td>\n",
       "      <td>0</td>\n",
       "      <td>0</td>\n",
       "      <td>0</td>\n",
       "      <td>0</td>\n",
       "      <td>1</td>\n",
       "      <td>0</td>\n",
       "      <td>1</td>\n",
       "      <td>174.666667</td>\n",
       "    </tr>\n",
       "    <tr>\n",
       "      <th>3</th>\n",
       "      <td>45</td>\n",
       "      <td>2</td>\n",
       "      <td>1</td>\n",
       "      <td>1</td>\n",
       "      <td>7882</td>\n",
       "      <td>42</td>\n",
       "      <td>0</td>\n",
       "      <td>0</td>\n",
       "      <td>0</td>\n",
       "      <td>1</td>\n",
       "      <td>0</td>\n",
       "      <td>0</td>\n",
       "      <td>0</td>\n",
       "      <td>0</td>\n",
       "      <td>0</td>\n",
       "      <td>1</td>\n",
       "      <td>187.666667</td>\n",
       "    </tr>\n",
       "    <tr>\n",
       "      <th>4</th>\n",
       "      <td>53</td>\n",
       "      <td>2</td>\n",
       "      <td>1</td>\n",
       "      <td>1</td>\n",
       "      <td>4870</td>\n",
       "      <td>24</td>\n",
       "      <td>1</td>\n",
       "      <td>0</td>\n",
       "      <td>0</td>\n",
       "      <td>0</td>\n",
       "      <td>0</td>\n",
       "      <td>0</td>\n",
       "      <td>0</td>\n",
       "      <td>0</td>\n",
       "      <td>0</td>\n",
       "      <td>1</td>\n",
       "      <td>202.916667</td>\n",
       "    </tr>\n",
       "    <tr>\n",
       "      <th>...</th>\n",
       "      <td>...</td>\n",
       "      <td>...</td>\n",
       "      <td>...</td>\n",
       "      <td>...</td>\n",
       "      <td>...</td>\n",
       "      <td>...</td>\n",
       "      <td>...</td>\n",
       "      <td>...</td>\n",
       "      <td>...</td>\n",
       "      <td>...</td>\n",
       "      <td>...</td>\n",
       "      <td>...</td>\n",
       "      <td>...</td>\n",
       "      <td>...</td>\n",
       "      <td>...</td>\n",
       "      <td>...</td>\n",
       "      <td>...</td>\n",
       "    </tr>\n",
       "    <tr>\n",
       "      <th>995</th>\n",
       "      <td>31</td>\n",
       "      <td>1</td>\n",
       "      <td>1</td>\n",
       "      <td>1</td>\n",
       "      <td>1736</td>\n",
       "      <td>12</td>\n",
       "      <td>0</td>\n",
       "      <td>0</td>\n",
       "      <td>0</td>\n",
       "      <td>1</td>\n",
       "      <td>0</td>\n",
       "      <td>0</td>\n",
       "      <td>0</td>\n",
       "      <td>1</td>\n",
       "      <td>0</td>\n",
       "      <td>0</td>\n",
       "      <td>144.666667</td>\n",
       "    </tr>\n",
       "    <tr>\n",
       "      <th>996</th>\n",
       "      <td>40</td>\n",
       "      <td>3</td>\n",
       "      <td>1</td>\n",
       "      <td>1</td>\n",
       "      <td>3857</td>\n",
       "      <td>30</td>\n",
       "      <td>1</td>\n",
       "      <td>0</td>\n",
       "      <td>0</td>\n",
       "      <td>0</td>\n",
       "      <td>0</td>\n",
       "      <td>0</td>\n",
       "      <td>0</td>\n",
       "      <td>1</td>\n",
       "      <td>0</td>\n",
       "      <td>1</td>\n",
       "      <td>128.566667</td>\n",
       "    </tr>\n",
       "    <tr>\n",
       "      <th>997</th>\n",
       "      <td>38</td>\n",
       "      <td>2</td>\n",
       "      <td>1</td>\n",
       "      <td>1</td>\n",
       "      <td>804</td>\n",
       "      <td>12</td>\n",
       "      <td>0</td>\n",
       "      <td>0</td>\n",
       "      <td>0</td>\n",
       "      <td>0</td>\n",
       "      <td>1</td>\n",
       "      <td>0</td>\n",
       "      <td>0</td>\n",
       "      <td>1</td>\n",
       "      <td>0</td>\n",
       "      <td>1</td>\n",
       "      <td>67.000000</td>\n",
       "    </tr>\n",
       "    <tr>\n",
       "      <th>998</th>\n",
       "      <td>23</td>\n",
       "      <td>2</td>\n",
       "      <td>1</td>\n",
       "      <td>1</td>\n",
       "      <td>1845</td>\n",
       "      <td>45</td>\n",
       "      <td>0</td>\n",
       "      <td>0</td>\n",
       "      <td>0</td>\n",
       "      <td>0</td>\n",
       "      <td>1</td>\n",
       "      <td>0</td>\n",
       "      <td>0</td>\n",
       "      <td>0</td>\n",
       "      <td>0</td>\n",
       "      <td>1</td>\n",
       "      <td>41.000000</td>\n",
       "    </tr>\n",
       "    <tr>\n",
       "      <th>999</th>\n",
       "      <td>27</td>\n",
       "      <td>2</td>\n",
       "      <td>2</td>\n",
       "      <td>2</td>\n",
       "      <td>4576</td>\n",
       "      <td>45</td>\n",
       "      <td>1</td>\n",
       "      <td>0</td>\n",
       "      <td>0</td>\n",
       "      <td>0</td>\n",
       "      <td>0</td>\n",
       "      <td>0</td>\n",
       "      <td>0</td>\n",
       "      <td>1</td>\n",
       "      <td>0</td>\n",
       "      <td>1</td>\n",
       "      <td>101.688889</td>\n",
       "    </tr>\n",
       "  </tbody>\n",
       "</table>\n",
       "<p>1000 rows × 17 columns</p>\n",
       "</div>"
      ],
      "text/plain": [
       "     age  job  saving_accounts  checking_account  credit_amount  duration  \\\n",
       "0     67    2                1                 1           1169         6   \n",
       "1     22    2                1                 2           5951        48   \n",
       "2     49    1                1                 1           2096        12   \n",
       "3     45    2                1                 1           7882        42   \n",
       "4     53    2                1                 1           4870        24   \n",
       "..   ...  ...              ...               ...            ...       ...   \n",
       "995   31    1                1                 1           1736        12   \n",
       "996   40    3                1                 1           3857        30   \n",
       "997   38    2                1                 1            804        12   \n",
       "998   23    2                1                 1           1845        45   \n",
       "999   27    2                2                 2           4576        45   \n",
       "\n",
       "     purpose_car  purpose_domestic appliances  purpose_education  \\\n",
       "0              0                            0                  0   \n",
       "1              0                            0                  0   \n",
       "2              0                            0                  1   \n",
       "3              0                            0                  0   \n",
       "4              1                            0                  0   \n",
       "..           ...                          ...                ...   \n",
       "995            0                            0                  0   \n",
       "996            1                            0                  0   \n",
       "997            0                            0                  0   \n",
       "998            0                            0                  0   \n",
       "999            1                            0                  0   \n",
       "\n",
       "     purpose_furniture/equipment  purpose_radio/TV  purpose_repairs  \\\n",
       "0                              0                 1                0   \n",
       "1                              0                 1                0   \n",
       "2                              0                 0                0   \n",
       "3                              1                 0                0   \n",
       "4                              0                 0                0   \n",
       "..                           ...               ...              ...   \n",
       "995                            1                 0                0   \n",
       "996                            0                 0                0   \n",
       "997                            0                 1                0   \n",
       "998                            0                 1                0   \n",
       "999                            0                 0                0   \n",
       "\n",
       "     purpose_vacation/others  housing_own  housing_rent  sex_male  \\\n",
       "0                          0            1             0         1   \n",
       "1                          0            1             0         0   \n",
       "2                          0            1             0         1   \n",
       "3                          0            0             0         1   \n",
       "4                          0            0             0         1   \n",
       "..                       ...          ...           ...       ...   \n",
       "995                        0            1             0         0   \n",
       "996                        0            1             0         1   \n",
       "997                        0            1             0         1   \n",
       "998                        0            0             0         1   \n",
       "999                        0            1             0         1   \n",
       "\n",
       "     monthly_credit  \n",
       "0        194.833333  \n",
       "1        123.979167  \n",
       "2        174.666667  \n",
       "3        187.666667  \n",
       "4        202.916667  \n",
       "..              ...  \n",
       "995      144.666667  \n",
       "996      128.566667  \n",
       "997       67.000000  \n",
       "998       41.000000  \n",
       "999      101.688889  \n",
       "\n",
       "[1000 rows x 17 columns]"
      ]
     },
     "execution_count": 76,
     "metadata": {},
     "output_type": "execute_result"
    }
   ],
   "source": [
    "X"
   ]
  },
  {
   "cell_type": "code",
   "execution_count": 77,
   "id": "69d2c275",
   "metadata": {},
   "outputs": [],
   "source": [
    "# Veri setimizi train ve test olarak ayıralım\n",
    "\n",
    "X_test, X_train, y_test, y_train = train_test_split(X, y, train_size=0.70, random_state=42)   "
   ]
  },
  {
   "cell_type": "markdown",
   "id": "e9dc1b8e",
   "metadata": {},
   "source": [
    "### Scaling yapalım"
   ]
  },
  {
   "cell_type": "code",
   "execution_count": 78,
   "id": "7f9b1620",
   "metadata": {},
   "outputs": [],
   "source": [
    "# Standard Scaling için gerekli sınıfı import edelim.\n",
    "\n",
    "from sklearn.preprocessing import StandardScaler"
   ]
  },
  {
   "cell_type": "code",
   "execution_count": 79,
   "id": "b40b8391",
   "metadata": {},
   "outputs": [],
   "source": [
    "# Standard scaler nesnesi yaratalım.\n",
    "\n",
    "scaler = StandardScaler()  "
   ]
  },
  {
   "cell_type": "code",
   "execution_count": 80,
   "id": "7888a97e",
   "metadata": {},
   "outputs": [],
   "source": [
    "# bağımsız değişkenlerimizi scale edelim.\n",
    "\n",
    "X_train_scaled = scaler.fit_transform(X_train)\n",
    "X_test_scaled = scaler.transform(X_test)"
   ]
  },
  {
   "cell_type": "code",
   "execution_count": 81,
   "id": "8cd7f7de",
   "metadata": {},
   "outputs": [
    {
     "data": {
      "text/plain": [
       "array([[-1.00130392,  0.27071586, -0.4433478 , ..., -0.4843221 ,\n",
       "        -1.55212464,  0.06369413],\n",
       "       [-0.05748703, -1.29110641,  0.81141013, ..., -0.4843221 ,\n",
       "         0.64427815,  0.44455019],\n",
       "       [-0.31489164,  0.27071586,  0.81141013, ..., -0.4843221 ,\n",
       "         0.64427815, -0.399174  ],\n",
       "       ...,\n",
       "       [-1.34451007,  0.27071586, -0.4433478 , ..., -0.4843221 ,\n",
       "         0.64427815, -0.11681244],\n",
       "       [-0.05748703,  1.83253813, -0.4433478 , ...,  2.0647416 ,\n",
       "         0.64427815,  0.15458751],\n",
       "       [-1.34451007,  0.27071586, -0.4433478 , ...,  2.0647416 ,\n",
       "        -1.55212464, -0.34180556]])"
      ]
     },
     "execution_count": 81,
     "metadata": {},
     "output_type": "execute_result"
    }
   ],
   "source": [
    "X_train_scaled"
   ]
  },
  {
   "cell_type": "code",
   "execution_count": 82,
   "id": "10c6a3a2",
   "metadata": {},
   "outputs": [
    {
     "data": {
      "text/plain": [
       "array([[ 2.08755137,  0.27071586, -0.4433478 , ..., -0.4843221 ,\n",
       "         0.64427815, -0.46950435],\n",
       "       [ 0.28571911,  1.83253813, -0.4433478 , ..., -0.4843221 ,\n",
       "         0.64427815, -0.05280302],\n",
       "       [ 1.83014676,  0.27071586,  2.06616806, ...,  2.0647416 ,\n",
       "        -1.55212464, -0.26172977],\n",
       "       ...,\n",
       "       [-0.74389932,  0.27071586,  2.06616806, ..., -0.4843221 ,\n",
       "         0.64427815,  0.43590892],\n",
       "       [-0.91550239,  0.27071586, -0.4433478 , ..., -0.4843221 ,\n",
       "         0.64427815, -0.24483128],\n",
       "       [-1.00130392,  0.27071586, -0.4433478 , ..., -0.4843221 ,\n",
       "        -1.55212464, -0.06240443]])"
      ]
     },
     "execution_count": 82,
     "metadata": {},
     "output_type": "execute_result"
    }
   ],
   "source": [
    "X_test_scaled"
   ]
  },
  {
   "cell_type": "code",
   "execution_count": 83,
   "id": "f5dcde75",
   "metadata": {},
   "outputs": [],
   "source": [
    "# Logistic Regression modelini kuralım\n",
    "\n",
    "from sklearn.linear_model import LogisticRegression"
   ]
  },
  {
   "cell_type": "code",
   "execution_count": 84,
   "id": "86be3762",
   "metadata": {},
   "outputs": [
    {
     "data": {
      "text/html": [
       "<style>#sk-container-id-1 {color: black;background-color: white;}#sk-container-id-1 pre{padding: 0;}#sk-container-id-1 div.sk-toggleable {background-color: white;}#sk-container-id-1 label.sk-toggleable__label {cursor: pointer;display: block;width: 100%;margin-bottom: 0;padding: 0.3em;box-sizing: border-box;text-align: center;}#sk-container-id-1 label.sk-toggleable__label-arrow:before {content: \"▸\";float: left;margin-right: 0.25em;color: #696969;}#sk-container-id-1 label.sk-toggleable__label-arrow:hover:before {color: black;}#sk-container-id-1 div.sk-estimator:hover label.sk-toggleable__label-arrow:before {color: black;}#sk-container-id-1 div.sk-toggleable__content {max-height: 0;max-width: 0;overflow: hidden;text-align: left;background-color: #f0f8ff;}#sk-container-id-1 div.sk-toggleable__content pre {margin: 0.2em;color: black;border-radius: 0.25em;background-color: #f0f8ff;}#sk-container-id-1 input.sk-toggleable__control:checked~div.sk-toggleable__content {max-height: 200px;max-width: 100%;overflow: auto;}#sk-container-id-1 input.sk-toggleable__control:checked~label.sk-toggleable__label-arrow:before {content: \"▾\";}#sk-container-id-1 div.sk-estimator input.sk-toggleable__control:checked~label.sk-toggleable__label {background-color: #d4ebff;}#sk-container-id-1 div.sk-label input.sk-toggleable__control:checked~label.sk-toggleable__label {background-color: #d4ebff;}#sk-container-id-1 input.sk-hidden--visually {border: 0;clip: rect(1px 1px 1px 1px);clip: rect(1px, 1px, 1px, 1px);height: 1px;margin: -1px;overflow: hidden;padding: 0;position: absolute;width: 1px;}#sk-container-id-1 div.sk-estimator {font-family: monospace;background-color: #f0f8ff;border: 1px dotted black;border-radius: 0.25em;box-sizing: border-box;margin-bottom: 0.5em;}#sk-container-id-1 div.sk-estimator:hover {background-color: #d4ebff;}#sk-container-id-1 div.sk-parallel-item::after {content: \"\";width: 100%;border-bottom: 1px solid gray;flex-grow: 1;}#sk-container-id-1 div.sk-label:hover label.sk-toggleable__label {background-color: #d4ebff;}#sk-container-id-1 div.sk-serial::before {content: \"\";position: absolute;border-left: 1px solid gray;box-sizing: border-box;top: 0;bottom: 0;left: 50%;z-index: 0;}#sk-container-id-1 div.sk-serial {display: flex;flex-direction: column;align-items: center;background-color: white;padding-right: 0.2em;padding-left: 0.2em;position: relative;}#sk-container-id-1 div.sk-item {position: relative;z-index: 1;}#sk-container-id-1 div.sk-parallel {display: flex;align-items: stretch;justify-content: center;background-color: white;position: relative;}#sk-container-id-1 div.sk-item::before, #sk-container-id-1 div.sk-parallel-item::before {content: \"\";position: absolute;border-left: 1px solid gray;box-sizing: border-box;top: 0;bottom: 0;left: 50%;z-index: -1;}#sk-container-id-1 div.sk-parallel-item {display: flex;flex-direction: column;z-index: 1;position: relative;background-color: white;}#sk-container-id-1 div.sk-parallel-item:first-child::after {align-self: flex-end;width: 50%;}#sk-container-id-1 div.sk-parallel-item:last-child::after {align-self: flex-start;width: 50%;}#sk-container-id-1 div.sk-parallel-item:only-child::after {width: 0;}#sk-container-id-1 div.sk-dashed-wrapped {border: 1px dashed gray;margin: 0 0.4em 0.5em 0.4em;box-sizing: border-box;padding-bottom: 0.4em;background-color: white;}#sk-container-id-1 div.sk-label label {font-family: monospace;font-weight: bold;display: inline-block;line-height: 1.2em;}#sk-container-id-1 div.sk-label-container {text-align: center;}#sk-container-id-1 div.sk-container {/* jupyter's `normalize.less` sets `[hidden] { display: none; }` but bootstrap.min.css set `[hidden] { display: none !important; }` so we also need the `!important` here to be able to override the default hidden behavior on the sphinx rendered scikit-learn.org. See: https://github.com/scikit-learn/scikit-learn/issues/21755 */display: inline-block !important;position: relative;}#sk-container-id-1 div.sk-text-repr-fallback {display: none;}</style><div id=\"sk-container-id-1\" class=\"sk-top-container\"><div class=\"sk-text-repr-fallback\"><pre>LogisticRegression(max_iter=1000)</pre><b>In a Jupyter environment, please rerun this cell to show the HTML representation or trust the notebook. <br />On GitHub, the HTML representation is unable to render, please try loading this page with nbviewer.org.</b></div><div class=\"sk-container\" hidden><div class=\"sk-item\"><div class=\"sk-estimator sk-toggleable\"><input class=\"sk-toggleable__control sk-hidden--visually\" id=\"sk-estimator-id-1\" type=\"checkbox\" checked><label for=\"sk-estimator-id-1\" class=\"sk-toggleable__label sk-toggleable__label-arrow\">LogisticRegression</label><div class=\"sk-toggleable__content\"><pre>LogisticRegression(max_iter=1000)</pre></div></div></div></div></div>"
      ],
      "text/plain": [
       "LogisticRegression(max_iter=1000)"
      ]
     },
     "execution_count": 84,
     "metadata": {},
     "output_type": "execute_result"
    }
   ],
   "source": [
    "# Linear Regression modelini çağıralım. \n",
    "\n",
    "l = LogisticRegression(max_iter=1000)   \n",
    "l"
   ]
  },
  {
   "cell_type": "code",
   "execution_count": 85,
   "id": "0e8b9089",
   "metadata": {},
   "outputs": [
    {
     "data": {
      "text/html": [
       "<style>#sk-container-id-2 {color: black;background-color: white;}#sk-container-id-2 pre{padding: 0;}#sk-container-id-2 div.sk-toggleable {background-color: white;}#sk-container-id-2 label.sk-toggleable__label {cursor: pointer;display: block;width: 100%;margin-bottom: 0;padding: 0.3em;box-sizing: border-box;text-align: center;}#sk-container-id-2 label.sk-toggleable__label-arrow:before {content: \"▸\";float: left;margin-right: 0.25em;color: #696969;}#sk-container-id-2 label.sk-toggleable__label-arrow:hover:before {color: black;}#sk-container-id-2 div.sk-estimator:hover label.sk-toggleable__label-arrow:before {color: black;}#sk-container-id-2 div.sk-toggleable__content {max-height: 0;max-width: 0;overflow: hidden;text-align: left;background-color: #f0f8ff;}#sk-container-id-2 div.sk-toggleable__content pre {margin: 0.2em;color: black;border-radius: 0.25em;background-color: #f0f8ff;}#sk-container-id-2 input.sk-toggleable__control:checked~div.sk-toggleable__content {max-height: 200px;max-width: 100%;overflow: auto;}#sk-container-id-2 input.sk-toggleable__control:checked~label.sk-toggleable__label-arrow:before {content: \"▾\";}#sk-container-id-2 div.sk-estimator input.sk-toggleable__control:checked~label.sk-toggleable__label {background-color: #d4ebff;}#sk-container-id-2 div.sk-label input.sk-toggleable__control:checked~label.sk-toggleable__label {background-color: #d4ebff;}#sk-container-id-2 input.sk-hidden--visually {border: 0;clip: rect(1px 1px 1px 1px);clip: rect(1px, 1px, 1px, 1px);height: 1px;margin: -1px;overflow: hidden;padding: 0;position: absolute;width: 1px;}#sk-container-id-2 div.sk-estimator {font-family: monospace;background-color: #f0f8ff;border: 1px dotted black;border-radius: 0.25em;box-sizing: border-box;margin-bottom: 0.5em;}#sk-container-id-2 div.sk-estimator:hover {background-color: #d4ebff;}#sk-container-id-2 div.sk-parallel-item::after {content: \"\";width: 100%;border-bottom: 1px solid gray;flex-grow: 1;}#sk-container-id-2 div.sk-label:hover label.sk-toggleable__label {background-color: #d4ebff;}#sk-container-id-2 div.sk-serial::before {content: \"\";position: absolute;border-left: 1px solid gray;box-sizing: border-box;top: 0;bottom: 0;left: 50%;z-index: 0;}#sk-container-id-2 div.sk-serial {display: flex;flex-direction: column;align-items: center;background-color: white;padding-right: 0.2em;padding-left: 0.2em;position: relative;}#sk-container-id-2 div.sk-item {position: relative;z-index: 1;}#sk-container-id-2 div.sk-parallel {display: flex;align-items: stretch;justify-content: center;background-color: white;position: relative;}#sk-container-id-2 div.sk-item::before, #sk-container-id-2 div.sk-parallel-item::before {content: \"\";position: absolute;border-left: 1px solid gray;box-sizing: border-box;top: 0;bottom: 0;left: 50%;z-index: -1;}#sk-container-id-2 div.sk-parallel-item {display: flex;flex-direction: column;z-index: 1;position: relative;background-color: white;}#sk-container-id-2 div.sk-parallel-item:first-child::after {align-self: flex-end;width: 50%;}#sk-container-id-2 div.sk-parallel-item:last-child::after {align-self: flex-start;width: 50%;}#sk-container-id-2 div.sk-parallel-item:only-child::after {width: 0;}#sk-container-id-2 div.sk-dashed-wrapped {border: 1px dashed gray;margin: 0 0.4em 0.5em 0.4em;box-sizing: border-box;padding-bottom: 0.4em;background-color: white;}#sk-container-id-2 div.sk-label label {font-family: monospace;font-weight: bold;display: inline-block;line-height: 1.2em;}#sk-container-id-2 div.sk-label-container {text-align: center;}#sk-container-id-2 div.sk-container {/* jupyter's `normalize.less` sets `[hidden] { display: none; }` but bootstrap.min.css set `[hidden] { display: none !important; }` so we also need the `!important` here to be able to override the default hidden behavior on the sphinx rendered scikit-learn.org. See: https://github.com/scikit-learn/scikit-learn/issues/21755 */display: inline-block !important;position: relative;}#sk-container-id-2 div.sk-text-repr-fallback {display: none;}</style><div id=\"sk-container-id-2\" class=\"sk-top-container\"><div class=\"sk-text-repr-fallback\"><pre>LogisticRegression(max_iter=1000)</pre><b>In a Jupyter environment, please rerun this cell to show the HTML representation or trust the notebook. <br />On GitHub, the HTML representation is unable to render, please try loading this page with nbviewer.org.</b></div><div class=\"sk-container\" hidden><div class=\"sk-item\"><div class=\"sk-estimator sk-toggleable\"><input class=\"sk-toggleable__control sk-hidden--visually\" id=\"sk-estimator-id-2\" type=\"checkbox\" checked><label for=\"sk-estimator-id-2\" class=\"sk-toggleable__label sk-toggleable__label-arrow\">LogisticRegression</label><div class=\"sk-toggleable__content\"><pre>LogisticRegression(max_iter=1000)</pre></div></div></div></div></div>"
      ],
      "text/plain": [
       "LogisticRegression(max_iter=1000)"
      ]
     },
     "execution_count": 85,
     "metadata": {},
     "output_type": "execute_result"
    }
   ],
   "source": [
    "# Modeli eğitiyoruz(öğrenme tamamlanacak) \n",
    "\n",
    "log_model = l.fit(X_train_scaled, y_train) \n",
    "log_model"
   ]
  },
  {
   "cell_type": "code",
   "execution_count": 86,
   "id": "0715deb1",
   "metadata": {},
   "outputs": [],
   "source": [
    "# Test verisi üzerinde tahmin yap --  PREDICT : tahmin etmek\n",
    "\n",
    "y_pred = log_model.predict(X_test_scaled)  "
   ]
  },
  {
   "cell_type": "code",
   "execution_count": 87,
   "id": "8f39e80d",
   "metadata": {},
   "outputs": [
    {
     "data": {
      "text/plain": [
       "array([1, 1, 0, 1, 1, 1, 0, 1, 1, 1, 1, 0, 1, 0, 0, 1, 1, 1, 0, 1, 0, 0,\n",
       "       1, 0, 1, 1, 1, 1, 1, 1, 1, 1, 1, 1, 1, 1, 0, 1, 1, 1, 1, 1, 0, 1,\n",
       "       1, 1, 0, 1, 1, 1, 1, 0, 1, 1, 0, 1, 1, 1, 1, 1, 1, 1, 1, 1, 1, 1,\n",
       "       1, 1, 1, 1, 1, 1, 1, 1, 1, 1, 1, 0, 1, 1, 1, 0, 1, 1, 1, 1, 1, 1,\n",
       "       1, 1, 1, 1, 1, 1, 1, 1, 1, 1, 1, 1, 1, 0, 0, 1, 0, 1, 0, 1, 1, 1,\n",
       "       1, 1, 1, 1, 1, 1, 1, 0, 1, 1, 1, 1, 1, 0, 0, 1, 1, 1, 1, 1, 0, 1,\n",
       "       1, 1, 1, 1, 1, 0, 1, 0, 1, 1, 1, 1, 1, 1, 1, 1, 1, 1, 1, 1, 1, 1,\n",
       "       0, 1, 1, 0, 0, 1, 1, 1, 1, 1, 1, 1, 1, 1, 1, 1, 1, 1, 1, 1, 1, 1,\n",
       "       1, 1, 1, 1, 1, 1, 0, 1, 1, 1, 0, 1, 1, 1, 1, 1, 1, 1, 1, 1, 0, 1,\n",
       "       0, 1, 1, 1, 0, 1, 0, 1, 1, 1, 0, 1, 1, 1, 1, 1, 1, 1, 1, 1, 1, 1,\n",
       "       1, 0, 1, 1, 1, 1, 1, 1, 1, 0, 1, 1, 0, 1, 1, 1, 1, 1, 1, 1, 1, 1,\n",
       "       1, 1, 1, 1, 1, 1, 0, 1, 1, 1, 1, 1, 1, 1, 0, 1, 1, 1, 1, 0, 1, 1,\n",
       "       1, 1, 1, 1, 0, 1, 1, 0, 1, 1, 1, 1, 1, 1, 1, 1, 1, 1, 1, 1, 1, 1,\n",
       "       1, 1, 1, 1, 1, 1, 0, 1, 1, 1, 1, 1, 0, 1, 1, 1, 1, 0, 1, 1, 1, 0,\n",
       "       0, 1, 1, 0, 1, 1, 1, 0, 1, 0, 1, 1, 1, 1, 1, 1, 1, 1, 1, 1, 1, 1,\n",
       "       1, 1, 1, 1, 1, 0, 1, 1, 1, 1, 1, 1, 1, 1, 1, 1, 1, 1, 1, 1, 0, 1,\n",
       "       1, 1, 1, 1, 1, 0, 1, 1, 0, 0, 0, 1, 0, 1, 1, 1, 1, 1, 1, 1, 1, 0,\n",
       "       1, 1, 1, 1, 0, 1, 1, 1, 1, 1, 1, 0, 1, 1, 1, 1, 1, 1, 1, 1, 1, 1,\n",
       "       1, 1, 1, 1, 0, 1, 1, 1, 1, 1, 1, 1, 1, 1, 0, 1, 1, 1, 1, 1, 1, 1,\n",
       "       1, 1, 1, 0, 1, 1, 0, 1, 1, 1, 1, 0, 1, 1, 1, 1, 1, 1, 1, 1, 0, 1,\n",
       "       1, 1, 1, 1, 1, 0, 1, 1, 1, 0, 1, 1, 1, 1, 1, 1, 1, 1, 1, 0, 1, 0,\n",
       "       1, 1, 0, 1, 0, 0, 1, 1, 1, 1, 0, 1, 1, 0, 1, 1, 1, 1, 1, 1, 1, 1,\n",
       "       1, 1, 1, 0, 1, 1, 1, 1, 1, 1, 1, 1, 1, 1, 1, 1, 1, 1, 1, 1, 1, 1,\n",
       "       1, 1, 1, 0, 1, 1, 1, 1, 1, 1, 0, 1, 0, 1, 1, 1, 1, 1, 0, 1, 1, 1,\n",
       "       1, 0, 0, 1, 1, 0, 1, 1, 1, 1, 1, 1, 1, 1, 1, 0, 1, 1, 1, 1, 1, 1,\n",
       "       1, 0, 1, 1, 0, 1, 1, 0, 1, 1, 1, 1, 1, 1, 1, 1, 1, 1, 1, 1, 1, 1,\n",
       "       1, 1, 1, 1, 1, 1, 1, 1, 1, 1, 1, 1, 1, 1, 1, 1, 1, 1, 1, 1, 1, 0,\n",
       "       0, 0, 1, 1, 1, 1, 0, 1, 1, 1, 1, 1, 1, 1, 1, 1, 1, 1, 1, 1, 1, 0,\n",
       "       1, 1, 1, 1, 1, 1, 1, 1, 1, 1, 1, 1, 1, 1, 1, 1, 1, 1, 1, 0, 1, 1,\n",
       "       0, 1, 0, 1, 1, 1, 1, 0, 1, 1, 1, 1, 1, 1, 1, 1, 1, 1, 0, 1, 1, 1,\n",
       "       1, 1, 1, 1, 1, 1, 1, 1, 1, 1, 0, 0, 1, 1, 1, 1, 1, 1, 1, 1, 0, 1,\n",
       "       1, 1, 1, 1, 1, 1, 1, 1, 1, 1, 1, 1, 1, 1, 1, 1, 1, 1], dtype=int64)"
      ]
     },
     "execution_count": 87,
     "metadata": {},
     "output_type": "execute_result"
    }
   ],
   "source": [
    "y_pred                                # tahmin edilen değerleri görelim"
   ]
  },
  {
   "cell_type": "markdown",
   "id": "c69c0fc8",
   "metadata": {},
   "source": [
    "**Görev 4.1.2**\n",
    "- Model performansını şu metriklerle değerlendirin: Doğruluk (Accuracy), Kesinlik (Precision), Duyarlılık (Recall) ve F1-Skoru"
   ]
  },
  {
   "cell_type": "code",
   "execution_count": 88,
   "id": "a1134796",
   "metadata": {},
   "outputs": [],
   "source": [
    "#  Doğruluk (Accuracy), Kesinlik (Precision), Duyarlılık (Recall) ve F1-Skoru  için gerekli ölçüm metriklerini import edelim\n",
    "\n",
    "from sklearn.metrics import accuracy_score, precision_score, recall_score, f1_score, confusion_matrix, classification_report"
   ]
  },
  {
   "cell_type": "code",
   "execution_count": 89,
   "id": "a0b3c35b",
   "metadata": {},
   "outputs": [
    {
     "name": "stdout",
     "output_type": "stream",
     "text": [
      "Logistic Regression Doğruluk (Accuracy): 0.67\n"
     ]
    }
   ],
   "source": [
    "# Doğruluk (Accuracy) : Doğru tahmin edilen örneklerin toplam örnek sayısına oranı.\n",
    "\n",
    "accuracy_log = accuracy_score(y_test, y_pred)\n",
    "print(\"Logistic Regression Doğruluk (Accuracy):\", accuracy_log)"
   ]
  },
  {
   "cell_type": "code",
   "execution_count": 90,
   "id": "b4a5c44a",
   "metadata": {},
   "outputs": [
    {
     "name": "stdout",
     "output_type": "stream",
     "text": [
      "Logistic Regression Kesinlik (Precision): 0.717391304347826\n"
     ]
    }
   ],
   "source": [
    "# Kesinlik (Precision) : Pozitif sınıf tahminlerinin ne kadarının doğru olduğunu gösterir.\n",
    "\n",
    "precision_log = precision_score(y_test, y_pred)\n",
    "print(\"Logistic Regression Kesinlik (Precision):\", precision_log)"
   ]
  },
  {
   "cell_type": "code",
   "execution_count": 91,
   "id": "746be778",
   "metadata": {},
   "outputs": [
    {
     "name": "stdout",
     "output_type": "stream",
     "text": [
      "Logistic Regression Duyarlılık (Recall): 0.8737270875763747\n"
     ]
    }
   ],
   "source": [
    "# Duyarlılık (Recall) : Gerçek pozitif sınıfların ne kadarının doğru tahmin edildiğini gösterir.\n",
    "\n",
    "recall_log = recall_score(y_test, y_pred)\n",
    "print(\"Logistic Regression Duyarlılık (Recall):\", recall_log)"
   ]
  },
  {
   "cell_type": "code",
   "execution_count": 92,
   "id": "8fa8bb28",
   "metadata": {},
   "outputs": [
    {
     "name": "stdout",
     "output_type": "stream",
     "text": [
      "Logistic Regression F1-Skoru: 0.7878787878787877\n"
     ]
    }
   ],
   "source": [
    "# F1-Skoru : Precision ve Recall’un harmonik ortalamasıdır.\n",
    "\n",
    "f1_log = f1_score(y_test, y_pred)\n",
    "print(\"Logistic Regression F1-Skoru:\", f1_log)"
   ]
  },
  {
   "cell_type": "code",
   "execution_count": 93,
   "id": "916d2f16",
   "metadata": {
    "scrolled": true
   },
   "outputs": [],
   "source": [
    "# Detaylı Rapor ve Karışıklık Matrisi : Karışıklık matrisi ve tüm metriklerin özet raporu:\n",
    "\n",
    "karisiklik_matrisi_log = confusion_matrix(y_test, y_pred)\n",
    "siniflandirma_raporu_log = classification_report(y_test, y_pred)"
   ]
  },
  {
   "cell_type": "code",
   "execution_count": 94,
   "id": "12de0fc0",
   "metadata": {},
   "outputs": [
    {
     "name": "stdout",
     "output_type": "stream",
     "text": [
      "Logistic Reg. Karışıklık Matrisi:\n",
      " [[ 40 169]\n",
      " [ 62 429]]\n",
      "\n",
      "Logistic Reg. Sınıflandırma Raporu:\n",
      "               precision    recall  f1-score   support\n",
      "\n",
      "           0       0.39      0.19      0.26       209\n",
      "           1       0.72      0.87      0.79       491\n",
      "\n",
      "    accuracy                           0.67       700\n",
      "   macro avg       0.55      0.53      0.52       700\n",
      "weighted avg       0.62      0.67      0.63       700\n",
      "\n"
     ]
    }
   ],
   "source": [
    "print(\"Logistic Reg. Karışıklık Matrisi:\\n\", karisiklik_matrisi_log)\n",
    "print()\n",
    "print(\"Logistic Reg. Sınıflandırma Raporu:\\n\", siniflandirma_raporu_log)"
   ]
  },
  {
   "cell_type": "markdown",
   "id": "aabd3f3d",
   "metadata": {},
   "source": [
    "**Yorumlayalım:**\n",
    "\n",
    "Logistic Regression Karışıklık Matrisi:\n",
    "- True Negatives (TN): 40    (Negatif sınıfı doğru tahmin etme)\n",
    "- False Positives (FP): 169  (yanlış pozitif tahmin etme)\n",
    "- False Negatives (FN): 62   (yanlış negatif tahmin etme)\n",
    "- True Positives (TP): 429   (pozitif sınıfı doğru tahmin etme)\n"
   ]
  },
  {
   "cell_type": "code",
   "execution_count": 95,
   "id": "d3050ba0",
   "metadata": {},
   "outputs": [
    {
     "data": {
      "image/png": "[encoded data removed]",
      "text/plain": [
       "<Figure size 640x480 with 2 Axes>"
      ]
     },
     "metadata": {},
     "output_type": "display_data"
    },
    {
     "name": "stdout",
     "output_type": "stream",
     "text": [
      "Logistic Reg. Sınıflandırma Raporu:\n",
      "Logistic Regression Doğruluk (Accuracy): 0.67\n",
      "Logistic Regression Kesinlik (Precision): 0.72\n",
      "Logistic Regression Duyarlılık (Recall): 0.87\n",
      "Logistic Regression F1-Skoru: 0.79\n"
     ]
    }
   ],
   "source": [
    "# Modeli Değerlendirme\n",
    "# Modelin performansını test verisi üzerinde ölçün ve istenilen metrikleri hesaplayın.\n",
    "\n",
    "# Test seti tahminleri\n",
    "y_pred = log_model.predict(X_test_scaled)\n",
    "\n",
    "# Karışıklık matrisi\n",
    "cm = confusion_matrix(y_test, y_pred)\n",
    "sns.heatmap(cm, annot=True, fmt='d', cmap='Blues', xticklabels=['Negative', 'Positive'], yticklabels=['Negative', 'Positive'])\n",
    "plt.xlabel('Tahmin Edilen')\n",
    "plt.ylabel('Gerçek')\n",
    "plt.title('Karışıklık Matrisi')\n",
    "plt.show()\n",
    "\n",
    "\n",
    "# Sınıflandırma Raporu\n",
    "\n",
    "# Performans metrikleri\n",
    "accuracy = accuracy_score(y_test, y_pred)\n",
    "precision = precision_score(y_test, y_pred, average='binary')  # average='binary' -> ikili sınıflandırma\n",
    "recall = recall_score(y_test, y_pred, average='binary')\n",
    "f1 = f1_score(y_test, y_pred, average='binary')\n",
    "\n",
    "\n",
    "print(\"Logistic Reg. Sınıflandırma Raporu:\")\n",
    "\n",
    "print(f\"Logistic Regression Doğruluk (Accuracy): {accuracy:.2f}\")\n",
    "print(f\"Logistic Regression Kesinlik (Precision): {precision:.2f}\")\n",
    "print(f\"Logistic Regression Duyarlılık (Recall): {recall:.2f}\")\n",
    "print(f\"Logistic Regression F1-Skoru: {f1:.2f}\")\n"
   ]
  },
  {
   "cell_type": "code",
   "execution_count": 96,
   "id": "2a1ffda3",
   "metadata": {},
   "outputs": [
    {
     "name": "stdout",
     "output_type": "stream",
     "text": [
      "Logistic Regression score değeri: 0.67\n"
     ]
    }
   ],
   "source": [
    "score_log = log_model.score(X_test_scaled, y_test)   \n",
    "print(\"Logistic Regression score değeri:\", score_log)\n",
    "\n",
    " # burada score X_test_scaled ve y_test ile yapılmalıdır. çünkü train'i ezberlemiş(overfitting) olabilir. O yüzden test'ler ile test edilmelidir."
   ]
  },
  {
   "cell_type": "markdown",
   "id": "c9cf4e82",
   "metadata": {},
   "source": [
    "**model score sonucunu yorumlama:**<br>\n",
    "- %67 oranında başarılı buluyormuş. Çok iyi bir skor değil daha yüksek olması lazım.\n"
   ]
  },
  {
   "cell_type": "markdown",
   "id": "14fc2c81",
   "metadata": {},
   "source": [
    "# 4.2. KNN Sınıflandırma"
   ]
  },
  {
   "cell_type": "markdown",
   "id": "edbde9d2",
   "metadata": {},
   "source": [
    "**Görev 4.2.1**\n",
    "- Çapraz doğrulama (Cross Validation) kullanarak en iyi \"k\" değerini bulmak için hiperparametre optimizasyonu yapın."
   ]
  },
  {
   "cell_type": "code",
   "execution_count": 97,
   "id": "ba12187d",
   "metadata": {},
   "outputs": [],
   "source": [
    "from sklearn.model_selection import train_test_split"
   ]
  },
  {
   "cell_type": "code",
   "execution_count": 98,
   "id": "f70b0178",
   "metadata": {},
   "outputs": [],
   "source": [
    "# y tahmin etmek istediğimiz yani bağımlı değişken, x = feature'lar yani bağımsız değişkenler\n",
    "\n",
    "y_knn = df[\"risk\"]\n",
    "\n",
    "X_knn = df.drop(columns=\"risk\")"
   ]
  },
  {
   "cell_type": "code",
   "execution_count": 99,
   "id": "217cd887",
   "metadata": {},
   "outputs": [
    {
     "data": {
      "text/plain": [
       "0      1\n",
       "1      0\n",
       "2      1\n",
       "3      1\n",
       "4      0\n",
       "      ..\n",
       "995    1\n",
       "996    1\n",
       "997    1\n",
       "998    0\n",
       "999    1\n",
       "Name: risk, Length: 1000, dtype: int64"
      ]
     },
     "execution_count": 99,
     "metadata": {},
     "output_type": "execute_result"
    }
   ],
   "source": [
    "y_knn"
   ]
  },
  {
   "cell_type": "code",
   "execution_count": 100,
   "id": "cfe613bc",
   "metadata": {},
   "outputs": [
    {
     "data": {
      "text/html": [
       "<div>\n",
       "<style scoped>\n",
       "    .dataframe tbody tr th:only-of-type {\n",
       "        vertical-align: middle;\n",
       "    }\n",
       "\n",
       "    .dataframe tbody tr th {\n",
       "        vertical-align: top;\n",
       "    }\n",
       "\n",
       "    .dataframe thead th {\n",
       "        text-align: right;\n",
       "    }\n",
       "</style>\n",
       "<table border=\"1\" class=\"dataframe\">\n",
       "  <thead>\n",
       "    <tr style=\"text-align: right;\">\n",
       "      <th></th>\n",
       "      <th>age</th>\n",
       "      <th>job</th>\n",
       "      <th>saving_accounts</th>\n",
       "      <th>checking_account</th>\n",
       "      <th>credit_amount</th>\n",
       "      <th>duration</th>\n",
       "      <th>purpose_car</th>\n",
       "      <th>purpose_domestic appliances</th>\n",
       "      <th>purpose_education</th>\n",
       "      <th>purpose_furniture/equipment</th>\n",
       "      <th>purpose_radio/TV</th>\n",
       "      <th>purpose_repairs</th>\n",
       "      <th>purpose_vacation/others</th>\n",
       "      <th>housing_own</th>\n",
       "      <th>housing_rent</th>\n",
       "      <th>sex_male</th>\n",
       "      <th>monthly_credit</th>\n",
       "    </tr>\n",
       "  </thead>\n",
       "  <tbody>\n",
       "    <tr>\n",
       "      <th>0</th>\n",
       "      <td>67</td>\n",
       "      <td>2</td>\n",
       "      <td>1</td>\n",
       "      <td>1</td>\n",
       "      <td>1169</td>\n",
       "      <td>6</td>\n",
       "      <td>0</td>\n",
       "      <td>0</td>\n",
       "      <td>0</td>\n",
       "      <td>0</td>\n",
       "      <td>1</td>\n",
       "      <td>0</td>\n",
       "      <td>0</td>\n",
       "      <td>1</td>\n",
       "      <td>0</td>\n",
       "      <td>1</td>\n",
       "      <td>194.833333</td>\n",
       "    </tr>\n",
       "    <tr>\n",
       "      <th>1</th>\n",
       "      <td>22</td>\n",
       "      <td>2</td>\n",
       "      <td>1</td>\n",
       "      <td>2</td>\n",
       "      <td>5951</td>\n",
       "      <td>48</td>\n",
       "      <td>0</td>\n",
       "      <td>0</td>\n",
       "      <td>0</td>\n",
       "      <td>0</td>\n",
       "      <td>1</td>\n",
       "      <td>0</td>\n",
       "      <td>0</td>\n",
       "      <td>1</td>\n",
       "      <td>0</td>\n",
       "      <td>0</td>\n",
       "      <td>123.979167</td>\n",
       "    </tr>\n",
       "    <tr>\n",
       "      <th>2</th>\n",
       "      <td>49</td>\n",
       "      <td>1</td>\n",
       "      <td>1</td>\n",
       "      <td>1</td>\n",
       "      <td>2096</td>\n",
       "      <td>12</td>\n",
       "      <td>0</td>\n",
       "      <td>0</td>\n",
       "      <td>1</td>\n",
       "      <td>0</td>\n",
       "      <td>0</td>\n",
       "      <td>0</td>\n",
       "      <td>0</td>\n",
       "      <td>1</td>\n",
       "      <td>0</td>\n",
       "      <td>1</td>\n",
       "      <td>174.666667</td>\n",
       "    </tr>\n",
       "    <tr>\n",
       "      <th>3</th>\n",
       "      <td>45</td>\n",
       "      <td>2</td>\n",
       "      <td>1</td>\n",
       "      <td>1</td>\n",
       "      <td>7882</td>\n",
       "      <td>42</td>\n",
       "      <td>0</td>\n",
       "      <td>0</td>\n",
       "      <td>0</td>\n",
       "      <td>1</td>\n",
       "      <td>0</td>\n",
       "      <td>0</td>\n",
       "      <td>0</td>\n",
       "      <td>0</td>\n",
       "      <td>0</td>\n",
       "      <td>1</td>\n",
       "      <td>187.666667</td>\n",
       "    </tr>\n",
       "    <tr>\n",
       "      <th>4</th>\n",
       "      <td>53</td>\n",
       "      <td>2</td>\n",
       "      <td>1</td>\n",
       "      <td>1</td>\n",
       "      <td>4870</td>\n",
       "      <td>24</td>\n",
       "      <td>1</td>\n",
       "      <td>0</td>\n",
       "      <td>0</td>\n",
       "      <td>0</td>\n",
       "      <td>0</td>\n",
       "      <td>0</td>\n",
       "      <td>0</td>\n",
       "      <td>0</td>\n",
       "      <td>0</td>\n",
       "      <td>1</td>\n",
       "      <td>202.916667</td>\n",
       "    </tr>\n",
       "    <tr>\n",
       "      <th>...</th>\n",
       "      <td>...</td>\n",
       "      <td>...</td>\n",
       "      <td>...</td>\n",
       "      <td>...</td>\n",
       "      <td>...</td>\n",
       "      <td>...</td>\n",
       "      <td>...</td>\n",
       "      <td>...</td>\n",
       "      <td>...</td>\n",
       "      <td>...</td>\n",
       "      <td>...</td>\n",
       "      <td>...</td>\n",
       "      <td>...</td>\n",
       "      <td>...</td>\n",
       "      <td>...</td>\n",
       "      <td>...</td>\n",
       "      <td>...</td>\n",
       "    </tr>\n",
       "    <tr>\n",
       "      <th>995</th>\n",
       "      <td>31</td>\n",
       "      <td>1</td>\n",
       "      <td>1</td>\n",
       "      <td>1</td>\n",
       "      <td>1736</td>\n",
       "      <td>12</td>\n",
       "      <td>0</td>\n",
       "      <td>0</td>\n",
       "      <td>0</td>\n",
       "      <td>1</td>\n",
       "      <td>0</td>\n",
       "      <td>0</td>\n",
       "      <td>0</td>\n",
       "      <td>1</td>\n",
       "      <td>0</td>\n",
       "      <td>0</td>\n",
       "      <td>144.666667</td>\n",
       "    </tr>\n",
       "    <tr>\n",
       "      <th>996</th>\n",
       "      <td>40</td>\n",
       "      <td>3</td>\n",
       "      <td>1</td>\n",
       "      <td>1</td>\n",
       "      <td>3857</td>\n",
       "      <td>30</td>\n",
       "      <td>1</td>\n",
       "      <td>0</td>\n",
       "      <td>0</td>\n",
       "      <td>0</td>\n",
       "      <td>0</td>\n",
       "      <td>0</td>\n",
       "      <td>0</td>\n",
       "      <td>1</td>\n",
       "      <td>0</td>\n",
       "      <td>1</td>\n",
       "      <td>128.566667</td>\n",
       "    </tr>\n",
       "    <tr>\n",
       "      <th>997</th>\n",
       "      <td>38</td>\n",
       "      <td>2</td>\n",
       "      <td>1</td>\n",
       "      <td>1</td>\n",
       "      <td>804</td>\n",
       "      <td>12</td>\n",
       "      <td>0</td>\n",
       "      <td>0</td>\n",
       "      <td>0</td>\n",
       "      <td>0</td>\n",
       "      <td>1</td>\n",
       "      <td>0</td>\n",
       "      <td>0</td>\n",
       "      <td>1</td>\n",
       "      <td>0</td>\n",
       "      <td>1</td>\n",
       "      <td>67.000000</td>\n",
       "    </tr>\n",
       "    <tr>\n",
       "      <th>998</th>\n",
       "      <td>23</td>\n",
       "      <td>2</td>\n",
       "      <td>1</td>\n",
       "      <td>1</td>\n",
       "      <td>1845</td>\n",
       "      <td>45</td>\n",
       "      <td>0</td>\n",
       "      <td>0</td>\n",
       "      <td>0</td>\n",
       "      <td>0</td>\n",
       "      <td>1</td>\n",
       "      <td>0</td>\n",
       "      <td>0</td>\n",
       "      <td>0</td>\n",
       "      <td>0</td>\n",
       "      <td>1</td>\n",
       "      <td>41.000000</td>\n",
       "    </tr>\n",
       "    <tr>\n",
       "      <th>999</th>\n",
       "      <td>27</td>\n",
       "      <td>2</td>\n",
       "      <td>2</td>\n",
       "      <td>2</td>\n",
       "      <td>4576</td>\n",
       "      <td>45</td>\n",
       "      <td>1</td>\n",
       "      <td>0</td>\n",
       "      <td>0</td>\n",
       "      <td>0</td>\n",
       "      <td>0</td>\n",
       "      <td>0</td>\n",
       "      <td>0</td>\n",
       "      <td>1</td>\n",
       "      <td>0</td>\n",
       "      <td>1</td>\n",
       "      <td>101.688889</td>\n",
       "    </tr>\n",
       "  </tbody>\n",
       "</table>\n",
       "<p>1000 rows × 17 columns</p>\n",
       "</div>"
      ],
      "text/plain": [
       "     age  job  saving_accounts  checking_account  credit_amount  duration  \\\n",
       "0     67    2                1                 1           1169         6   \n",
       "1     22    2                1                 2           5951        48   \n",
       "2     49    1                1                 1           2096        12   \n",
       "3     45    2                1                 1           7882        42   \n",
       "4     53    2                1                 1           4870        24   \n",
       "..   ...  ...              ...               ...            ...       ...   \n",
       "995   31    1                1                 1           1736        12   \n",
       "996   40    3                1                 1           3857        30   \n",
       "997   38    2                1                 1            804        12   \n",
       "998   23    2                1                 1           1845        45   \n",
       "999   27    2                2                 2           4576        45   \n",
       "\n",
       "     purpose_car  purpose_domestic appliances  purpose_education  \\\n",
       "0              0                            0                  0   \n",
       "1              0                            0                  0   \n",
       "2              0                            0                  1   \n",
       "3              0                            0                  0   \n",
       "4              1                            0                  0   \n",
       "..           ...                          ...                ...   \n",
       "995            0                            0                  0   \n",
       "996            1                            0                  0   \n",
       "997            0                            0                  0   \n",
       "998            0                            0                  0   \n",
       "999            1                            0                  0   \n",
       "\n",
       "     purpose_furniture/equipment  purpose_radio/TV  purpose_repairs  \\\n",
       "0                              0                 1                0   \n",
       "1                              0                 1                0   \n",
       "2                              0                 0                0   \n",
       "3                              1                 0                0   \n",
       "4                              0                 0                0   \n",
       "..                           ...               ...              ...   \n",
       "995                            1                 0                0   \n",
       "996                            0                 0                0   \n",
       "997                            0                 1                0   \n",
       "998                            0                 1                0   \n",
       "999                            0                 0                0   \n",
       "\n",
       "     purpose_vacation/others  housing_own  housing_rent  sex_male  \\\n",
       "0                          0            1             0         1   \n",
       "1                          0            1             0         0   \n",
       "2                          0            1             0         1   \n",
       "3                          0            0             0         1   \n",
       "4                          0            0             0         1   \n",
       "..                       ...          ...           ...       ...   \n",
       "995                        0            1             0         0   \n",
       "996                        0            1             0         1   \n",
       "997                        0            1             0         1   \n",
       "998                        0            0             0         1   \n",
       "999                        0            1             0         1   \n",
       "\n",
       "     monthly_credit  \n",
       "0        194.833333  \n",
       "1        123.979167  \n",
       "2        174.666667  \n",
       "3        187.666667  \n",
       "4        202.916667  \n",
       "..              ...  \n",
       "995      144.666667  \n",
       "996      128.566667  \n",
       "997       67.000000  \n",
       "998       41.000000  \n",
       "999      101.688889  \n",
       "\n",
       "[1000 rows x 17 columns]"
      ]
     },
     "execution_count": 100,
     "metadata": {},
     "output_type": "execute_result"
    }
   ],
   "source": [
    "X_knn"
   ]
  },
  {
   "cell_type": "code",
   "execution_count": 101,
   "id": "1f05d184",
   "metadata": {},
   "outputs": [],
   "source": [
    "# Veri setimizi train ve test olarak ayıralım\n",
    "\n",
    "X_test_knn, X_train_knn, y_test_knn, y_train_knn = train_test_split(X_knn, y_knn, train_size=0.70, random_state=42)   "
   ]
  },
  {
   "cell_type": "markdown",
   "id": "9a9b870b",
   "metadata": {},
   "source": [
    "### Scaling yapalım"
   ]
  },
  {
   "cell_type": "code",
   "execution_count": 102,
   "id": "4dcd06b4",
   "metadata": {},
   "outputs": [],
   "source": [
    "# Standard Scaling için gerekli sınıfı import edelim.\n",
    "\n",
    "from sklearn.preprocessing import StandardScaler"
   ]
  },
  {
   "cell_type": "code",
   "execution_count": 103,
   "id": "d06a1b3e",
   "metadata": {},
   "outputs": [],
   "source": [
    "# Standard scaler nesnesi yaratalım.\n",
    "\n",
    "scaler_knn = StandardScaler()  "
   ]
  },
  {
   "cell_type": "code",
   "execution_count": 104,
   "id": "93c9dc94",
   "metadata": {},
   "outputs": [],
   "source": [
    "# bağımsız değişkenlerimizi scale edelim.\n",
    "\n",
    "X_train_scaled_knn = scaler_knn.fit_transform(X_train)\n",
    "X_test_scaled_knn = scaler_knn.transform(X_test)"
   ]
  },
  {
   "cell_type": "code",
   "execution_count": 105,
   "id": "4bcc1dcc",
   "metadata": {},
   "outputs": [
    {
     "data": {
      "text/plain": [
       "array([[-1.00130392,  0.27071586, -0.4433478 , ..., -0.4843221 ,\n",
       "        -1.55212464,  0.06369413],\n",
       "       [-0.05748703, -1.29110641,  0.81141013, ..., -0.4843221 ,\n",
       "         0.64427815,  0.44455019],\n",
       "       [-0.31489164,  0.27071586,  0.81141013, ..., -0.4843221 ,\n",
       "         0.64427815, -0.399174  ],\n",
       "       ...,\n",
       "       [-1.34451007,  0.27071586, -0.4433478 , ..., -0.4843221 ,\n",
       "         0.64427815, -0.11681244],\n",
       "       [-0.05748703,  1.83253813, -0.4433478 , ...,  2.0647416 ,\n",
       "         0.64427815,  0.15458751],\n",
       "       [-1.34451007,  0.27071586, -0.4433478 , ...,  2.0647416 ,\n",
       "        -1.55212464, -0.34180556]])"
      ]
     },
     "execution_count": 105,
     "metadata": {},
     "output_type": "execute_result"
    }
   ],
   "source": [
    "X_train_scaled_knn"
   ]
  },
  {
   "cell_type": "code",
   "execution_count": 106,
   "id": "8388bd2f",
   "metadata": {
    "scrolled": true
   },
   "outputs": [
    {
     "data": {
      "text/plain": [
       "array([[ 2.08755137,  0.27071586, -0.4433478 , ..., -0.4843221 ,\n",
       "         0.64427815, -0.46950435],\n",
       "       [ 0.28571911,  1.83253813, -0.4433478 , ..., -0.4843221 ,\n",
       "         0.64427815, -0.05280302],\n",
       "       [ 1.83014676,  0.27071586,  2.06616806, ...,  2.0647416 ,\n",
       "        -1.55212464, -0.26172977],\n",
       "       ...,\n",
       "       [-0.74389932,  0.27071586,  2.06616806, ..., -0.4843221 ,\n",
       "         0.64427815,  0.43590892],\n",
       "       [-0.91550239,  0.27071586, -0.4433478 , ..., -0.4843221 ,\n",
       "         0.64427815, -0.24483128],\n",
       "       [-1.00130392,  0.27071586, -0.4433478 , ..., -0.4843221 ,\n",
       "        -1.55212464, -0.06240443]])"
      ]
     },
     "execution_count": 106,
     "metadata": {},
     "output_type": "execute_result"
    }
   ],
   "source": [
    "X_test_scaled_knn"
   ]
  },
  {
   "cell_type": "markdown",
   "id": "e7c950a5",
   "metadata": {},
   "source": [
    "**Görev 4.2.2**\n",
    "- En iyi \"k\" değeri ile modeli eğitin ve değerlendirin."
   ]
  },
  {
   "cell_type": "code",
   "execution_count": 107,
   "id": "835369b9",
   "metadata": {},
   "outputs": [],
   "source": [
    "# KNN için gerekli sınıfı import edelim\n",
    "\n",
    "from sklearn.neighbors import KNeighborsClassifier"
   ]
  },
  {
   "cell_type": "code",
   "execution_count": 108,
   "id": "810e82f2",
   "metadata": {},
   "outputs": [],
   "source": [
    "# KNN modelini çağıralım. \n",
    "\n",
    "knn_1 = KNeighborsClassifier(n_neighbors= 3)"
   ]
  },
  {
   "cell_type": "code",
   "execution_count": 109,
   "id": "bb4b6f5b",
   "metadata": {},
   "outputs": [
    {
     "data": {
      "text/html": [
       "<style>#sk-container-id-3 {color: black;background-color: white;}#sk-container-id-3 pre{padding: 0;}#sk-container-id-3 div.sk-toggleable {background-color: white;}#sk-container-id-3 label.sk-toggleable__label {cursor: pointer;display: block;width: 100%;margin-bottom: 0;padding: 0.3em;box-sizing: border-box;text-align: center;}#sk-container-id-3 label.sk-toggleable__label-arrow:before {content: \"▸\";float: left;margin-right: 0.25em;color: #696969;}#sk-container-id-3 label.sk-toggleable__label-arrow:hover:before {color: black;}#sk-container-id-3 div.sk-estimator:hover label.sk-toggleable__label-arrow:before {color: black;}#sk-container-id-3 div.sk-toggleable__content {max-height: 0;max-width: 0;overflow: hidden;text-align: left;background-color: #f0f8ff;}#sk-container-id-3 div.sk-toggleable__content pre {margin: 0.2em;color: black;border-radius: 0.25em;background-color: #f0f8ff;}#sk-container-id-3 input.sk-toggleable__control:checked~div.sk-toggleable__content {max-height: 200px;max-width: 100%;overflow: auto;}#sk-container-id-3 input.sk-toggleable__control:checked~label.sk-toggleable__label-arrow:before {content: \"▾\";}#sk-container-id-3 div.sk-estimator input.sk-toggleable__control:checked~label.sk-toggleable__label {background-color: #d4ebff;}#sk-container-id-3 div.sk-label input.sk-toggleable__control:checked~label.sk-toggleable__label {background-color: #d4ebff;}#sk-container-id-3 input.sk-hidden--visually {border: 0;clip: rect(1px 1px 1px 1px);clip: rect(1px, 1px, 1px, 1px);height: 1px;margin: -1px;overflow: hidden;padding: 0;position: absolute;width: 1px;}#sk-container-id-3 div.sk-estimator {font-family: monospace;background-color: #f0f8ff;border: 1px dotted black;border-radius: 0.25em;box-sizing: border-box;margin-bottom: 0.5em;}#sk-container-id-3 div.sk-estimator:hover {background-color: #d4ebff;}#sk-container-id-3 div.sk-parallel-item::after {content: \"\";width: 100%;border-bottom: 1px solid gray;flex-grow: 1;}#sk-container-id-3 div.sk-label:hover label.sk-toggleable__label {background-color: #d4ebff;}#sk-container-id-3 div.sk-serial::before {content: \"\";position: absolute;border-left: 1px solid gray;box-sizing: border-box;top: 0;bottom: 0;left: 50%;z-index: 0;}#sk-container-id-3 div.sk-serial {display: flex;flex-direction: column;align-items: center;background-color: white;padding-right: 0.2em;padding-left: 0.2em;position: relative;}#sk-container-id-3 div.sk-item {position: relative;z-index: 1;}#sk-container-id-3 div.sk-parallel {display: flex;align-items: stretch;justify-content: center;background-color: white;position: relative;}#sk-container-id-3 div.sk-item::before, #sk-container-id-3 div.sk-parallel-item::before {content: \"\";position: absolute;border-left: 1px solid gray;box-sizing: border-box;top: 0;bottom: 0;left: 50%;z-index: -1;}#sk-container-id-3 div.sk-parallel-item {display: flex;flex-direction: column;z-index: 1;position: relative;background-color: white;}#sk-container-id-3 div.sk-parallel-item:first-child::after {align-self: flex-end;width: 50%;}#sk-container-id-3 div.sk-parallel-item:last-child::after {align-self: flex-start;width: 50%;}#sk-container-id-3 div.sk-parallel-item:only-child::after {width: 0;}#sk-container-id-3 div.sk-dashed-wrapped {border: 1px dashed gray;margin: 0 0.4em 0.5em 0.4em;box-sizing: border-box;padding-bottom: 0.4em;background-color: white;}#sk-container-id-3 div.sk-label label {font-family: monospace;font-weight: bold;display: inline-block;line-height: 1.2em;}#sk-container-id-3 div.sk-label-container {text-align: center;}#sk-container-id-3 div.sk-container {/* jupyter's `normalize.less` sets `[hidden] { display: none; }` but bootstrap.min.css set `[hidden] { display: none !important; }` so we also need the `!important` here to be able to override the default hidden behavior on the sphinx rendered scikit-learn.org. See: https://github.com/scikit-learn/scikit-learn/issues/21755 */display: inline-block !important;position: relative;}#sk-container-id-3 div.sk-text-repr-fallback {display: none;}</style><div id=\"sk-container-id-3\" class=\"sk-top-container\"><div class=\"sk-text-repr-fallback\"><pre>KNeighborsClassifier(n_neighbors=3)</pre><b>In a Jupyter environment, please rerun this cell to show the HTML representation or trust the notebook. <br />On GitHub, the HTML representation is unable to render, please try loading this page with nbviewer.org.</b></div><div class=\"sk-container\" hidden><div class=\"sk-item\"><div class=\"sk-estimator sk-toggleable\"><input class=\"sk-toggleable__control sk-hidden--visually\" id=\"sk-estimator-id-3\" type=\"checkbox\" checked><label for=\"sk-estimator-id-3\" class=\"sk-toggleable__label sk-toggleable__label-arrow\">KNeighborsClassifier</label><div class=\"sk-toggleable__content\"><pre>KNeighborsClassifier(n_neighbors=3)</pre></div></div></div></div></div>"
      ],
      "text/plain": [
       "KNeighborsClassifier(n_neighbors=3)"
      ]
     },
     "execution_count": 109,
     "metadata": {},
     "output_type": "execute_result"
    }
   ],
   "source": [
    "knn_1"
   ]
  },
  {
   "cell_type": "code",
   "execution_count": 110,
   "id": "16dc8607",
   "metadata": {},
   "outputs": [
    {
     "data": {
      "text/html": [
       "<style>#sk-container-id-4 {color: black;background-color: white;}#sk-container-id-4 pre{padding: 0;}#sk-container-id-4 div.sk-toggleable {background-color: white;}#sk-container-id-4 label.sk-toggleable__label {cursor: pointer;display: block;width: 100%;margin-bottom: 0;padding: 0.3em;box-sizing: border-box;text-align: center;}#sk-container-id-4 label.sk-toggleable__label-arrow:before {content: \"▸\";float: left;margin-right: 0.25em;color: #696969;}#sk-container-id-4 label.sk-toggleable__label-arrow:hover:before {color: black;}#sk-container-id-4 div.sk-estimator:hover label.sk-toggleable__label-arrow:before {color: black;}#sk-container-id-4 div.sk-toggleable__content {max-height: 0;max-width: 0;overflow: hidden;text-align: left;background-color: #f0f8ff;}#sk-container-id-4 div.sk-toggleable__content pre {margin: 0.2em;color: black;border-radius: 0.25em;background-color: #f0f8ff;}#sk-container-id-4 input.sk-toggleable__control:checked~div.sk-toggleable__content {max-height: 200px;max-width: 100%;overflow: auto;}#sk-container-id-4 input.sk-toggleable__control:checked~label.sk-toggleable__label-arrow:before {content: \"▾\";}#sk-container-id-4 div.sk-estimator input.sk-toggleable__control:checked~label.sk-toggleable__label {background-color: #d4ebff;}#sk-container-id-4 div.sk-label input.sk-toggleable__control:checked~label.sk-toggleable__label {background-color: #d4ebff;}#sk-container-id-4 input.sk-hidden--visually {border: 0;clip: rect(1px 1px 1px 1px);clip: rect(1px, 1px, 1px, 1px);height: 1px;margin: -1px;overflow: hidden;padding: 0;position: absolute;width: 1px;}#sk-container-id-4 div.sk-estimator {font-family: monospace;background-color: #f0f8ff;border: 1px dotted black;border-radius: 0.25em;box-sizing: border-box;margin-bottom: 0.5em;}#sk-container-id-4 div.sk-estimator:hover {background-color: #d4ebff;}#sk-container-id-4 div.sk-parallel-item::after {content: \"\";width: 100%;border-bottom: 1px solid gray;flex-grow: 1;}#sk-container-id-4 div.sk-label:hover label.sk-toggleable__label {background-color: #d4ebff;}#sk-container-id-4 div.sk-serial::before {content: \"\";position: absolute;border-left: 1px solid gray;box-sizing: border-box;top: 0;bottom: 0;left: 50%;z-index: 0;}#sk-container-id-4 div.sk-serial {display: flex;flex-direction: column;align-items: center;background-color: white;padding-right: 0.2em;padding-left: 0.2em;position: relative;}#sk-container-id-4 div.sk-item {position: relative;z-index: 1;}#sk-container-id-4 div.sk-parallel {display: flex;align-items: stretch;justify-content: center;background-color: white;position: relative;}#sk-container-id-4 div.sk-item::before, #sk-container-id-4 div.sk-parallel-item::before {content: \"\";position: absolute;border-left: 1px solid gray;box-sizing: border-box;top: 0;bottom: 0;left: 50%;z-index: -1;}#sk-container-id-4 div.sk-parallel-item {display: flex;flex-direction: column;z-index: 1;position: relative;background-color: white;}#sk-container-id-4 div.sk-parallel-item:first-child::after {align-self: flex-end;width: 50%;}#sk-container-id-4 div.sk-parallel-item:last-child::after {align-self: flex-start;width: 50%;}#sk-container-id-4 div.sk-parallel-item:only-child::after {width: 0;}#sk-container-id-4 div.sk-dashed-wrapped {border: 1px dashed gray;margin: 0 0.4em 0.5em 0.4em;box-sizing: border-box;padding-bottom: 0.4em;background-color: white;}#sk-container-id-4 div.sk-label label {font-family: monospace;font-weight: bold;display: inline-block;line-height: 1.2em;}#sk-container-id-4 div.sk-label-container {text-align: center;}#sk-container-id-4 div.sk-container {/* jupyter's `normalize.less` sets `[hidden] { display: none; }` but bootstrap.min.css set `[hidden] { display: none !important; }` so we also need the `!important` here to be able to override the default hidden behavior on the sphinx rendered scikit-learn.org. See: https://github.com/scikit-learn/scikit-learn/issues/21755 */display: inline-block !important;position: relative;}#sk-container-id-4 div.sk-text-repr-fallback {display: none;}</style><div id=\"sk-container-id-4\" class=\"sk-top-container\"><div class=\"sk-text-repr-fallback\"><pre>KNeighborsClassifier(n_neighbors=3)</pre><b>In a Jupyter environment, please rerun this cell to show the HTML representation or trust the notebook. <br />On GitHub, the HTML representation is unable to render, please try loading this page with nbviewer.org.</b></div><div class=\"sk-container\" hidden><div class=\"sk-item\"><div class=\"sk-estimator sk-toggleable\"><input class=\"sk-toggleable__control sk-hidden--visually\" id=\"sk-estimator-id-4\" type=\"checkbox\" checked><label for=\"sk-estimator-id-4\" class=\"sk-toggleable__label sk-toggleable__label-arrow\">KNeighborsClassifier</label><div class=\"sk-toggleable__content\"><pre>KNeighborsClassifier(n_neighbors=3)</pre></div></div></div></div></div>"
      ],
      "text/plain": [
       "KNeighborsClassifier(n_neighbors=3)"
      ]
     },
     "execution_count": 110,
     "metadata": {},
     "output_type": "execute_result"
    }
   ],
   "source": [
    "# Modeli eğitiyoruz(öğrenme tamamlanacak) \n",
    "\n",
    "knn_1.fit(X_train_scaled_knn, y_train_knn)"
   ]
  },
  {
   "cell_type": "code",
   "execution_count": 111,
   "id": "e2530610",
   "metadata": {},
   "outputs": [],
   "source": [
    "# Test verisi üzerinde tahmin yap --  PREDICT : tahmin etmek\n",
    "\n",
    "y_pred_knn_final = knn_1.predict(X_test_scaled_knn)"
   ]
  },
  {
   "cell_type": "code",
   "execution_count": 112,
   "id": "fe621760",
   "metadata": {},
   "outputs": [
    {
     "name": "stdout",
     "output_type": "stream",
     "text": [
      "              precision    recall  f1-score   support\n",
      "\n",
      "           0       0.38      0.26      0.31       209\n",
      "           1       0.72      0.82      0.77       491\n",
      "\n",
      "    accuracy                           0.65       700\n",
      "   macro avg       0.55      0.54      0.54       700\n",
      "weighted avg       0.62      0.65      0.63       700\n",
      "\n"
     ]
    }
   ],
   "source": [
    "# Eğitilen modelin sonuçlarını hızlıca değerlendirelim\n",
    "\n",
    "print(classification_report(y_test_knn, y_pred_knn_final))\n",
    "holdout = classification_report(y_test_knn, y_pred_knn_final)"
   ]
  },
  {
   "cell_type": "code",
   "execution_count": 113,
   "id": "6b80c8dd",
   "metadata": {},
   "outputs": [],
   "source": [
    "# Modelimizin en iyi k değerini bulabilmesi için cross validation'ı import edelim\n",
    "\n",
    "from sklearn.model_selection import cross_validate"
   ]
  },
  {
   "cell_type": "code",
   "execution_count": 114,
   "id": "fb636b55",
   "metadata": {},
   "outputs": [],
   "source": [
    "# KNN modelini çağıralım. \n",
    "\n",
    "knn_cv = KNeighborsClassifier()"
   ]
  },
  {
   "cell_type": "code",
   "execution_count": 115,
   "id": "00d2ad49",
   "metadata": {},
   "outputs": [
    {
     "data": {
      "text/html": [
       "<style>#sk-container-id-5 {color: black;background-color: white;}#sk-container-id-5 pre{padding: 0;}#sk-container-id-5 div.sk-toggleable {background-color: white;}#sk-container-id-5 label.sk-toggleable__label {cursor: pointer;display: block;width: 100%;margin-bottom: 0;padding: 0.3em;box-sizing: border-box;text-align: center;}#sk-container-id-5 label.sk-toggleable__label-arrow:before {content: \"▸\";float: left;margin-right: 0.25em;color: #696969;}#sk-container-id-5 label.sk-toggleable__label-arrow:hover:before {color: black;}#sk-container-id-5 div.sk-estimator:hover label.sk-toggleable__label-arrow:before {color: black;}#sk-container-id-5 div.sk-toggleable__content {max-height: 0;max-width: 0;overflow: hidden;text-align: left;background-color: #f0f8ff;}#sk-container-id-5 div.sk-toggleable__content pre {margin: 0.2em;color: black;border-radius: 0.25em;background-color: #f0f8ff;}#sk-container-id-5 input.sk-toggleable__control:checked~div.sk-toggleable__content {max-height: 200px;max-width: 100%;overflow: auto;}#sk-container-id-5 input.sk-toggleable__control:checked~label.sk-toggleable__label-arrow:before {content: \"▾\";}#sk-container-id-5 div.sk-estimator input.sk-toggleable__control:checked~label.sk-toggleable__label {background-color: #d4ebff;}#sk-container-id-5 div.sk-label input.sk-toggleable__control:checked~label.sk-toggleable__label {background-color: #d4ebff;}#sk-container-id-5 input.sk-hidden--visually {border: 0;clip: rect(1px 1px 1px 1px);clip: rect(1px, 1px, 1px, 1px);height: 1px;margin: -1px;overflow: hidden;padding: 0;position: absolute;width: 1px;}#sk-container-id-5 div.sk-estimator {font-family: monospace;background-color: #f0f8ff;border: 1px dotted black;border-radius: 0.25em;box-sizing: border-box;margin-bottom: 0.5em;}#sk-container-id-5 div.sk-estimator:hover {background-color: #d4ebff;}#sk-container-id-5 div.sk-parallel-item::after {content: \"\";width: 100%;border-bottom: 1px solid gray;flex-grow: 1;}#sk-container-id-5 div.sk-label:hover label.sk-toggleable__label {background-color: #d4ebff;}#sk-container-id-5 div.sk-serial::before {content: \"\";position: absolute;border-left: 1px solid gray;box-sizing: border-box;top: 0;bottom: 0;left: 50%;z-index: 0;}#sk-container-id-5 div.sk-serial {display: flex;flex-direction: column;align-items: center;background-color: white;padding-right: 0.2em;padding-left: 0.2em;position: relative;}#sk-container-id-5 div.sk-item {position: relative;z-index: 1;}#sk-container-id-5 div.sk-parallel {display: flex;align-items: stretch;justify-content: center;background-color: white;position: relative;}#sk-container-id-5 div.sk-item::before, #sk-container-id-5 div.sk-parallel-item::before {content: \"\";position: absolute;border-left: 1px solid gray;box-sizing: border-box;top: 0;bottom: 0;left: 50%;z-index: -1;}#sk-container-id-5 div.sk-parallel-item {display: flex;flex-direction: column;z-index: 1;position: relative;background-color: white;}#sk-container-id-5 div.sk-parallel-item:first-child::after {align-self: flex-end;width: 50%;}#sk-container-id-5 div.sk-parallel-item:last-child::after {align-self: flex-start;width: 50%;}#sk-container-id-5 div.sk-parallel-item:only-child::after {width: 0;}#sk-container-id-5 div.sk-dashed-wrapped {border: 1px dashed gray;margin: 0 0.4em 0.5em 0.4em;box-sizing: border-box;padding-bottom: 0.4em;background-color: white;}#sk-container-id-5 div.sk-label label {font-family: monospace;font-weight: bold;display: inline-block;line-height: 1.2em;}#sk-container-id-5 div.sk-label-container {text-align: center;}#sk-container-id-5 div.sk-container {/* jupyter's `normalize.less` sets `[hidden] { display: none; }` but bootstrap.min.css set `[hidden] { display: none !important; }` so we also need the `!important` here to be able to override the default hidden behavior on the sphinx rendered scikit-learn.org. See: https://github.com/scikit-learn/scikit-learn/issues/21755 */display: inline-block !important;position: relative;}#sk-container-id-5 div.sk-text-repr-fallback {display: none;}</style><div id=\"sk-container-id-5\" class=\"sk-top-container\"><div class=\"sk-text-repr-fallback\"><pre>KNeighborsClassifier()</pre><b>In a Jupyter environment, please rerun this cell to show the HTML representation or trust the notebook. <br />On GitHub, the HTML representation is unable to render, please try loading this page with nbviewer.org.</b></div><div class=\"sk-container\" hidden><div class=\"sk-item\"><div class=\"sk-estimator sk-toggleable\"><input class=\"sk-toggleable__control sk-hidden--visually\" id=\"sk-estimator-id-5\" type=\"checkbox\" checked><label for=\"sk-estimator-id-5\" class=\"sk-toggleable__label sk-toggleable__label-arrow\">KNeighborsClassifier</label><div class=\"sk-toggleable__content\"><pre>KNeighborsClassifier()</pre></div></div></div></div></div>"
      ],
      "text/plain": [
       "KNeighborsClassifier()"
      ]
     },
     "execution_count": 115,
     "metadata": {},
     "output_type": "execute_result"
    }
   ],
   "source": [
    "knn_cv"
   ]
  },
  {
   "cell_type": "code",
   "execution_count": 116,
   "id": "9978e0a2",
   "metadata": {},
   "outputs": [],
   "source": [
    "# cross validation uygulayalım\n",
    "\n",
    "scoring = [\"accuracy\", \"precision_macro\", \"recall_macro\", \"f1_macro\"]\n",
    "\n",
    "cv_results = cross_validate(knn_cv, X_train_scaled_knn, y_train_knn, cv=5, scoring=scoring)"
   ]
  },
  {
   "cell_type": "code",
   "execution_count": 117,
   "id": "779a88fe",
   "metadata": {},
   "outputs": [
    {
     "data": {
      "text/plain": [
       "{'fit_time': array([0.00110555, 0.        , 0.00100231, 0.        , 0.        ]),\n",
       " 'score_time': array([0.02704811, 0.03518152, 0.02763462, 0.03272462, 0.01662445]),\n",
       " 'test_accuracy': array([0.6       , 0.65      , 0.61666667, 0.61666667, 0.61666667]),\n",
       " 'test_precision_macro': array([0.40161725, 0.51960784, 0.48330241, 0.41105121, 0.48330241]),\n",
       " 'test_recall_macro': array([0.45314506, 0.51190476, 0.48809524, 0.45634921, 0.48809524]),\n",
       " 'test_f1_macro': array([0.41080196, 0.49820789, 0.47707465, 0.41894737, 0.47707465])}"
      ]
     },
     "execution_count": 117,
     "metadata": {},
     "output_type": "execute_result"
    }
   ],
   "source": [
    "cv_results"
   ]
  },
  {
   "cell_type": "code",
   "execution_count": 118,
   "id": "1ebbd300",
   "metadata": {},
   "outputs": [
    {
     "name": "stdout",
     "output_type": "stream",
     "text": [
      "Accuracy:  0.62\n",
      "Precision:  0.45977622609935914\n",
      "Recall:  0.4795179004421623\n",
      "F1 Score:  0.4564213033392101\n"
     ]
    }
   ],
   "source": [
    "print(\"Accuracy: \", cv_results[\"test_accuracy\"].mean())\n",
    "print(\"Precision: \", cv_results[\"test_precision_macro\"].mean())\n",
    "print(\"Recall: \", cv_results[\"test_recall_macro\"].mean())\n",
    "print(\"F1 Score: \", cv_results[\"test_f1_macro\"].mean())"
   ]
  },
  {
   "cell_type": "code",
   "execution_count": 119,
   "id": "42eff5ec",
   "metadata": {},
   "outputs": [
    {
     "name": "stdout",
     "output_type": "stream",
     "text": [
      "              precision    recall  f1-score   support\n",
      "\n",
      "           0       0.38      0.26      0.31       209\n",
      "           1       0.72      0.82      0.77       491\n",
      "\n",
      "    accuracy                           0.65       700\n",
      "   macro avg       0.55      0.54      0.54       700\n",
      "weighted avg       0.62      0.65      0.63       700\n",
      "\n"
     ]
    }
   ],
   "source": [
    "print(holdout)"
   ]
  },
  {
   "cell_type": "code",
   "execution_count": 120,
   "id": "5489da7b",
   "metadata": {},
   "outputs": [
    {
     "data": {
      "text/plain": [
       "5"
      ]
     },
     "execution_count": 120,
     "metadata": {},
     "output_type": "execute_result"
    }
   ],
   "source": [
    "knn_cv.n_neighbors"
   ]
  },
  {
   "cell_type": "code",
   "execution_count": 121,
   "id": "96bd4327",
   "metadata": {},
   "outputs": [],
   "source": [
    "# bir aralık belirleyelim \n",
    "\n",
    "k_values = np.arange(1,21)"
   ]
  },
  {
   "cell_type": "code",
   "execution_count": 122,
   "id": "3b06ddcb",
   "metadata": {},
   "outputs": [],
   "source": [
    "# aralıktaki en yüksek değere sahip olan k değerini bulalım\n",
    "\n",
    "mean_test_score = []\n",
    "\n",
    "for k in k_values:\n",
    "    knn = KNeighborsClassifier(n_neighbors= k)\n",
    "    cv_results = cross_validate(knn, X_train_scaled_knn, y_train_knn, cv=5, scoring = \"accuracy\")\n",
    "    mean_test_score.append(cv_results[\"test_score\"].mean())"
   ]
  },
  {
   "cell_type": "code",
   "execution_count": 123,
   "id": "31810635",
   "metadata": {},
   "outputs": [
    {
     "data": {
      "text/plain": [
       "[0.5433333333333333,\n",
       " 0.5266666666666666,\n",
       " 0.6399999999999999,\n",
       " 0.5800000000000001,\n",
       " 0.62,\n",
       " 0.6066666666666667,\n",
       " 0.6633333333333333,\n",
       " 0.6433333333333333,\n",
       " 0.6566666666666666,\n",
       " 0.6466666666666667,\n",
       " 0.6599999999999999,\n",
       " 0.6733333333333332,\n",
       " 0.6699999999999999,\n",
       " 0.6566666666666666,\n",
       " 0.6766666666666667,\n",
       " 0.6733333333333332,\n",
       " 0.6766666666666665,\n",
       " 0.6733333333333332,\n",
       " 0.6933333333333334,\n",
       " 0.6900000000000001]"
      ]
     },
     "execution_count": 123,
     "metadata": {},
     "output_type": "execute_result"
    }
   ],
   "source": [
    "mean_test_score"
   ]
  },
  {
   "cell_type": "code",
   "execution_count": 124,
   "id": "082cd646",
   "metadata": {},
   "outputs": [
    {
     "data": {
      "image/png": "[encoded data removed]",
      "text/plain": [
       "<Figure size 1000x500 with 1 Axes>"
      ]
     },
     "metadata": {},
     "output_type": "display_data"
    }
   ],
   "source": [
    "# en iyi k değerini net görebilmek için grafik oluşturalım\n",
    "\n",
    "plt.figure(figsize=(10,5))\n",
    "plt.plot(k_values, mean_test_score, marker=\"o\")\n",
    "plt.xlabel(\"Komşu sayısı\")\n",
    "plt.ylabel(\"Ortalama Accuracy\")\n",
    "plt.title(\"En İyi k değerini Bulma\")\n",
    "plt.grid()\n",
    "plt.show()"
   ]
  },
  {
   "cell_type": "code",
   "execution_count": 125,
   "id": "b910ee97",
   "metadata": {},
   "outputs": [],
   "source": [
    "# En iyi k sayısına göre modelimizi yeniden kuralım\n",
    "\n",
    "knn_final = KNeighborsClassifier(n_neighbors= 19)"
   ]
  },
  {
   "cell_type": "code",
   "execution_count": 126,
   "id": "505657a3",
   "metadata": {},
   "outputs": [
    {
     "data": {
      "text/html": [
       "<style>#sk-container-id-6 {color: black;background-color: white;}#sk-container-id-6 pre{padding: 0;}#sk-container-id-6 div.sk-toggleable {background-color: white;}#sk-container-id-6 label.sk-toggleable__label {cursor: pointer;display: block;width: 100%;margin-bottom: 0;padding: 0.3em;box-sizing: border-box;text-align: center;}#sk-container-id-6 label.sk-toggleable__label-arrow:before {content: \"▸\";float: left;margin-right: 0.25em;color: #696969;}#sk-container-id-6 label.sk-toggleable__label-arrow:hover:before {color: black;}#sk-container-id-6 div.sk-estimator:hover label.sk-toggleable__label-arrow:before {color: black;}#sk-container-id-6 div.sk-toggleable__content {max-height: 0;max-width: 0;overflow: hidden;text-align: left;background-color: #f0f8ff;}#sk-container-id-6 div.sk-toggleable__content pre {margin: 0.2em;color: black;border-radius: 0.25em;background-color: #f0f8ff;}#sk-container-id-6 input.sk-toggleable__control:checked~div.sk-toggleable__content {max-height: 200px;max-width: 100%;overflow: auto;}#sk-container-id-6 input.sk-toggleable__control:checked~label.sk-toggleable__label-arrow:before {content: \"▾\";}#sk-container-id-6 div.sk-estimator input.sk-toggleable__control:checked~label.sk-toggleable__label {background-color: #d4ebff;}#sk-container-id-6 div.sk-label input.sk-toggleable__control:checked~label.sk-toggleable__label {background-color: #d4ebff;}#sk-container-id-6 input.sk-hidden--visually {border: 0;clip: rect(1px 1px 1px 1px);clip: rect(1px, 1px, 1px, 1px);height: 1px;margin: -1px;overflow: hidden;padding: 0;position: absolute;width: 1px;}#sk-container-id-6 div.sk-estimator {font-family: monospace;background-color: #f0f8ff;border: 1px dotted black;border-radius: 0.25em;box-sizing: border-box;margin-bottom: 0.5em;}#sk-container-id-6 div.sk-estimator:hover {background-color: #d4ebff;}#sk-container-id-6 div.sk-parallel-item::after {content: \"\";width: 100%;border-bottom: 1px solid gray;flex-grow: 1;}#sk-container-id-6 div.sk-label:hover label.sk-toggleable__label {background-color: #d4ebff;}#sk-container-id-6 div.sk-serial::before {content: \"\";position: absolute;border-left: 1px solid gray;box-sizing: border-box;top: 0;bottom: 0;left: 50%;z-index: 0;}#sk-container-id-6 div.sk-serial {display: flex;flex-direction: column;align-items: center;background-color: white;padding-right: 0.2em;padding-left: 0.2em;position: relative;}#sk-container-id-6 div.sk-item {position: relative;z-index: 1;}#sk-container-id-6 div.sk-parallel {display: flex;align-items: stretch;justify-content: center;background-color: white;position: relative;}#sk-container-id-6 div.sk-item::before, #sk-container-id-6 div.sk-parallel-item::before {content: \"\";position: absolute;border-left: 1px solid gray;box-sizing: border-box;top: 0;bottom: 0;left: 50%;z-index: -1;}#sk-container-id-6 div.sk-parallel-item {display: flex;flex-direction: column;z-index: 1;position: relative;background-color: white;}#sk-container-id-6 div.sk-parallel-item:first-child::after {align-self: flex-end;width: 50%;}#sk-container-id-6 div.sk-parallel-item:last-child::after {align-self: flex-start;width: 50%;}#sk-container-id-6 div.sk-parallel-item:only-child::after {width: 0;}#sk-container-id-6 div.sk-dashed-wrapped {border: 1px dashed gray;margin: 0 0.4em 0.5em 0.4em;box-sizing: border-box;padding-bottom: 0.4em;background-color: white;}#sk-container-id-6 div.sk-label label {font-family: monospace;font-weight: bold;display: inline-block;line-height: 1.2em;}#sk-container-id-6 div.sk-label-container {text-align: center;}#sk-container-id-6 div.sk-container {/* jupyter's `normalize.less` sets `[hidden] { display: none; }` but bootstrap.min.css set `[hidden] { display: none !important; }` so we also need the `!important` here to be able to override the default hidden behavior on the sphinx rendered scikit-learn.org. See: https://github.com/scikit-learn/scikit-learn/issues/21755 */display: inline-block !important;position: relative;}#sk-container-id-6 div.sk-text-repr-fallback {display: none;}</style><div id=\"sk-container-id-6\" class=\"sk-top-container\"><div class=\"sk-text-repr-fallback\"><pre>KNeighborsClassifier(n_neighbors=19)</pre><b>In a Jupyter environment, please rerun this cell to show the HTML representation or trust the notebook. <br />On GitHub, the HTML representation is unable to render, please try loading this page with nbviewer.org.</b></div><div class=\"sk-container\" hidden><div class=\"sk-item\"><div class=\"sk-estimator sk-toggleable\"><input class=\"sk-toggleable__control sk-hidden--visually\" id=\"sk-estimator-id-6\" type=\"checkbox\" checked><label for=\"sk-estimator-id-6\" class=\"sk-toggleable__label sk-toggleable__label-arrow\">KNeighborsClassifier</label><div class=\"sk-toggleable__content\"><pre>KNeighborsClassifier(n_neighbors=19)</pre></div></div></div></div></div>"
      ],
      "text/plain": [
       "KNeighborsClassifier(n_neighbors=19)"
      ]
     },
     "execution_count": 126,
     "metadata": {},
     "output_type": "execute_result"
    }
   ],
   "source": [
    "# Modeli en iyi k sayısına göre eğitelim\n",
    "\n",
    "knn_final.fit(X_train_scaled_knn, y_train_knn)"
   ]
  },
  {
   "cell_type": "code",
   "execution_count": 127,
   "id": "7b04348f",
   "metadata": {},
   "outputs": [],
   "source": [
    "# Test verisi üzerinde tahmin yap  --  PREDICT : tahmin etmek\n",
    "\n",
    "y_pred_knn_final= knn_final.predict(X_test_scaled_knn)"
   ]
  },
  {
   "cell_type": "code",
   "execution_count": 128,
   "id": "f524d789",
   "metadata": {},
   "outputs": [
    {
     "name": "stdout",
     "output_type": "stream",
     "text": [
      "KNN Doğruluk (Accuracy): 0.7042857142857143\n"
     ]
    }
   ],
   "source": [
    "# Doğruluk (Accuracy) : Doğru tahmin edilen örneklerin toplam örnek sayısına oranı.\n",
    "\n",
    "accuracy_knn = accuracy_score(y_test_knn, y_pred_knn_final)\n",
    "print(\"KNN Doğruluk (Accuracy):\", accuracy_knn)"
   ]
  },
  {
   "cell_type": "code",
   "execution_count": 129,
   "id": "a1a8480d",
   "metadata": {},
   "outputs": [
    {
     "name": "stdout",
     "output_type": "stream",
     "text": [
      "KNN Kesinlik (Precision): 0.7057971014492753\n"
     ]
    }
   ],
   "source": [
    "# Kesinlik (Precision) : Pozitif sınıf tahminlerinin ne kadarının doğru olduğunu gösterir.\n",
    "\n",
    "precision_knn = precision_score(y_test_knn, y_pred_knn_final)\n",
    "print(\"KNN Kesinlik (Precision):\", precision_knn)"
   ]
  },
  {
   "cell_type": "code",
   "execution_count": 130,
   "id": "e10d8657",
   "metadata": {},
   "outputs": [
    {
     "name": "stdout",
     "output_type": "stream",
     "text": [
      "KNN Duyarlılık (Recall): 0.9918533604887984\n"
     ]
    }
   ],
   "source": [
    "# Duyarlılık (Recall) : Gerçek pozitif sınıfların ne kadarının doğru tahmin edildiğini gösterir.\n",
    "\n",
    "recall_knn= recall_score(y_test_knn, y_pred_knn_final)\n",
    "print(\"KNN Duyarlılık (Recall):\", recall_knn)"
   ]
  },
  {
   "cell_type": "code",
   "execution_count": 131,
   "id": "b9451c6c",
   "metadata": {},
   "outputs": [
    {
     "name": "stdout",
     "output_type": "stream",
     "text": [
      "KNN F1-Skoru: 0.8247248094834886\n"
     ]
    }
   ],
   "source": [
    "# F1-Skoru : Precision ve Recall’un harmonik ortalamasıdır.\n",
    "\n",
    "f1_knn = f1_score(y_test_knn, y_pred_knn_final)\n",
    "print(\"KNN F1-Skoru:\", f1_knn)"
   ]
  },
  {
   "cell_type": "code",
   "execution_count": 132,
   "id": "86513cde",
   "metadata": {},
   "outputs": [],
   "source": [
    "# Detaylı Rapor ve Karışıklık Matrisi : Karışıklık matrisi ve tüm metriklerin özet raporu:\n",
    "\n",
    "karisiklik_matrisi_knn_final = confusion_matrix(y_test_knn, y_pred_knn_final)\n",
    "siniflandirma_raporu_knn_final = classification_report(y_test_knn, y_pred_knn_final)"
   ]
  },
  {
   "cell_type": "code",
   "execution_count": 133,
   "id": "0fd17ec1",
   "metadata": {},
   "outputs": [
    {
     "name": "stdout",
     "output_type": "stream",
     "text": [
      "KNN Karışıklık Matrisi:\n",
      " [[  6 203]\n",
      " [  4 487]]\n",
      "\n",
      "KNN Sınıflandırma Raporu:\n",
      "               precision    recall  f1-score   support\n",
      "\n",
      "           0       0.60      0.03      0.05       209\n",
      "           1       0.71      0.99      0.82       491\n",
      "\n",
      "    accuracy                           0.70       700\n",
      "   macro avg       0.65      0.51      0.44       700\n",
      "weighted avg       0.67      0.70      0.59       700\n",
      "\n"
     ]
    }
   ],
   "source": [
    "print(\"KNN Karışıklık Matrisi:\\n\", karisiklik_matrisi_knn_final)\n",
    "print()\n",
    "print(\"KNN Sınıflandırma Raporu:\\n\", siniflandirma_raporu_knn_final)"
   ]
  },
  {
   "cell_type": "code",
   "execution_count": 134,
   "id": "d686fa11",
   "metadata": {},
   "outputs": [
    {
     "data": {
      "image/png": "[encoded data removed]",
      "text/plain": [
       "<Figure size 640x480 with 2 Axes>"
      ]
     },
     "metadata": {},
     "output_type": "display_data"
    },
    {
     "name": "stdout",
     "output_type": "stream",
     "text": [
      "KNN Sınıflandırma Raporu: \n",
      "KNN Doğruluk (Accuracy): 0.70\n",
      "KNN Kesinlik (Precision): 0.71\n",
      "KNN Duyarlılık (Recall): 0.99\n",
      "KNN F1-Skoru: 0.82\n"
     ]
    }
   ],
   "source": [
    "# Modeli Değerlendirme\n",
    "# Modelin performansını test verisi üzerinde ölçün ve istenilen metrikleri hesaplayın.\n",
    "\n",
    "# Test seti tahminleri\n",
    "y_pred_knn = knn_final.predict(X_test_scaled_knn)\n",
    "\n",
    "# Karışıklık matrisi\n",
    "cm = confusion_matrix(y_test_knn, y_pred_knn)\n",
    "sns.heatmap(cm, annot=True, fmt='d', cmap='Blues', xticklabels=['Negative', 'Positive'], yticklabels=['Negative', 'Positive'])\n",
    "plt.xlabel('Tahmin Edilen')\n",
    "plt.ylabel('Gerçek')\n",
    "plt.title('Karışıklık Matrisi')\n",
    "plt.show()\n",
    "\n",
    "# Sınıflandırma Raporu\n",
    "\n",
    "# Performans metrikleri\n",
    "accuracy = accuracy_score(y_test_knn, y_pred_knn)\n",
    "precision = precision_score(y_test_knn, y_pred_knn, average='binary')  # average='binary' -> ikili sınıflandırma\n",
    "recall = recall_score(y_test_knn, y_pred_knn, average='binary')\n",
    "f1 = f1_score(y_test_knn, y_pred_knn, average='binary')\n",
    "\n",
    "print(\"KNN Sınıflandırma Raporu: \")\n",
    "print(f\"KNN Doğruluk (Accuracy): {accuracy:.2f}\")\n",
    "print(f\"KNN Kesinlik (Precision): {precision:.2f}\")\n",
    "print(f\"KNN Duyarlılık (Recall): {recall:.2f}\")\n",
    "print(f\"KNN F1-Skoru: {f1:.2f}\")\n"
   ]
  },
  {
   "cell_type": "code",
   "execution_count": 135,
   "id": "9acd413e",
   "metadata": {},
   "outputs": [
    {
     "name": "stdout",
     "output_type": "stream",
     "text": [
      "KNN score değeri: 0.7042857142857143\n"
     ]
    }
   ],
   "source": [
    "knn_score = knn_final.score(X_test_scaled_knn, y_test_knn)  \n",
    "print(\"KNN score değeri:\", knn_score)"
   ]
  },
  {
   "cell_type": "markdown",
   "id": "d6621c4b",
   "metadata": {},
   "source": [
    "**model score sonucunu yorumlama:**<br>\n",
    "- %70 oranında başarılı buluyormuş. Çok iyi bir skor değil daha yüksek olması lazım."
   ]
  },
  {
   "cell_type": "markdown",
   "id": "e87796ae",
   "metadata": {},
   "source": [
    "**<span style=\"font-size:32px; color:black;\">5. Model Değerlendirmesi</span>**"
   ]
  },
  {
   "cell_type": "markdown",
   "id": "faf4a12d",
   "metadata": {},
   "source": [
    "# 5.1.Her iki modeli aşağıdaki metriklerle değerlendirin"
   ]
  },
  {
   "cell_type": "markdown",
   "id": "5a9d5838",
   "metadata": {},
   "source": [
    "**Görev 5.1.1**\n",
    "- Karışıklık matrisi."
   ]
  },
  {
   "cell_type": "code",
   "execution_count": 136,
   "id": "c5e053ef",
   "metadata": {},
   "outputs": [
    {
     "name": "stdout",
     "output_type": "stream",
     "text": [
      "Logistic Reg. Karışıklık Matrisi:\n",
      " [[ 40 169]\n",
      " [ 62 429]]\n",
      "----------------------------------------------------\n",
      "KNN Karışıklık Matrisi:\n",
      " [[  6 203]\n",
      " [  4 487]]\n"
     ]
    }
   ],
   "source": [
    "# Logistic Regression confusion matrix, KNN confusion matrix Sonuçları \n",
    "\n",
    "print(\"Logistic Reg. Karışıklık Matrisi:\\n\", karisiklik_matrisi_log)\n",
    "print('----------------------------------------------------')\n",
    "print(\"KNN Karışıklık Matrisi:\\n\", karisiklik_matrisi_knn_final)\n"
   ]
  },
  {
   "cell_type": "markdown",
   "id": "31a3cc55",
   "metadata": {},
   "source": [
    "**Yorumlayalım:**\n",
    "\n",
    "Logistic Regression Karışıklık Matrisi:\n",
    "- True Negatives (TN): 40 \n",
    "- False Positives (FP): 169\n",
    "- False Negatives (FN): 62\n",
    "- True Positives (TP): 429\n",
    "\n",
    "\n",
    "KNN Karışıklık Matrisi:\n",
    "- True Negatives (TN): 6\n",
    "- False Positives (FP): 203\n",
    "- False Negatives (FN): 4\n",
    "- True Positives (TP): 487\n",
    "\n",
    "\n",
    "**Pozitif ve Negatif Sınıflar Üzerindeki Performans**\n",
    "\n",
    "**True Negatives (Doğru negatifler):**  (Negatif sınıfı doğru tahmin etme)\n",
    "- Logistic Regression: 40\n",
    "- KNN: 6\n",
    "\n",
    "Logistic Regression, negatif sınıfı doğru tahmin etme konusunda KNN'den çok daha iyi. Bu, yanlış pozitiflerin azaltılmasını gerektiren durumlarda Logistic Regression'ı daha uygun hale getirir.\n",
    "\n",
    "**False Positives (Yanlış pozitifler):**  (Yanlış pozitif tahmin etme)\n",
    "- Logistic Regression: 169\n",
    "- KNN: 203\n",
    "\n",
    "KNN daha fazla yanlış pozitif tahminde bulunmuş. Bu, pozitif sınıf olarak yanlış tahmin edilen örneklerin Logistic Regression'da daha az olduğunu gösterir.\n",
    "\n",
    "**False Negatives (Yanlış negatifler):**  (Yanlış negatif tahmin etme)\n",
    "- Logistic Regression: 62 \n",
    "- KNN: 4\n",
    "\n",
    "KNN'nin yanlış negatif sayısı çok düşüktür. Bu, pozitif sınıfları kaçırma ihtimalinin Logistic Regression'a göre çok daha az olduğunu gösterir. Bu metrik özellikle Recall (Duyarlılık) açısından KNN'nin üstünlüğünü açıklar.\n",
    "\n",
    "**True Positives (Doğru pozitifler):**   (Pozitif sınıfı doğru tahmin etme)\n",
    "- Logistic Regression: 429\n",
    "- KNN: 487\n",
    "\n",
    "KNN, doğru pozitif tahminlerde de üstünlük sağlamaktadır. Bu, pozitif sınıfı doğru şekilde yakalama kapasitesinin daha yüksek olduğunu gösterir."
   ]
  },
  {
   "cell_type": "markdown",
   "id": "057d8434",
   "metadata": {},
   "source": [
    "**Görev 5.1.2**\n",
    "- Sınıflandırma raporu (Kesinlik, Duyarlılık, F1-Skoru)"
   ]
  },
  {
   "cell_type": "code",
   "execution_count": 137,
   "id": "451edf0c",
   "metadata": {},
   "outputs": [
    {
     "name": "stdout",
     "output_type": "stream",
     "text": [
      "Logistic Reg. Sınıflandırma Raporu:\n",
      "               precision    recall  f1-score   support\n",
      "\n",
      "           0       0.39      0.19      0.26       209\n",
      "           1       0.72      0.87      0.79       491\n",
      "\n",
      "    accuracy                           0.67       700\n",
      "   macro avg       0.55      0.53      0.52       700\n",
      "weighted avg       0.62      0.67      0.63       700\n",
      "\n",
      "----------------------------------------------------\n",
      "KNN Sınıflandırma Raporu:\n",
      "               precision    recall  f1-score   support\n",
      "\n",
      "           0       0.60      0.03      0.05       209\n",
      "           1       0.71      0.99      0.82       491\n",
      "\n",
      "    accuracy                           0.70       700\n",
      "   macro avg       0.65      0.51      0.44       700\n",
      "weighted avg       0.67      0.70      0.59       700\n",
      "\n"
     ]
    }
   ],
   "source": [
    "# Logistic Regression,KNN classification report Sonuçlar\n",
    "\n",
    "print(\"Logistic Reg. Sınıflandırma Raporu:\\n\", siniflandirma_raporu_log)\n",
    "print('----------------------------------------------------')\n",
    "print(\"KNN Sınıflandırma Raporu:\\n\", siniflandirma_raporu_knn_final)"
   ]
  },
  {
   "cell_type": "markdown",
   "id": "a6825fa7",
   "metadata": {},
   "source": [
    "# 5.2.Lojistik Regresyon ve KNN sonuçlarını karşılaştırın. Hangi model daha iyi performans gösteriyor? Neden?"
   ]
  },
  {
   "cell_type": "markdown",
   "id": "78ad7f7a",
   "metadata": {},
   "source": [
    "### Logistic Regresyon & KNN Sonuçları (Doğruluk (Accuracy), Kesinlik (Precision), Duyarlılık (Recall) ve F1-Skoru)"
   ]
  },
  {
   "cell_type": "code",
   "execution_count": 138,
   "id": "b23bb25e",
   "metadata": {},
   "outputs": [
    {
     "name": "stdout",
     "output_type": "stream",
     "text": [
      "Logistic Regression Doğruluk (Accuracy): 0.67\n",
      "Logistic Regression Kesinlik (Precision): 0.717391304347826\n",
      "Logistic Regression Duyarlılık (Recall): 0.8737270875763747\n",
      "Logistic Regression F1-Skoru: 0.7878787878787877\n",
      "--------------------------------------------------------------\n",
      "KNN Doğruluk (Accuracy): 0.7042857142857143\n",
      "KNN Kesinlik (Precision): 0.7057971014492753\n",
      "KNN Duyarlılık (Recall): 0.9918533604887984\n",
      "KNN F1-Skoru: 0.8247248094834886\n"
     ]
    }
   ],
   "source": [
    "# Doğruluk (Accuracy) : Doğru tahmin edilen örneklerin toplam örnek sayısına oranı.\n",
    "\n",
    "print(\"Logistic Regression Doğruluk (Accuracy):\", accuracy_log)\n",
    "print(\"Logistic Regression Kesinlik (Precision):\", precision_log)\n",
    "print(\"Logistic Regression Duyarlılık (Recall):\", recall_log)\n",
    "print(\"Logistic Regression F1-Skoru:\", f1_log)\n",
    "\n",
    "print(\"--------------------------------------------------------------\")\n",
    "\n",
    "print(\"KNN Doğruluk (Accuracy):\", accuracy_knn)\n",
    "print(\"KNN Kesinlik (Precision):\", precision_knn)\n",
    "print(\"KNN Duyarlılık (Recall):\", recall_knn)\n",
    "print(\"KNN F1-Skoru:\", f1_knn)"
   ]
  },
  {
   "cell_type": "markdown",
   "id": "28fbd393",
   "metadata": {},
   "source": [
    "- **Accuracy(Doğruluk) Yorum:** KNN, doğruluk açısından daha iyi performans göstermektedir. Bu, genel olarak daha fazla doğru tahminde bulunduğunu ifade eder.\n",
    "\n",
    "- **Precision(Kesinlik) Yorum:** Precision, pozitif tahminlerin doğruluğunu ölçer. Logistic Regression bu açıdan KNN'den biraz daha iyi, yani yaptığı pozitif tahminler arasında hatalı olanların oranı daha düşüktür.\n",
    "\n",
    "- **Recall(Duyarlılık) Yorum:** Duyarlılık, gerçek pozitifleri doğru tahmin etme oranını ölçer. Burada, KNN çok daha iyi bir performans göstermektedir, yani pozitif sınıfın neredeyse tamamını doğru tahmin edebilmiştir. Logistic Regression da iyi bir performans göstermesine rağmen, KNN bu metrikte bariz bir üstünlük sağlamıştır.\n",
    "\n",
    "- **F1-Skoru Yorum:** F1-Skoru, kesinlik ve duyarlılığı birleştirerek dengeli bir performans ölçütü sağlar. KNN, F1-Skoru açısından daha iyi bir sonuç vermektedir. Bu, hem kesinlik hem de duyarlılık arasında daha iyi bir denge sağladığını gösterir.\n",
    "\n",
    "### Genel Değerlendirme\n",
    "- Accuracy ve F1-Skoru metriklerinde KNN öne çıkıyor.\n",
    "- Recall açısından KNN çok yüksek bir performans sergiliyor, bu da pozitif sınıfın neredeyse tamamını doğru tahmin ettiğini gösteriyor.\n",
    "- Precision (Kesinlik) açısından ise Logistic Regression biraz daha iyi, bu da KNN'nin daha fazla yanlış pozitif tahmin yaptığını gösterebilir.\n",
    "<br>\n",
    "\n",
    "\n",
    "## ÖNEMLİ NOT: \n",
    "- Eğerki bir veri setinde dengesizlik varsa değerlendirmelerin F1 Score'a göre yapılması daha sağlıklı olacaktır.\n",
    "- F1-Score, özellikle dengesiz veri setlerinde modelin azınlık sınıfına ne kadar duyarlı ve doğru olduğunu ölçerken daha anlamlı bir metrik sunar. Accuracy, dengesiz veri setlerinde yanıltıcı olabileceğinden, F1-Score genellikle daha doğru ve güvenilir bir değerlendirme sağlar.\n",
    "\n",
    "**Logistic Regression F1-Skoru:** 0.7878787878787877\n",
    "\n",
    "**KNN F1-Skoru:** 0.8247248094834886\n",
    "\n",
    "\n",
    "**Genel performans açısından bakıldığında, KNN daha iyi sonuç vermiştir, çünkü hem doğruluk hem de F1-Skoru daha yüksektir ve pozitif sınıfı yakalama konusunda üstünlük sağlamıştır.**\n"
   ]
  }
 ],
 "metadata": {
  "kernelspec": {
   "display_name": "Python 3 (ipykernel)",
   "language": "python",
   "name": "python3"
  },
  "language_info": {
   "codemirror_mode": {
    "name": "ipython",
    "version": 3
   },
   "file_extension": ".py",
   "mimetype": "text/x-python",
   "name": "python",
   "nbconvert_exporter": "python",
   "pygments_lexer": "ipython3",
   "version": "3.11.3"
  }
 },
 "nbformat": 4,
 "nbformat_minor": 5
}
